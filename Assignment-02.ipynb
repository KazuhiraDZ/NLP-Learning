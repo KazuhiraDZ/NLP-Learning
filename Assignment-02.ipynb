{
 "cells": [
  {
   "cell_type": "markdown",
   "metadata": {},
   "source": [
    "# Assignment-02, Probability Model A First Look: An Introduction of Language Model"
   ]
  },
  {
   "cell_type": "markdown",
   "metadata": {},
   "source": [
    "## Assignment\n",
    "\n",
    "1. Review the course online programming code; \n",
    "2. Review the main questions; \n",
    "3. Using wikipedia corpus to build a language model. "
   ]
  },
  {
   "cell_type": "markdown",
   "metadata": {},
   "source": [
    "## 1. Review the course online programming code. "
   ]
  },
  {
   "cell_type": "markdown",
   "metadata": {},
   "source": [
    "*In this part, you should re-code the programming task in our online course.*\n",
    "\n",
    "> \n",
    "> \n",
    "\n",
    "> \n",
    "> \n",
    "\n",
    "\n",
    "\n"
   ]
  },
  {
   "cell_type": "code",
   "execution_count": 1,
   "metadata": {},
   "outputs": [
    {
     "name": "stdout",
     "output_type": "stream",
     "text": [
      "/Users/zhao/Documents/NLP-Learning\r\n"
     ]
    }
   ],
   "source": [
    "!pwd"
   ]
  },
  {
   "cell_type": "code",
   "execution_count": 3,
   "metadata": {},
   "outputs": [
    {
     "data": {
      "text/html": [
       "<div>\n",
       "<style scoped>\n",
       "    .dataframe tbody tr th:only-of-type {\n",
       "        vertical-align: middle;\n",
       "    }\n",
       "\n",
       "    .dataframe tbody tr th {\n",
       "        vertical-align: top;\n",
       "    }\n",
       "\n",
       "    .dataframe thead th {\n",
       "        text-align: right;\n",
       "    }\n",
       "</style>\n",
       "<table border=\"1\" class=\"dataframe\">\n",
       "  <thead>\n",
       "    <tr style=\"text-align: right;\">\n",
       "      <th></th>\n",
       "      <th>id</th>\n",
       "      <th>author</th>\n",
       "      <th>source</th>\n",
       "      <th>content</th>\n",
       "      <th>feature</th>\n",
       "      <th>title</th>\n",
       "      <th>url</th>\n",
       "    </tr>\n",
       "  </thead>\n",
       "  <tbody>\n",
       "    <tr>\n",
       "      <th>0</th>\n",
       "      <td>89617</td>\n",
       "      <td>NaN</td>\n",
       "      <td>快科技@http://www.kkj.cn/</td>\n",
       "      <td>此外，自本周（6月12日）起，除小米手机6等15款机型外，其余机型已暂停更新发布（含开发版/...</td>\n",
       "      <td>{\"type\":\"科技\",\"site\":\"cnbeta\",\"commentNum\":\"37\"...</td>\n",
       "      <td>小米MIUI 9首批机型曝光：共计15款</td>\n",
       "      <td>http://www.cnbeta.com/articles/tech/623597.htm</td>\n",
       "    </tr>\n",
       "    <tr>\n",
       "      <th>1</th>\n",
       "      <td>89616</td>\n",
       "      <td>NaN</td>\n",
       "      <td>快科技@http://www.kkj.cn/</td>\n",
       "      <td>骁龙835作为唯一通过Windows 10桌面平台认证的ARM处理器，高通强调，不会因为只考...</td>\n",
       "      <td>{\"type\":\"科技\",\"site\":\"cnbeta\",\"commentNum\":\"15\"...</td>\n",
       "      <td>骁龙835在Windows 10上的性能表现有望改善</td>\n",
       "      <td>http://www.cnbeta.com/articles/tech/623599.htm</td>\n",
       "    </tr>\n",
       "    <tr>\n",
       "      <th>2</th>\n",
       "      <td>89615</td>\n",
       "      <td>NaN</td>\n",
       "      <td>快科技@http://www.kkj.cn/</td>\n",
       "      <td>此前的一加3T搭载的是3400mAh电池，DashCharge快充规格为5V/4A。\\r\\n...</td>\n",
       "      <td>{\"type\":\"科技\",\"site\":\"cnbeta\",\"commentNum\":\"18\"...</td>\n",
       "      <td>一加手机5细节曝光：3300mAh、充半小时用1天</td>\n",
       "      <td>http://www.cnbeta.com/articles/tech/623601.htm</td>\n",
       "    </tr>\n",
       "    <tr>\n",
       "      <th>3</th>\n",
       "      <td>89614</td>\n",
       "      <td>NaN</td>\n",
       "      <td>新华社</td>\n",
       "      <td>这是6月18日在葡萄牙中部大佩德罗冈地区拍摄的被森林大火烧毁的汽车。新华社记者张立云摄\\r\\n</td>\n",
       "      <td>{\"type\":\"国际新闻\",\"site\":\"环球\",\"commentNum\":\"0\",\"j...</td>\n",
       "      <td>葡森林火灾造成至少62人死亡 政府宣布进入紧急状态（组图）</td>\n",
       "      <td>http://world.huanqiu.com/hot/2017-06/10866126....</td>\n",
       "    </tr>\n",
       "    <tr>\n",
       "      <th>4</th>\n",
       "      <td>89613</td>\n",
       "      <td>胡淑丽_MN7479</td>\n",
       "      <td>深圳大件事</td>\n",
       "      <td>（原标题：44岁女子跑深圳约会网友被拒，暴雨中裸身奔走……）\\r\\n@深圳交警微博称：昨日清...</td>\n",
       "      <td>{\"type\":\"新闻\",\"site\":\"网易热门\",\"commentNum\":\"978\",...</td>\n",
       "      <td>44岁女子约网友被拒暴雨中裸奔 交警为其披衣相随</td>\n",
       "      <td>http://news.163.com/17/0618/00/CN617P3Q0001875...</td>\n",
       "    </tr>\n",
       "    <tr>\n",
       "      <th>5</th>\n",
       "      <td>89612</td>\n",
       "      <td>张怡</td>\n",
       "      <td>中国证券报?中证网</td>\n",
       "      <td>受到A股被纳入MSCI指数的利好消息刺激，A股市场从周三开始再度上演龙马行情，周四上午金...</td>\n",
       "      <td>{\"type\":\"市场\",\"site\":\"中证网\",\"commentNum\":\"0\",\"jo...</td>\n",
       "      <td>金融股一枝独秀 配置价值犹存</td>\n",
       "      <td>http://www.cs.com.cn/gppd/201706/t20170623_533...</td>\n",
       "    </tr>\n",
       "    <tr>\n",
       "      <th>6</th>\n",
       "      <td>89611</td>\n",
       "      <td>NaN</td>\n",
       "      <td>威锋网@http://www.feng.com/</td>\n",
       "      <td>虽然至今夏普智能手机在市场上无法排得上号，已经完全没落，并于 2013 年退出中国市场，但是...</td>\n",
       "      <td>{\"type\":\"科技\",\"site\":\"cnbeta\",\"commentNum\":\"21\"...</td>\n",
       "      <td>配骁龙660 全面屏鼻祖夏普新机酝酿中</td>\n",
       "      <td>http://www.cnbeta.com/articles/tech/623603.htm</td>\n",
       "    </tr>\n",
       "    <tr>\n",
       "      <th>7</th>\n",
       "      <td>89610</td>\n",
       "      <td>申玉彬 整理</td>\n",
       "      <td>中国证券报?中证网</td>\n",
       "      <td>沙漠雄鹰：震荡有利消化套牢筹码\\r\\n　　周四开盘上证50在银行券商大蓝筹带动下一度涨近...</td>\n",
       "      <td>{\"type\":\"市场\",\"site\":\"中证网\",\"commentNum\":\"0\",\"jo...</td>\n",
       "      <td>博友早评：震荡有利消化套牢筹码</td>\n",
       "      <td>http://www.cs.com.cn/gppd/201706/t20170623_533...</td>\n",
       "    </tr>\n",
       "    <tr>\n",
       "      <th>8</th>\n",
       "      <td>89609</td>\n",
       "      <td>李杭_BJS4645</td>\n",
       "      <td>荆楚网-楚天都市报</td>\n",
       "      <td>（原标题：武汉警方一下子抓了808人，还都是俊男靓女！原来他们每天偷偷摸摸干这事！）\\r\\n...</td>\n",
       "      <td>{\"type\":\"新闻\",\"site\":\"网易热门\",\"commentNum\":\"1600\"...</td>\n",
       "      <td>武汉千余警察出动 抓获808名俊男靓女全是诈骗犯</td>\n",
       "      <td>http://news.163.com/17/0614/14/CMT9N8G80001899...</td>\n",
       "    </tr>\n",
       "    <tr>\n",
       "      <th>9</th>\n",
       "      <td>89608</td>\n",
       "      <td>吴瞬</td>\n",
       "      <td>中国证券报?中证网</td>\n",
       "      <td>6月21日，A股纳入MSCI指数尘埃落定，但当天被寄予厚望的券商股并未扛起反弹大旗。22...</td>\n",
       "      <td>{\"type\":\"市场\",\"site\":\"中证网\",\"commentNum\":\"0\",\"jo...</td>\n",
       "      <td>纳入MSCI指数 A股长期配置价值提升</td>\n",
       "      <td>http://www.cs.com.cn/gppd/201706/t20170623_533...</td>\n",
       "    </tr>\n",
       "    <tr>\n",
       "      <th>10</th>\n",
       "      <td>89607</td>\n",
       "      <td>NaN</td>\n",
       "      <td>证券时报网</td>\n",
       "      <td>证券时报网（www.stcn.com）06月23日讯\\r\\n　　据上证报道，6月初以来，...</td>\n",
       "      <td>{\"type\":\"市场\",\"site\":\"中证网\",\"commentNum\":\"0\",\"jo...</td>\n",
       "      <td>私募：蓝筹风格难切换 业绩估值相配是王道</td>\n",
       "      <td>http://www.cs.com.cn/gppd/201706/t20170623_533...</td>\n",
       "    </tr>\n",
       "    <tr>\n",
       "      <th>11</th>\n",
       "      <td>89606</td>\n",
       "      <td>NaN</td>\n",
       "      <td>证券时报网</td>\n",
       "      <td>?\\r\\n　　巨丰早评：市场将再次探底\\r\\n　　【巨丰观点】\\r\\n　　周四大盘冲高回落，...</td>\n",
       "      <td>{\"type\":\"市场\",\"site\":\"中证网\",\"commentNum\":\"0\",\"jo...</td>\n",
       "      <td>早间机构看市：市场将再次探底 两类股逢低布局</td>\n",
       "      <td>http://www.cs.com.cn/gppd/201706/t20170623_533...</td>\n",
       "    </tr>\n",
       "    <tr>\n",
       "      <th>12</th>\n",
       "      <td>89605</td>\n",
       "      <td>NaN</td>\n",
       "      <td>中国新闻网</td>\n",
       "      <td>中新网6月19日电 据外媒报道，美国底特律一名男子1976年因为一根头发被定谋杀罪，监禁41...</td>\n",
       "      <td>{\"type\":\"国际新闻\",\"site\":\"环球\",\"commentNum\":\"0\",\"j...</td>\n",
       "      <td>因为犯罪现场的一根头发，他坐冤狱41年后终获释</td>\n",
       "      <td>http://world.huanqiu.com/hot/2017-06/10866136....</td>\n",
       "    </tr>\n",
       "    <tr>\n",
       "      <th>13</th>\n",
       "      <td>89604</td>\n",
       "      <td>申玉彬 整理</td>\n",
       "      <td>中国证券报?中证网</td>\n",
       "      <td>曹先生：风格转换前的阵痛\\r\\n　　今日早盘两地低开，之后一度震荡走高，领涨的仍然是上证...</td>\n",
       "      <td>{\"type\":\"市场\",\"site\":\"中证网\",\"commentNum\":\"0\",\"jo...</td>\n",
       "      <td>博友午评：风格转换前的阵痛</td>\n",
       "      <td>http://www.cs.com.cn/gppd/201706/t20170623_533...</td>\n",
       "    </tr>\n",
       "    <tr>\n",
       "      <th>14</th>\n",
       "      <td>89603</td>\n",
       "      <td>NaN</td>\n",
       "      <td>国际在线</td>\n",
       "      <td>6月21日，MSCI在官网发布公告称，从明年6月起将中国A股纳入MSCI新兴市场指数和MSC...</td>\n",
       "      <td>{\"type\":\"观点滚动\",\"site\":\"参考消息\",\"commentNum\":\"0\",...</td>\n",
       "      <td>MSCI闯关成功会是A股的一针强心剂吗？</td>\n",
       "      <td>http://column.cankaoxiaoxi.com/plgd/2017/0623/...</td>\n",
       "    </tr>\n",
       "    <tr>\n",
       "      <th>15</th>\n",
       "      <td>89602</td>\n",
       "      <td>费天元</td>\n",
       "      <td>中国证券网</td>\n",
       "      <td>中国证券网讯（记者 费天元）沪深两市周五临近午盘出现快速跳水，沪指连续跌穿5日、10日及...</td>\n",
       "      <td>{\"type\":\"市场\",\"site\":\"中证网\",\"commentNum\":\"0\",\"jo...</td>\n",
       "      <td>地产股拉升难阻市场颓势 三大指数早盘集体跳水</td>\n",
       "      <td>http://www.cs.com.cn/gppd/201706/t20170623_533...</td>\n",
       "    </tr>\n",
       "    <tr>\n",
       "      <th>16</th>\n",
       "      <td>89601</td>\n",
       "      <td>NaN</td>\n",
       "      <td>solidot@</td>\n",
       "      <td>九成以上的源包用逐位对应的方式构建，未来版本的 Debian 还将提供验证包的工具和元数据；...</td>\n",
       "      <td>{\"type\":\"软件\",\"site\":\"cnbeta\",\"commentNum\":\"12\"...</td>\n",
       "      <td>Debian 9 Stretch 发布</td>\n",
       "      <td>http://www.cnbeta.com/articles/soft/623605.htm</td>\n",
       "    </tr>\n",
       "    <tr>\n",
       "      <th>17</th>\n",
       "      <td>89600</td>\n",
       "      <td>NaN</td>\n",
       "      <td>新华网</td>\n",
       "      <td>国歌法草案首次提请最高立法机关审议\\r\\n点击图片进入下一页\\r\\n新闻：十二届全国人大常委...</td>\n",
       "      <td>{\"type\":\"观点滚动\",\"site\":\"参考消息\",\"commentNum\":\"0\",...</td>\n",
       "      <td>[及时点]我们不需要“百变老太太”</td>\n",
       "      <td>http://column.cankaoxiaoxi.com/plgd/2017/0623/...</td>\n",
       "    </tr>\n",
       "    <tr>\n",
       "      <th>18</th>\n",
       "      <td>89599</td>\n",
       "      <td>张怡</td>\n",
       "      <td>中国证券报?中证网</td>\n",
       "      <td>中证网讯 （本报记者 张怡）今日，三板做市指数继续低开下行，盘中最低触及1057.91点...</td>\n",
       "      <td>{\"type\":\"市场\",\"site\":\"中证网\",\"commentNum\":\"0\",\"jo...</td>\n",
       "      <td>新三板午评：三板做市指数刷新阶段低点</td>\n",
       "      <td>http://www.cs.com.cn/gppd/201706/t20170623_533...</td>\n",
       "    </tr>\n",
       "    <tr>\n",
       "      <th>19</th>\n",
       "      <td>89598</td>\n",
       "      <td>周佳 整理</td>\n",
       "      <td>中国证券报?中证网</td>\n",
       "      <td>提示声明：\\r\\n　　本文涉及的行业及个股分析来源于券商研究报告，仅为分析人士对该行业及...</td>\n",
       "      <td>{\"type\":\"市场\",\"site\":\"中证网\",\"commentNum\":\"0\",\"jo...</td>\n",
       "      <td>机构解析：下周热点板块及个股探秘（附股）</td>\n",
       "      <td>http://www.cs.com.cn/gppd/hyyj/201706/t2017062...</td>\n",
       "    </tr>\n",
       "    <tr>\n",
       "      <th>20</th>\n",
       "      <td>89597</td>\n",
       "      <td>NaN</td>\n",
       "      <td>泡泡网</td>\n",
       "      <td>原标题：叙利亚被“袭机”事件惹怒俄罗斯 警告将瞄准美战机\\r\\n　　海外网6月19日电 ...</td>\n",
       "      <td>{\"type\":\"军事\",\"site\":\"新浪\",\"commentNum\":\" 95\",\"j...</td>\n",
       "      <td>美军击落叙战机激怒俄罗斯 俄警告将瞄准美军战机</td>\n",
       "      <td>http://mil.news.sina.com.cn/world/2017-06-20/d...</td>\n",
       "    </tr>\n",
       "    <tr>\n",
       "      <th>21</th>\n",
       "      <td>89596</td>\n",
       "      <td>周佳 整理</td>\n",
       "      <td>中国证券报?中证网</td>\n",
       "      <td>提示声明：\\r\\n　　本文涉及的行业及个股分析来源于券商研究报告，仅为分析人士对该行业及...</td>\n",
       "      <td>{\"type\":\"市场\",\"site\":\"中证网\",\"commentNum\":\"0\",\"jo...</td>\n",
       "      <td>机构推荐：下周具备布局潜力金股</td>\n",
       "      <td>http://www.cs.com.cn/gppd/tzpj/201706/t2017062...</td>\n",
       "    </tr>\n",
       "    <tr>\n",
       "      <th>22</th>\n",
       "      <td>89595</td>\n",
       "      <td>NaN</td>\n",
       "      <td>威锋网@http://www.feng.com/</td>\n",
       "      <td>就在这几天，一位微博名为“摩卡 RQ ”的手机、芯片、移动互联网三界知名独立评论人爆料称，O...</td>\n",
       "      <td>{\"type\":\"科技\",\"site\":\"cnbeta\",\"commentNum\":\"56\"...</td>\n",
       "      <td>业内人士解释为什么OPPO供货能力强无敌</td>\n",
       "      <td>http://www.cnbeta.com/articles/tech/623607.htm</td>\n",
       "    </tr>\n",
       "    <tr>\n",
       "      <th>23</th>\n",
       "      <td>89594</td>\n",
       "      <td>张怡</td>\n",
       "      <td>中国证券报?中证网</td>\n",
       "      <td>中证网讯 （本报记者 张怡）与此前两日蓝筹股强势格局不同，周五，A股市场主要指数低开之后...</td>\n",
       "      <td>{\"type\":\"市场\",\"site\":\"中证网\",\"commentNum\":\"0\",\"jo...</td>\n",
       "      <td>中证午评：A股跳水 蓝筹暂歇热点熄火</td>\n",
       "      <td>http://www.cs.com.cn/gppd/201706/t20170623_533...</td>\n",
       "    </tr>\n",
       "    <tr>\n",
       "      <th>24</th>\n",
       "      <td>89593</td>\n",
       "      <td>屠震林 PS040</td>\n",
       "      <td>凤凰体育</td>\n",
       "      <td>北京时间6月20日，江苏苏宁足球俱乐部发布了足协杯第四轮江苏苏宁易购队主场对阵河南建业队的官...</td>\n",
       "      <td>{\"type\":\"体育\",\"site\":\"凤凰\",\"commentNum\":\"1\",\"joi...</td>\n",
       "      <td>“齐心协力”--江苏苏宁发布足协杯对阵河南建业海报</td>\n",
       "      <td>http://sports.ifeng.com/a/20170620/51284188_0....</td>\n",
       "    </tr>\n",
       "    <tr>\n",
       "      <th>25</th>\n",
       "      <td>89592</td>\n",
       "      <td>NaN</td>\n",
       "      <td>新华网</td>\n",
       "      <td>当地时间2017年6月17日，土耳其马尼萨省，在土耳其第1步兵训练大队司令部军营，590名土...</td>\n",
       "      <td>{\"type\":\"国际新闻\",\"site\":\"环球\",\"commentNum\":\"0\",\"j...</td>\n",
       "      <td>土耳其近590名士兵疑食物中毒 被送往医院救治（组图）</td>\n",
       "      <td>http://world.huanqiu.com/hot/2017-06/10866176....</td>\n",
       "    </tr>\n",
       "    <tr>\n",
       "      <th>26</th>\n",
       "      <td>89591</td>\n",
       "      <td>NaN</td>\n",
       "      <td>雷锋网@</td>\n",
       "      <td>今年3月份，王劲从百度自动驾驶事业部任上离职，随后创办景驰科技。在随后的日子里，景驰很快组建...</td>\n",
       "      <td>{\"type\":\"科技\",\"site\":\"cnbeta\",\"commentNum\":\"4\",...</td>\n",
       "      <td>又一自动驾驶公司拿加州路测牌照 这回是王劲的景驰</td>\n",
       "      <td>http://www.cnbeta.com/articles/tech/623609.htm</td>\n",
       "    </tr>\n",
       "    <tr>\n",
       "      <th>27</th>\n",
       "      <td>89590</td>\n",
       "      <td>NaN</td>\n",
       "      <td>新华网</td>\n",
       "      <td>英国与欧盟的“脱欧”谈判于19日正式开始。然而此时，英国首相特雷莎·梅正面临着空前的政治压力...</td>\n",
       "      <td>{\"type\":\"国际新闻\",\"site\":\"环球\",\"commentNum\":\"0\",\"j...</td>\n",
       "      <td>火灾与脱欧炙烤英国首相 特雷莎·梅面临空前政治压力</td>\n",
       "      <td>http://world.huanqiu.com/hot/2017-06/10866198....</td>\n",
       "    </tr>\n",
       "    <tr>\n",
       "      <th>28</th>\n",
       "      <td>89589</td>\n",
       "      <td>NaN</td>\n",
       "      <td>中超球评</td>\n",
       "      <td>中超联赛第13轮比赛已经全部结束，这轮比赛中最让人觉得结果有些出乎意料的，莫过于卡佩罗执教江...</td>\n",
       "      <td>{\"type\":\"体育\",\"site\":\"凤凰\",\"commentNum\":\"0\",\"joi...</td>\n",
       "      <td>江苏保级真悬了 近3年1铁律证明其几乎保级无望</td>\n",
       "      <td>http://sports.ifeng.com/a/20170620/51284719_0....</td>\n",
       "    </tr>\n",
       "    <tr>\n",
       "      <th>29</th>\n",
       "      <td>89588</td>\n",
       "      <td>NaN</td>\n",
       "      <td>中国经济周刊</td>\n",
       "      <td>文章导读： 供应商围堵追债、20多位高管离职、上千人被裁员、孤注一掷史上最大规模的降价…...</td>\n",
       "      <td>{\"type\":\"科技\",\"site\":\"新浪\",\"commentNum\":\" 6\",\"jo...</td>\n",
       "      <td>乐视危局：靠卖资产续命 员工被猎头大规模拉黑</td>\n",
       "      <td>http://tech.sina.com.cn/i/2017-06-20/doc-ifyhf...</td>\n",
       "    </tr>\n",
       "    <tr>\n",
       "      <th>...</th>\n",
       "      <td>...</td>\n",
       "      <td>...</td>\n",
       "      <td>...</td>\n",
       "      <td>...</td>\n",
       "      <td>...</td>\n",
       "      <td>...</td>\n",
       "      <td>...</td>\n",
       "    </tr>\n",
       "    <tr>\n",
       "      <th>89581</th>\n",
       "      <td>30</td>\n",
       "      <td>INACIO ROSA</td>\n",
       "      <td>新华社</td>\n",
       "      <td>新华社照片，外代，2017年6月7日\\n（外代二线）足球——世预赛：葡萄牙备战\\n6月6日，...</td>\n",
       "      <td>{\"type\":\"足球\",\"site\":\"新华社\",\"url\":\"http://home.x...</td>\n",
       "      <td>[2]（外代二线）足球——世预赛：葡萄牙备战</td>\n",
       "      <td>http://home.xinhua-news.com/gdsdetailxhsnew/22...</td>\n",
       "    </tr>\n",
       "    <tr>\n",
       "      <th>89582</th>\n",
       "      <td>29</td>\n",
       "      <td>INACIO ROSA</td>\n",
       "      <td>新华社</td>\n",
       "      <td>新华社照片，外代，2017年6月7日\\n（外代二线）足球——世预赛：葡萄牙备战\\n6月6日，...</td>\n",
       "      <td>{\"type\":\"足球\",\"site\":\"新华社\",\"url\":\"http://home.x...</td>\n",
       "      <td>[3]（外代二线）足球——世预赛：葡萄牙备战</td>\n",
       "      <td>http://home.xinhua-news.com/gdsdetailxhsnew/22...</td>\n",
       "    </tr>\n",
       "    <tr>\n",
       "      <th>89583</th>\n",
       "      <td>28</td>\n",
       "      <td>INACIO ROSA</td>\n",
       "      <td>新华社</td>\n",
       "      <td>新华社照片，外代，2017年6月7日\\n（外代二线）足球——世预赛：葡萄牙备战\\n6月6日，...</td>\n",
       "      <td>{\"type\":\"足球\",\"site\":\"新华社\",\"url\":\"http://home.x...</td>\n",
       "      <td>[4]（外代二线）足球——世预赛：葡萄牙备战</td>\n",
       "      <td>http://home.xinhua-news.com/gdsdetailxhsnew/22...</td>\n",
       "    </tr>\n",
       "    <tr>\n",
       "      <th>89584</th>\n",
       "      <td>27</td>\n",
       "      <td>INACIO ROSA</td>\n",
       "      <td>新华社</td>\n",
       "      <td>新华社照片，外代，2017年6月7日\\n（外代二线）足球——世预赛：葡萄牙备战\\n6月6日，...</td>\n",
       "      <td>{\"type\":\"足球\",\"site\":\"新华社\",\"url\":\"http://home.x...</td>\n",
       "      <td>[5]（外代二线）足球——世预赛：葡萄牙备战</td>\n",
       "      <td>http://home.xinhua-news.com/gdsdetailxhsnew/22...</td>\n",
       "    </tr>\n",
       "    <tr>\n",
       "      <th>89585</th>\n",
       "      <td>26</td>\n",
       "      <td>INACIO ROSA</td>\n",
       "      <td>新华社</td>\n",
       "      <td>新华社照片，外代，2017年6月7日\\n（外代二线）足球——世预赛：葡萄牙备战\\n6月6日，...</td>\n",
       "      <td>{\"type\":\"足球\",\"site\":\"新华社\",\"url\":\"http://home.x...</td>\n",
       "      <td>[6]（外代二线）足球——世预赛：葡萄牙备战</td>\n",
       "      <td>http://home.xinhua-news.com/gdsdetailxhsnew/22...</td>\n",
       "    </tr>\n",
       "    <tr>\n",
       "      <th>89586</th>\n",
       "      <td>25</td>\n",
       "      <td>INACIO ROSA</td>\n",
       "      <td>新华社</td>\n",
       "      <td>新华社照片，外代，2017年6月7日\\n（外代二线）足球——世预赛：葡萄牙备战\\n6月6日，...</td>\n",
       "      <td>{\"type\":\"足球\",\"site\":\"新华社\",\"url\":\"http://home.x...</td>\n",
       "      <td>[7]（外代二线）足球——世预赛：葡萄牙备战</td>\n",
       "      <td>http://home.xinhua-news.com/gdsdetailxhsnew/22...</td>\n",
       "    </tr>\n",
       "    <tr>\n",
       "      <th>89587</th>\n",
       "      <td>24</td>\n",
       "      <td>LOVELY GHOSH</td>\n",
       "      <td>新华社</td>\n",
       "      <td>新华社照片，外代，2017年6月7日\\n（外代二线）蚕丝生产\\n6月6日，在印度特里普拉邦特...</td>\n",
       "      <td>{\"type\":\"其它\",\"site\":\"新华社\",\"url\":\"http://home.x...</td>\n",
       "      <td>[1]（外代二线）蚕丝生产</td>\n",
       "      <td>http://home.xinhua-news.com/gdsdetailxhsnew/22...</td>\n",
       "    </tr>\n",
       "    <tr>\n",
       "      <th>89588</th>\n",
       "      <td>23</td>\n",
       "      <td>LOVELY GHOSH</td>\n",
       "      <td>新华社</td>\n",
       "      <td>新华社照片，外代，2017年6月7日\\n（外代二线）蚕丝生产\\n6月6日，在印度特里普拉邦特...</td>\n",
       "      <td>{\"type\":\"其它\",\"site\":\"新华社\",\"url\":\"http://home.x...</td>\n",
       "      <td>[2]（外代二线）蚕丝生产</td>\n",
       "      <td>http://home.xinhua-news.com/gdsdetailxhsnew/22...</td>\n",
       "    </tr>\n",
       "    <tr>\n",
       "      <th>89589</th>\n",
       "      <td>22</td>\n",
       "      <td>LOVELY GHOSH</td>\n",
       "      <td>新华社</td>\n",
       "      <td>新华社照片，外代，2017年6月7日\\n（外代二线）蚕丝生产\\n5月30日，在印度特里普拉邦...</td>\n",
       "      <td>{\"type\":\"其它\",\"site\":\"新华社\",\"url\":\"http://home.x...</td>\n",
       "      <td>[3]（外代二线）蚕丝生产</td>\n",
       "      <td>http://home.xinhua-news.com/gdsdetailxhsnew/22...</td>\n",
       "    </tr>\n",
       "    <tr>\n",
       "      <th>89590</th>\n",
       "      <td>21</td>\n",
       "      <td>LOVELY GHOSH</td>\n",
       "      <td>新华社</td>\n",
       "      <td>新华社照片，外代，2017年6月7日\\n（外代二线）蚕丝生产\\n6月6日，在印度特里普拉邦特...</td>\n",
       "      <td>{\"type\":\"其它\",\"site\":\"新华社\",\"url\":\"http://home.x...</td>\n",
       "      <td>[4]（外代二线）蚕丝生产</td>\n",
       "      <td>http://home.xinhua-news.com/gdsdetailxhsnew/22...</td>\n",
       "    </tr>\n",
       "    <tr>\n",
       "      <th>89591</th>\n",
       "      <td>20</td>\n",
       "      <td>LOVELY GHOSH</td>\n",
       "      <td>新华社</td>\n",
       "      <td>新华社照片，外代，2017年6月7日\\n（外代二线）蚕丝生产\\n5月30日，在印度特里普拉邦...</td>\n",
       "      <td>{\"type\":\"其它\",\"site\":\"新华社\",\"url\":\"http://home.x...</td>\n",
       "      <td>[5]（外代二线）蚕丝生产</td>\n",
       "      <td>http://home.xinhua-news.com/gdsdetailxhsnew/22...</td>\n",
       "    </tr>\n",
       "    <tr>\n",
       "      <th>89592</th>\n",
       "      <td>19</td>\n",
       "      <td>张旌</td>\n",
       "      <td>新华社</td>\n",
       "      <td>\\n\\n2017年4月27日，在首尔光化门广场，民众在集会上手举反“萨德”标语。（新华社记者...</td>\n",
       "      <td>{\"type\":\"其它\",\"site\":\"新华社\",\"url\":\"http://home.x...</td>\n",
       "      <td>“萨德”环评将重启　在韩部署或推迟一年</td>\n",
       "      <td>http://home.xinhua-news.com/gdsdetailxhsnew/22...</td>\n",
       "    </tr>\n",
       "    <tr>\n",
       "      <th>89593</th>\n",
       "      <td>18</td>\n",
       "      <td>NaN</td>\n",
       "      <td>新华社</td>\n",
       "      <td>\\n新华社巴格达6月6日电（记者魏玉栋　程帅朋）伊拉克西部安巴尔省一处市场6日晚发生自杀式爆...</td>\n",
       "      <td>{\"type\":\"其它\",\"site\":\"新华社\",\"url\":\"http://home.x...</td>\n",
       "      <td>伊拉克安巴尔省发生自杀式袭击７人死亡</td>\n",
       "      <td>http://home.xinhua-news.com/gdsdetailxhsnew/22...</td>\n",
       "    </tr>\n",
       "    <tr>\n",
       "      <th>89594</th>\n",
       "      <td>17</td>\n",
       "      <td>LISELOTTE SABROE</td>\n",
       "      <td>新华社</td>\n",
       "      <td>新华社照片，外代，2017年6月7日\\n（外代二线）足球——国际友谊赛：德国平丹麦\\n6月6...</td>\n",
       "      <td>{\"type\":\"足球\",\"site\":\"新华社\",\"url\":\"http://home.x...</td>\n",
       "      <td>[1]（外代二线）足球——国际友谊赛：德国平丹麦</td>\n",
       "      <td>http://home.xinhua-news.com/gdsdetailxhsnew/22...</td>\n",
       "    </tr>\n",
       "    <tr>\n",
       "      <th>89595</th>\n",
       "      <td>16</td>\n",
       "      <td>LISELOTTE SABROE</td>\n",
       "      <td>新华社</td>\n",
       "      <td>新华社照片，外代，2017年6月7日\\n（外代二线）足球——国际友谊赛：德国平丹麦\\n6月6...</td>\n",
       "      <td>{\"type\":\"足球\",\"site\":\"新华社\",\"url\":\"http://home.x...</td>\n",
       "      <td>[3]（外代二线）足球——国际友谊赛：德国平丹麦</td>\n",
       "      <td>http://home.xinhua-news.com/gdsdetailxhsnew/22...</td>\n",
       "    </tr>\n",
       "    <tr>\n",
       "      <th>89596</th>\n",
       "      <td>15</td>\n",
       "      <td>LISELOTTE SABROE</td>\n",
       "      <td>新华社</td>\n",
       "      <td>新华社照片，外代，2017年6月7日\\n（外代二线）足球——国际友谊赛：德国平丹麦\\n6月6...</td>\n",
       "      <td>{\"type\":\"足球\",\"site\":\"新华社\",\"url\":\"http://home.x...</td>\n",
       "      <td>[2]（外代二线）足球——国际友谊赛：德国平丹麦</td>\n",
       "      <td>http://home.xinhua-news.com/gdsdetailxhsnew/22...</td>\n",
       "    </tr>\n",
       "    <tr>\n",
       "      <th>89597</th>\n",
       "      <td>14</td>\n",
       "      <td>LISELOTTE SABROE</td>\n",
       "      <td>新华社</td>\n",
       "      <td>新华社照片，外代，2017年6月7日\\n（外代二线）足球——国际友谊赛：德国平丹麦\\n6月6...</td>\n",
       "      <td>{\"type\":\"足球\",\"site\":\"新华社\",\"url\":\"http://home.x...</td>\n",
       "      <td>[4]（外代二线）足球——国际友谊赛：德国平丹麦</td>\n",
       "      <td>http://home.xinhua-news.com/gdsdetailxhsnew/22...</td>\n",
       "    </tr>\n",
       "    <tr>\n",
       "      <th>89598</th>\n",
       "      <td>13</td>\n",
       "      <td>LISELOTTE SABROE</td>\n",
       "      <td>新华社</td>\n",
       "      <td>新华社照片，外代，2017年6月7日\\n（外代二线）足球——国际友谊赛：德国平丹麦\\n6月6...</td>\n",
       "      <td>{\"type\":\"足球\",\"site\":\"新华社\",\"url\":\"http://home.x...</td>\n",
       "      <td>[6]（外代二线）足球——国际友谊赛：德国平丹麦</td>\n",
       "      <td>http://home.xinhua-news.com/gdsdetailxhsnew/22...</td>\n",
       "    </tr>\n",
       "    <tr>\n",
       "      <th>89599</th>\n",
       "      <td>12</td>\n",
       "      <td>LISELOTTE SABROE</td>\n",
       "      <td>新华社</td>\n",
       "      <td>新华社照片，外代，2017年6月7日\\n（外代二线）足球——国际友谊赛：德国平丹麦\\n6月6...</td>\n",
       "      <td>{\"type\":\"足球\",\"site\":\"新华社\",\"url\":\"http://home.x...</td>\n",
       "      <td>[5]（外代二线）足球——国际友谊赛：德国平丹麦</td>\n",
       "      <td>http://home.xinhua-news.com/gdsdetailxhsnew/22...</td>\n",
       "    </tr>\n",
       "    <tr>\n",
       "      <th>89600</th>\n",
       "      <td>11</td>\n",
       "      <td>LISELOTTE SABROE</td>\n",
       "      <td>新华社</td>\n",
       "      <td>新华社照片，外代，2017年6月7日\\n（外代二线）足球——国际友谊赛：德国平丹麦\\n6月6...</td>\n",
       "      <td>{\"type\":\"足球\",\"site\":\"新华社\",\"url\":\"http://home.x...</td>\n",
       "      <td>[8]（外代二线）足球——国际友谊赛：德国平丹麦</td>\n",
       "      <td>http://home.xinhua-news.com/gdsdetailxhsnew/22...</td>\n",
       "    </tr>\n",
       "    <tr>\n",
       "      <th>89601</th>\n",
       "      <td>10</td>\n",
       "      <td>LISELOTTE SABROE</td>\n",
       "      <td>新华社</td>\n",
       "      <td>新华社照片，外代，2017年6月7日\\n（外代二线）足球——国际友谊赛：德国平丹麦\\n6月6...</td>\n",
       "      <td>{\"type\":\"足球\",\"site\":\"新华社\",\"url\":\"http://home.x...</td>\n",
       "      <td>[7]（外代二线）足球——国际友谊赛：德国平丹麦</td>\n",
       "      <td>http://home.xinhua-news.com/gdsdetailxhsnew/22...</td>\n",
       "    </tr>\n",
       "    <tr>\n",
       "      <th>89602</th>\n",
       "      <td>9</td>\n",
       "      <td>LISELOTTE SABROE</td>\n",
       "      <td>新华社</td>\n",
       "      <td>新华社照片，外代，2017年6月7日\\n（外代二线）足球——国际友谊赛：德国平丹麦\\n6月6...</td>\n",
       "      <td>{\"type\":\"足球\",\"site\":\"新华社\",\"url\":\"http://home.x...</td>\n",
       "      <td>[9]（外代二线）足球——国际友谊赛：德国平丹麦</td>\n",
       "      <td>http://home.xinhua-news.com/gdsdetailxhsnew/22...</td>\n",
       "    </tr>\n",
       "    <tr>\n",
       "      <th>89603</th>\n",
       "      <td>8</td>\n",
       "      <td>郑焕松</td>\n",
       "      <td>新华社</td>\n",
       "      <td>新华社照片，北京，2017年6月7日\\n电影《血战湘江》举行清华大学巡映活动\\n6月6日，电...</td>\n",
       "      <td>{\"type\":\"社会\",\"site\":\"新华社\",\"url\":\"http://home.x...</td>\n",
       "      <td>（文化）（1）电影《血战湘江》举行清华大学巡映活动</td>\n",
       "      <td>http://home.xinhua-news.com/gdsdetailxhsnew/22...</td>\n",
       "    </tr>\n",
       "    <tr>\n",
       "      <th>89604</th>\n",
       "      <td>7</td>\n",
       "      <td>郑焕松</td>\n",
       "      <td>新华社</td>\n",
       "      <td>新华社照片，北京，2017年6月7日\\n电影《血战湘江》举行清华大学巡映活动\\n6月6日，清...</td>\n",
       "      <td>{\"type\":\"社会\",\"site\":\"新华社\",\"url\":\"http://home.x...</td>\n",
       "      <td>（文化）（2）电影《血战湘江》举行清华大学巡映活动</td>\n",
       "      <td>http://home.xinhua-news.com/gdsdetailxhsnew/22...</td>\n",
       "    </tr>\n",
       "    <tr>\n",
       "      <th>89605</th>\n",
       "      <td>6</td>\n",
       "      <td>郑焕松</td>\n",
       "      <td>新华社</td>\n",
       "      <td>新华社照片，北京，2017年6月7日\\n电影《血战湘江》举行清华大学巡映活动\\n6月6日，电...</td>\n",
       "      <td>{\"type\":\"社会\",\"site\":\"新华社\",\"url\":\"http://home.x...</td>\n",
       "      <td>（文化）（3）电影《血战湘江》举行清华大学巡映活动</td>\n",
       "      <td>http://home.xinhua-news.com/gdsdetailxhsnew/22...</td>\n",
       "    </tr>\n",
       "    <tr>\n",
       "      <th>89606</th>\n",
       "      <td>5</td>\n",
       "      <td>邹峥</td>\n",
       "      <td>新华社</td>\n",
       "      <td>新华社照片，多伦多，2017年6月7日\\n（体育）（2）冰球——国家女子冰球队海外选秀在多伦...</td>\n",
       "      <td>{\"type\":\"冰球\",\"site\":\"新华社\",\"url\":\"http://home.x...</td>\n",
       "      <td>（体育）（2）冰球——国家女子冰球队海外选秀在多伦多展开</td>\n",
       "      <td>http://home.xinhua-news.com/gdsdetailxhsnew/22...</td>\n",
       "    </tr>\n",
       "    <tr>\n",
       "      <th>89607</th>\n",
       "      <td>4</td>\n",
       "      <td>王衡</td>\n",
       "      <td>新华社</td>\n",
       "      <td>新华社兰州6月3日电（王衡、徐丹）记者从甘肃省交通运输厅获悉，甘肃近日集中开建高速公路、普通...</td>\n",
       "      <td>{\"type\":\"宏观经济\",\"site\":\"新华社\",\"url\":\"http://home...</td>\n",
       "      <td>（经济）甘肃集中开工35个重点交通建设项目</td>\n",
       "      <td>http://home.xinhua-news.com/gdsdetailxhsnew/22...</td>\n",
       "    </tr>\n",
       "    <tr>\n",
       "      <th>89608</th>\n",
       "      <td>3</td>\n",
       "      <td>张旌</td>\n",
       "      <td>新华社</td>\n",
       "      <td>\\n\\n2017年5月29日，在法国巴黎郊外的凡尔赛宫，法国总统马克龙出席新闻发布会。（新华...</td>\n",
       "      <td>{\"type\":\"其它\",\"site\":\"新华社\",\"url\":\"http://home.x...</td>\n",
       "      <td>法国议会选举　马克龙有望获“压倒性胜利”</td>\n",
       "      <td>http://home.xinhua-news.com/gdsdetailxhsnew/22...</td>\n",
       "    </tr>\n",
       "    <tr>\n",
       "      <th>89609</th>\n",
       "      <td>2</td>\n",
       "      <td>夏文辉</td>\n",
       "      <td>新华社</td>\n",
       "      <td>\\n\\n2017年5月25日，在美国马萨诸塞州剑桥市，哈佛大学毕业生在毕业典礼上欢呼。（新华...</td>\n",
       "      <td>{\"type\":\"其它\",\"site\":\"新华社\",\"url\":\"http://home.x...</td>\n",
       "      <td>哈佛大学为何取消这些新生入选资格？</td>\n",
       "      <td>http://home.xinhua-news.com/gdsdetailxhsnew/22...</td>\n",
       "    </tr>\n",
       "    <tr>\n",
       "      <th>89610</th>\n",
       "      <td>1</td>\n",
       "      <td>王子江 张寒</td>\n",
       "      <td>新华社</td>\n",
       "      <td>新华社德国杜塞尔多夫６月６日电题：乒乓女球迷　\\n　　新华社记者王子江、张寒\\n　　熊老...</td>\n",
       "      <td>{\"type\":\"体育\",\"site\":\"新华社\",\"url\":\"http://home.x...</td>\n",
       "      <td>（体育）题：乒乓女球迷</td>\n",
       "      <td>http://home.xinhua-news.com/gdsdetailxhsnew/22...</td>\n",
       "    </tr>\n",
       "  </tbody>\n",
       "</table>\n",
       "<p>89611 rows × 7 columns</p>\n",
       "</div>"
      ],
      "text/plain": [
       "          id            author                    source  \\\n",
       "0      89617               NaN    快科技@http://www.kkj.cn/   \n",
       "1      89616               NaN    快科技@http://www.kkj.cn/   \n",
       "2      89615               NaN    快科技@http://www.kkj.cn/   \n",
       "3      89614               NaN                       新华社   \n",
       "4      89613        胡淑丽_MN7479                     深圳大件事   \n",
       "5      89612                张怡                 中国证券报?中证网   \n",
       "6      89611               NaN  威锋网@http://www.feng.com/   \n",
       "7      89610            申玉彬 整理                 中国证券报?中证网   \n",
       "8      89609        李杭_BJS4645                 荆楚网-楚天都市报   \n",
       "9      89608                吴瞬                 中国证券报?中证网   \n",
       "10     89607               NaN                     证券时报网   \n",
       "11     89606               NaN                     证券时报网   \n",
       "12     89605               NaN                     中国新闻网   \n",
       "13     89604            申玉彬 整理                 中国证券报?中证网   \n",
       "14     89603               NaN                      国际在线   \n",
       "15     89602               费天元                     中国证券网   \n",
       "16     89601               NaN                  solidot@   \n",
       "17     89600               NaN                       新华网   \n",
       "18     89599                张怡                 中国证券报?中证网   \n",
       "19     89598             周佳 整理                 中国证券报?中证网   \n",
       "20     89597               NaN                       泡泡网   \n",
       "21     89596             周佳 整理                 中国证券报?中证网   \n",
       "22     89595               NaN  威锋网@http://www.feng.com/   \n",
       "23     89594                张怡                 中国证券报?中证网   \n",
       "24     89593         屠震林 PS040                      凤凰体育   \n",
       "25     89592               NaN                       新华网   \n",
       "26     89591               NaN                      雷锋网@   \n",
       "27     89590               NaN                       新华网   \n",
       "28     89589               NaN                      中超球评   \n",
       "29     89588               NaN                    中国经济周刊   \n",
       "...      ...               ...                       ...   \n",
       "89581     30       INACIO ROSA                       新华社   \n",
       "89582     29       INACIO ROSA                       新华社   \n",
       "89583     28       INACIO ROSA                       新华社   \n",
       "89584     27       INACIO ROSA                       新华社   \n",
       "89585     26       INACIO ROSA                       新华社   \n",
       "89586     25       INACIO ROSA                       新华社   \n",
       "89587     24      LOVELY GHOSH                       新华社   \n",
       "89588     23      LOVELY GHOSH                       新华社   \n",
       "89589     22      LOVELY GHOSH                       新华社   \n",
       "89590     21      LOVELY GHOSH                       新华社   \n",
       "89591     20      LOVELY GHOSH                       新华社   \n",
       "89592     19                张旌                       新华社   \n",
       "89593     18               NaN                       新华社   \n",
       "89594     17  LISELOTTE SABROE                       新华社   \n",
       "89595     16  LISELOTTE SABROE                       新华社   \n",
       "89596     15  LISELOTTE SABROE                       新华社   \n",
       "89597     14  LISELOTTE SABROE                       新华社   \n",
       "89598     13  LISELOTTE SABROE                       新华社   \n",
       "89599     12  LISELOTTE SABROE                       新华社   \n",
       "89600     11  LISELOTTE SABROE                       新华社   \n",
       "89601     10  LISELOTTE SABROE                       新华社   \n",
       "89602      9  LISELOTTE SABROE                       新华社   \n",
       "89603      8               郑焕松                       新华社   \n",
       "89604      7               郑焕松                       新华社   \n",
       "89605      6               郑焕松                       新华社   \n",
       "89606      5                邹峥                       新华社   \n",
       "89607      4                王衡                       新华社   \n",
       "89608      3                张旌                       新华社   \n",
       "89609      2               夏文辉                       新华社   \n",
       "89610      1            王子江 张寒                       新华社   \n",
       "\n",
       "                                                 content  \\\n",
       "0      此外，自本周（6月12日）起，除小米手机6等15款机型外，其余机型已暂停更新发布（含开发版/...   \n",
       "1      骁龙835作为唯一通过Windows 10桌面平台认证的ARM处理器，高通强调，不会因为只考...   \n",
       "2      此前的一加3T搭载的是3400mAh电池，DashCharge快充规格为5V/4A。\\r\\n...   \n",
       "3        这是6月18日在葡萄牙中部大佩德罗冈地区拍摄的被森林大火烧毁的汽车。新华社记者张立云摄\\r\\n   \n",
       "4      （原标题：44岁女子跑深圳约会网友被拒，暴雨中裸身奔走……）\\r\\n@深圳交警微博称：昨日清...   \n",
       "5      　　受到A股被纳入MSCI指数的利好消息刺激，A股市场从周三开始再度上演龙马行情，周四上午金...   \n",
       "6      虽然至今夏普智能手机在市场上无法排得上号，已经完全没落，并于 2013 年退出中国市场，但是...   \n",
       "7      　　沙漠雄鹰：震荡有利消化套牢筹码\\r\\n　　周四开盘上证50在银行券商大蓝筹带动下一度涨近...   \n",
       "8      （原标题：武汉警方一下子抓了808人，还都是俊男靓女！原来他们每天偷偷摸摸干这事！）\\r\\n...   \n",
       "9      　　6月21日，A股纳入MSCI指数尘埃落定，但当天被寄予厚望的券商股并未扛起反弹大旗。22...   \n",
       "10     　　证券时报网（www.stcn.com）06月23日讯\\r\\n　　据上证报道，6月初以来，...   \n",
       "11     ?\\r\\n　　巨丰早评：市场将再次探底\\r\\n　　【巨丰观点】\\r\\n　　周四大盘冲高回落，...   \n",
       "12     中新网6月19日电 据外媒报道，美国底特律一名男子1976年因为一根头发被定谋杀罪，监禁41...   \n",
       "13     　　曹先生：风格转换前的阵痛\\r\\n　　今日早盘两地低开，之后一度震荡走高，领涨的仍然是上证...   \n",
       "14     6月21日，MSCI在官网发布公告称，从明年6月起将中国A股纳入MSCI新兴市场指数和MSC...   \n",
       "15     　　中国证券网讯（记者 费天元）沪深两市周五临近午盘出现快速跳水，沪指连续跌穿5日、10日及...   \n",
       "16     九成以上的源包用逐位对应的方式构建，未来版本的 Debian 还将提供验证包的工具和元数据；...   \n",
       "17     国歌法草案首次提请最高立法机关审议\\r\\n点击图片进入下一页\\r\\n新闻：十二届全国人大常委...   \n",
       "18     　　中证网讯 （本报记者 张怡）今日，三板做市指数继续低开下行，盘中最低触及1057.91点...   \n",
       "19     　　提示声明：\\r\\n　　本文涉及的行业及个股分析来源于券商研究报告，仅为分析人士对该行业及...   \n",
       "20     　　原标题：叙利亚被“袭机”事件惹怒俄罗斯 警告将瞄准美战机\\r\\n　　海外网6月19日电 ...   \n",
       "21     　　提示声明：\\r\\n　　本文涉及的行业及个股分析来源于券商研究报告，仅为分析人士对该行业及...   \n",
       "22     就在这几天，一位微博名为“摩卡 RQ ”的手机、芯片、移动互联网三界知名独立评论人爆料称，O...   \n",
       "23     　　中证网讯 （本报记者 张怡）与此前两日蓝筹股强势格局不同，周五，A股市场主要指数低开之后...   \n",
       "24     北京时间6月20日，江苏苏宁足球俱乐部发布了足协杯第四轮江苏苏宁易购队主场对阵河南建业队的官...   \n",
       "25     当地时间2017年6月17日，土耳其马尼萨省，在土耳其第1步兵训练大队司令部军营，590名土...   \n",
       "26     今年3月份，王劲从百度自动驾驶事业部任上离职，随后创办景驰科技。在随后的日子里，景驰很快组建...   \n",
       "27     英国与欧盟的“脱欧”谈判于19日正式开始。然而此时，英国首相特雷莎·梅正面临着空前的政治压力...   \n",
       "28     中超联赛第13轮比赛已经全部结束，这轮比赛中最让人觉得结果有些出乎意料的，莫过于卡佩罗执教江...   \n",
       "29     　　文章导读： 供应商围堵追债、20多位高管离职、上千人被裁员、孤注一掷史上最大规模的降价…...   \n",
       "...                                                  ...   \n",
       "89581  新华社照片，外代，2017年6月7日\\n（外代二线）足球——世预赛：葡萄牙备战\\n6月6日，...   \n",
       "89582  新华社照片，外代，2017年6月7日\\n（外代二线）足球——世预赛：葡萄牙备战\\n6月6日，...   \n",
       "89583  新华社照片，外代，2017年6月7日\\n（外代二线）足球——世预赛：葡萄牙备战\\n6月6日，...   \n",
       "89584  新华社照片，外代，2017年6月7日\\n（外代二线）足球——世预赛：葡萄牙备战\\n6月6日，...   \n",
       "89585  新华社照片，外代，2017年6月7日\\n（外代二线）足球——世预赛：葡萄牙备战\\n6月6日，...   \n",
       "89586  新华社照片，外代，2017年6月7日\\n（外代二线）足球——世预赛：葡萄牙备战\\n6月6日，...   \n",
       "89587  新华社照片，外代，2017年6月7日\\n（外代二线）蚕丝生产\\n6月6日，在印度特里普拉邦特...   \n",
       "89588  新华社照片，外代，2017年6月7日\\n（外代二线）蚕丝生产\\n6月6日，在印度特里普拉邦特...   \n",
       "89589  新华社照片，外代，2017年6月7日\\n（外代二线）蚕丝生产\\n5月30日，在印度特里普拉邦...   \n",
       "89590  新华社照片，外代，2017年6月7日\\n（外代二线）蚕丝生产\\n6月6日，在印度特里普拉邦特...   \n",
       "89591  新华社照片，外代，2017年6月7日\\n（外代二线）蚕丝生产\\n5月30日，在印度特里普拉邦...   \n",
       "89592  \\n\\n2017年4月27日，在首尔光化门广场，民众在集会上手举反“萨德”标语。（新华社记者...   \n",
       "89593  \\n新华社巴格达6月6日电（记者魏玉栋　程帅朋）伊拉克西部安巴尔省一处市场6日晚发生自杀式爆...   \n",
       "89594  新华社照片，外代，2017年6月7日\\n（外代二线）足球——国际友谊赛：德国平丹麦\\n6月6...   \n",
       "89595  新华社照片，外代，2017年6月7日\\n（外代二线）足球——国际友谊赛：德国平丹麦\\n6月6...   \n",
       "89596  新华社照片，外代，2017年6月7日\\n（外代二线）足球——国际友谊赛：德国平丹麦\\n6月6...   \n",
       "89597  新华社照片，外代，2017年6月7日\\n（外代二线）足球——国际友谊赛：德国平丹麦\\n6月6...   \n",
       "89598  新华社照片，外代，2017年6月7日\\n（外代二线）足球——国际友谊赛：德国平丹麦\\n6月6...   \n",
       "89599  新华社照片，外代，2017年6月7日\\n（外代二线）足球——国际友谊赛：德国平丹麦\\n6月6...   \n",
       "89600  新华社照片，外代，2017年6月7日\\n（外代二线）足球——国际友谊赛：德国平丹麦\\n6月6...   \n",
       "89601  新华社照片，外代，2017年6月7日\\n（外代二线）足球——国际友谊赛：德国平丹麦\\n6月6...   \n",
       "89602  新华社照片，外代，2017年6月7日\\n（外代二线）足球——国际友谊赛：德国平丹麦\\n6月6...   \n",
       "89603  新华社照片，北京，2017年6月7日\\n电影《血战湘江》举行清华大学巡映活动\\n6月6日，电...   \n",
       "89604  新华社照片，北京，2017年6月7日\\n电影《血战湘江》举行清华大学巡映活动\\n6月6日，清...   \n",
       "89605  新华社照片，北京，2017年6月7日\\n电影《血战湘江》举行清华大学巡映活动\\n6月6日，电...   \n",
       "89606  新华社照片，多伦多，2017年6月7日\\n（体育）（2）冰球——国家女子冰球队海外选秀在多伦...   \n",
       "89607  新华社兰州6月3日电（王衡、徐丹）记者从甘肃省交通运输厅获悉，甘肃近日集中开建高速公路、普通...   \n",
       "89608  \\n\\n2017年5月29日，在法国巴黎郊外的凡尔赛宫，法国总统马克龙出席新闻发布会。（新华...   \n",
       "89609  \\n\\n2017年5月25日，在美国马萨诸塞州剑桥市，哈佛大学毕业生在毕业典礼上欢呼。（新华...   \n",
       "89610  　　新华社德国杜塞尔多夫６月６日电题：乒乓女球迷　\\n　　新华社记者王子江、张寒\\n　　熊老...   \n",
       "\n",
       "                                                 feature  \\\n",
       "0      {\"type\":\"科技\",\"site\":\"cnbeta\",\"commentNum\":\"37\"...   \n",
       "1      {\"type\":\"科技\",\"site\":\"cnbeta\",\"commentNum\":\"15\"...   \n",
       "2      {\"type\":\"科技\",\"site\":\"cnbeta\",\"commentNum\":\"18\"...   \n",
       "3      {\"type\":\"国际新闻\",\"site\":\"环球\",\"commentNum\":\"0\",\"j...   \n",
       "4      {\"type\":\"新闻\",\"site\":\"网易热门\",\"commentNum\":\"978\",...   \n",
       "5      {\"type\":\"市场\",\"site\":\"中证网\",\"commentNum\":\"0\",\"jo...   \n",
       "6      {\"type\":\"科技\",\"site\":\"cnbeta\",\"commentNum\":\"21\"...   \n",
       "7      {\"type\":\"市场\",\"site\":\"中证网\",\"commentNum\":\"0\",\"jo...   \n",
       "8      {\"type\":\"新闻\",\"site\":\"网易热门\",\"commentNum\":\"1600\"...   \n",
       "9      {\"type\":\"市场\",\"site\":\"中证网\",\"commentNum\":\"0\",\"jo...   \n",
       "10     {\"type\":\"市场\",\"site\":\"中证网\",\"commentNum\":\"0\",\"jo...   \n",
       "11     {\"type\":\"市场\",\"site\":\"中证网\",\"commentNum\":\"0\",\"jo...   \n",
       "12     {\"type\":\"国际新闻\",\"site\":\"环球\",\"commentNum\":\"0\",\"j...   \n",
       "13     {\"type\":\"市场\",\"site\":\"中证网\",\"commentNum\":\"0\",\"jo...   \n",
       "14     {\"type\":\"观点滚动\",\"site\":\"参考消息\",\"commentNum\":\"0\",...   \n",
       "15     {\"type\":\"市场\",\"site\":\"中证网\",\"commentNum\":\"0\",\"jo...   \n",
       "16     {\"type\":\"软件\",\"site\":\"cnbeta\",\"commentNum\":\"12\"...   \n",
       "17     {\"type\":\"观点滚动\",\"site\":\"参考消息\",\"commentNum\":\"0\",...   \n",
       "18     {\"type\":\"市场\",\"site\":\"中证网\",\"commentNum\":\"0\",\"jo...   \n",
       "19     {\"type\":\"市场\",\"site\":\"中证网\",\"commentNum\":\"0\",\"jo...   \n",
       "20     {\"type\":\"军事\",\"site\":\"新浪\",\"commentNum\":\" 95\",\"j...   \n",
       "21     {\"type\":\"市场\",\"site\":\"中证网\",\"commentNum\":\"0\",\"jo...   \n",
       "22     {\"type\":\"科技\",\"site\":\"cnbeta\",\"commentNum\":\"56\"...   \n",
       "23     {\"type\":\"市场\",\"site\":\"中证网\",\"commentNum\":\"0\",\"jo...   \n",
       "24     {\"type\":\"体育\",\"site\":\"凤凰\",\"commentNum\":\"1\",\"joi...   \n",
       "25     {\"type\":\"国际新闻\",\"site\":\"环球\",\"commentNum\":\"0\",\"j...   \n",
       "26     {\"type\":\"科技\",\"site\":\"cnbeta\",\"commentNum\":\"4\",...   \n",
       "27     {\"type\":\"国际新闻\",\"site\":\"环球\",\"commentNum\":\"0\",\"j...   \n",
       "28     {\"type\":\"体育\",\"site\":\"凤凰\",\"commentNum\":\"0\",\"joi...   \n",
       "29     {\"type\":\"科技\",\"site\":\"新浪\",\"commentNum\":\" 6\",\"jo...   \n",
       "...                                                  ...   \n",
       "89581  {\"type\":\"足球\",\"site\":\"新华社\",\"url\":\"http://home.x...   \n",
       "89582  {\"type\":\"足球\",\"site\":\"新华社\",\"url\":\"http://home.x...   \n",
       "89583  {\"type\":\"足球\",\"site\":\"新华社\",\"url\":\"http://home.x...   \n",
       "89584  {\"type\":\"足球\",\"site\":\"新华社\",\"url\":\"http://home.x...   \n",
       "89585  {\"type\":\"足球\",\"site\":\"新华社\",\"url\":\"http://home.x...   \n",
       "89586  {\"type\":\"足球\",\"site\":\"新华社\",\"url\":\"http://home.x...   \n",
       "89587  {\"type\":\"其它\",\"site\":\"新华社\",\"url\":\"http://home.x...   \n",
       "89588  {\"type\":\"其它\",\"site\":\"新华社\",\"url\":\"http://home.x...   \n",
       "89589  {\"type\":\"其它\",\"site\":\"新华社\",\"url\":\"http://home.x...   \n",
       "89590  {\"type\":\"其它\",\"site\":\"新华社\",\"url\":\"http://home.x...   \n",
       "89591  {\"type\":\"其它\",\"site\":\"新华社\",\"url\":\"http://home.x...   \n",
       "89592  {\"type\":\"其它\",\"site\":\"新华社\",\"url\":\"http://home.x...   \n",
       "89593  {\"type\":\"其它\",\"site\":\"新华社\",\"url\":\"http://home.x...   \n",
       "89594  {\"type\":\"足球\",\"site\":\"新华社\",\"url\":\"http://home.x...   \n",
       "89595  {\"type\":\"足球\",\"site\":\"新华社\",\"url\":\"http://home.x...   \n",
       "89596  {\"type\":\"足球\",\"site\":\"新华社\",\"url\":\"http://home.x...   \n",
       "89597  {\"type\":\"足球\",\"site\":\"新华社\",\"url\":\"http://home.x...   \n",
       "89598  {\"type\":\"足球\",\"site\":\"新华社\",\"url\":\"http://home.x...   \n",
       "89599  {\"type\":\"足球\",\"site\":\"新华社\",\"url\":\"http://home.x...   \n",
       "89600  {\"type\":\"足球\",\"site\":\"新华社\",\"url\":\"http://home.x...   \n",
       "89601  {\"type\":\"足球\",\"site\":\"新华社\",\"url\":\"http://home.x...   \n",
       "89602  {\"type\":\"足球\",\"site\":\"新华社\",\"url\":\"http://home.x...   \n",
       "89603  {\"type\":\"社会\",\"site\":\"新华社\",\"url\":\"http://home.x...   \n",
       "89604  {\"type\":\"社会\",\"site\":\"新华社\",\"url\":\"http://home.x...   \n",
       "89605  {\"type\":\"社会\",\"site\":\"新华社\",\"url\":\"http://home.x...   \n",
       "89606  {\"type\":\"冰球\",\"site\":\"新华社\",\"url\":\"http://home.x...   \n",
       "89607  {\"type\":\"宏观经济\",\"site\":\"新华社\",\"url\":\"http://home...   \n",
       "89608  {\"type\":\"其它\",\"site\":\"新华社\",\"url\":\"http://home.x...   \n",
       "89609  {\"type\":\"其它\",\"site\":\"新华社\",\"url\":\"http://home.x...   \n",
       "89610  {\"type\":\"体育\",\"site\":\"新华社\",\"url\":\"http://home.x...   \n",
       "\n",
       "                               title  \\\n",
       "0               小米MIUI 9首批机型曝光：共计15款   \n",
       "1         骁龙835在Windows 10上的性能表现有望改善   \n",
       "2          一加手机5细节曝光：3300mAh、充半小时用1天   \n",
       "3      葡森林火灾造成至少62人死亡 政府宣布进入紧急状态（组图）   \n",
       "4           44岁女子约网友被拒暴雨中裸奔 交警为其披衣相随   \n",
       "5                     金融股一枝独秀 配置价值犹存   \n",
       "6                配骁龙660 全面屏鼻祖夏普新机酝酿中   \n",
       "7                    博友早评：震荡有利消化套牢筹码   \n",
       "8           武汉千余警察出动 抓获808名俊男靓女全是诈骗犯   \n",
       "9                纳入MSCI指数 A股长期配置价值提升   \n",
       "10              私募：蓝筹风格难切换 业绩估值相配是王道   \n",
       "11            早间机构看市：市场将再次探底 两类股逢低布局   \n",
       "12           因为犯罪现场的一根头发，他坐冤狱41年后终获释   \n",
       "13                     博友午评：风格转换前的阵痛   \n",
       "14              MSCI闯关成功会是A股的一针强心剂吗？   \n",
       "15            地产股拉升难阻市场颓势 三大指数早盘集体跳水   \n",
       "16               Debian 9 Stretch 发布   \n",
       "17                 [及时点]我们不需要“百变老太太”   \n",
       "18                新三板午评：三板做市指数刷新阶段低点   \n",
       "19              机构解析：下周热点板块及个股探秘（附股）   \n",
       "20           美军击落叙战机激怒俄罗斯 俄警告将瞄准美军战机   \n",
       "21                   机构推荐：下周具备布局潜力金股   \n",
       "22              业内人士解释为什么OPPO供货能力强无敌   \n",
       "23                中证午评：A股跳水 蓝筹暂歇热点熄火   \n",
       "24         “齐心协力”--江苏苏宁发布足协杯对阵河南建业海报   \n",
       "25       土耳其近590名士兵疑食物中毒 被送往医院救治（组图）   \n",
       "26          又一自动驾驶公司拿加州路测牌照 这回是王劲的景驰   \n",
       "27         火灾与脱欧炙烤英国首相 特雷莎·梅面临空前政治压力   \n",
       "28           江苏保级真悬了 近3年1铁律证明其几乎保级无望   \n",
       "29            乐视危局：靠卖资产续命 员工被猎头大规模拉黑   \n",
       "...                              ...   \n",
       "89581         [2]（外代二线）足球——世预赛：葡萄牙备战   \n",
       "89582         [3]（外代二线）足球——世预赛：葡萄牙备战   \n",
       "89583         [4]（外代二线）足球——世预赛：葡萄牙备战   \n",
       "89584         [5]（外代二线）足球——世预赛：葡萄牙备战   \n",
       "89585         [6]（外代二线）足球——世预赛：葡萄牙备战   \n",
       "89586         [7]（外代二线）足球——世预赛：葡萄牙备战   \n",
       "89587                  [1]（外代二线）蚕丝生产   \n",
       "89588                  [2]（外代二线）蚕丝生产   \n",
       "89589                  [3]（外代二线）蚕丝生产   \n",
       "89590                  [4]（外代二线）蚕丝生产   \n",
       "89591                  [5]（外代二线）蚕丝生产   \n",
       "89592            “萨德”环评将重启　在韩部署或推迟一年   \n",
       "89593             伊拉克安巴尔省发生自杀式袭击７人死亡   \n",
       "89594       [1]（外代二线）足球——国际友谊赛：德国平丹麦   \n",
       "89595       [3]（外代二线）足球——国际友谊赛：德国平丹麦   \n",
       "89596       [2]（外代二线）足球——国际友谊赛：德国平丹麦   \n",
       "89597       [4]（外代二线）足球——国际友谊赛：德国平丹麦   \n",
       "89598       [6]（外代二线）足球——国际友谊赛：德国平丹麦   \n",
       "89599       [5]（外代二线）足球——国际友谊赛：德国平丹麦   \n",
       "89600       [8]（外代二线）足球——国际友谊赛：德国平丹麦   \n",
       "89601       [7]（外代二线）足球——国际友谊赛：德国平丹麦   \n",
       "89602       [9]（外代二线）足球——国际友谊赛：德国平丹麦   \n",
       "89603      （文化）（1）电影《血战湘江》举行清华大学巡映活动   \n",
       "89604      （文化）（2）电影《血战湘江》举行清华大学巡映活动   \n",
       "89605      （文化）（3）电影《血战湘江》举行清华大学巡映活动   \n",
       "89606   （体育）（2）冰球——国家女子冰球队海外选秀在多伦多展开   \n",
       "89607          （经济）甘肃集中开工35个重点交通建设项目   \n",
       "89608           法国议会选举　马克龙有望获“压倒性胜利”   \n",
       "89609              哈佛大学为何取消这些新生入选资格？   \n",
       "89610                   （体育）题：乒乓女球迷　   \n",
       "\n",
       "                                                     url  \n",
       "0         http://www.cnbeta.com/articles/tech/623597.htm  \n",
       "1         http://www.cnbeta.com/articles/tech/623599.htm  \n",
       "2         http://www.cnbeta.com/articles/tech/623601.htm  \n",
       "3      http://world.huanqiu.com/hot/2017-06/10866126....  \n",
       "4      http://news.163.com/17/0618/00/CN617P3Q0001875...  \n",
       "5      http://www.cs.com.cn/gppd/201706/t20170623_533...  \n",
       "6         http://www.cnbeta.com/articles/tech/623603.htm  \n",
       "7      http://www.cs.com.cn/gppd/201706/t20170623_533...  \n",
       "8      http://news.163.com/17/0614/14/CMT9N8G80001899...  \n",
       "9      http://www.cs.com.cn/gppd/201706/t20170623_533...  \n",
       "10     http://www.cs.com.cn/gppd/201706/t20170623_533...  \n",
       "11     http://www.cs.com.cn/gppd/201706/t20170623_533...  \n",
       "12     http://world.huanqiu.com/hot/2017-06/10866136....  \n",
       "13     http://www.cs.com.cn/gppd/201706/t20170623_533...  \n",
       "14     http://column.cankaoxiaoxi.com/plgd/2017/0623/...  \n",
       "15     http://www.cs.com.cn/gppd/201706/t20170623_533...  \n",
       "16        http://www.cnbeta.com/articles/soft/623605.htm  \n",
       "17     http://column.cankaoxiaoxi.com/plgd/2017/0623/...  \n",
       "18     http://www.cs.com.cn/gppd/201706/t20170623_533...  \n",
       "19     http://www.cs.com.cn/gppd/hyyj/201706/t2017062...  \n",
       "20     http://mil.news.sina.com.cn/world/2017-06-20/d...  \n",
       "21     http://www.cs.com.cn/gppd/tzpj/201706/t2017062...  \n",
       "22        http://www.cnbeta.com/articles/tech/623607.htm  \n",
       "23     http://www.cs.com.cn/gppd/201706/t20170623_533...  \n",
       "24     http://sports.ifeng.com/a/20170620/51284188_0....  \n",
       "25     http://world.huanqiu.com/hot/2017-06/10866176....  \n",
       "26        http://www.cnbeta.com/articles/tech/623609.htm  \n",
       "27     http://world.huanqiu.com/hot/2017-06/10866198....  \n",
       "28     http://sports.ifeng.com/a/20170620/51284719_0....  \n",
       "29     http://tech.sina.com.cn/i/2017-06-20/doc-ifyhf...  \n",
       "...                                                  ...  \n",
       "89581  http://home.xinhua-news.com/gdsdetailxhsnew/22...  \n",
       "89582  http://home.xinhua-news.com/gdsdetailxhsnew/22...  \n",
       "89583  http://home.xinhua-news.com/gdsdetailxhsnew/22...  \n",
       "89584  http://home.xinhua-news.com/gdsdetailxhsnew/22...  \n",
       "89585  http://home.xinhua-news.com/gdsdetailxhsnew/22...  \n",
       "89586  http://home.xinhua-news.com/gdsdetailxhsnew/22...  \n",
       "89587  http://home.xinhua-news.com/gdsdetailxhsnew/22...  \n",
       "89588  http://home.xinhua-news.com/gdsdetailxhsnew/22...  \n",
       "89589  http://home.xinhua-news.com/gdsdetailxhsnew/22...  \n",
       "89590  http://home.xinhua-news.com/gdsdetailxhsnew/22...  \n",
       "89591  http://home.xinhua-news.com/gdsdetailxhsnew/22...  \n",
       "89592  http://home.xinhua-news.com/gdsdetailxhsnew/22...  \n",
       "89593  http://home.xinhua-news.com/gdsdetailxhsnew/22...  \n",
       "89594  http://home.xinhua-news.com/gdsdetailxhsnew/22...  \n",
       "89595  http://home.xinhua-news.com/gdsdetailxhsnew/22...  \n",
       "89596  http://home.xinhua-news.com/gdsdetailxhsnew/22...  \n",
       "89597  http://home.xinhua-news.com/gdsdetailxhsnew/22...  \n",
       "89598  http://home.xinhua-news.com/gdsdetailxhsnew/22...  \n",
       "89599  http://home.xinhua-news.com/gdsdetailxhsnew/22...  \n",
       "89600  http://home.xinhua-news.com/gdsdetailxhsnew/22...  \n",
       "89601  http://home.xinhua-news.com/gdsdetailxhsnew/22...  \n",
       "89602  http://home.xinhua-news.com/gdsdetailxhsnew/22...  \n",
       "89603  http://home.xinhua-news.com/gdsdetailxhsnew/22...  \n",
       "89604  http://home.xinhua-news.com/gdsdetailxhsnew/22...  \n",
       "89605  http://home.xinhua-news.com/gdsdetailxhsnew/22...  \n",
       "89606  http://home.xinhua-news.com/gdsdetailxhsnew/22...  \n",
       "89607  http://home.xinhua-news.com/gdsdetailxhsnew/22...  \n",
       "89608  http://home.xinhua-news.com/gdsdetailxhsnew/22...  \n",
       "89609  http://home.xinhua-news.com/gdsdetailxhsnew/22...  \n",
       "89610  http://home.xinhua-news.com/gdsdetailxhsnew/22...  \n",
       "\n",
       "[89611 rows x 7 columns]"
      ]
     },
     "execution_count": 3,
     "metadata": {},
     "output_type": "execute_result"
    }
   ],
   "source": [
    "# 读取数据集合\n",
    "import pandas as pd\n",
    "datapath = \"/Volumes/Transcend/sqlResult_1558435.csv\"\n",
    "data = pd.read_csv(datapath, encoding='gb18030')\n",
    "data"
   ]
  },
  {
   "cell_type": "code",
   "execution_count": 9,
   "metadata": {},
   "outputs": [
    {
     "data": {
      "text/plain": [
       "'this is a BIGGGGGGGGG thing BI and BIGGGGGGGGGGGGGGGGGGGGGGGGGGGGGGGGGGGGGGGGgg'"
      ]
     },
     "execution_count": 9,
     "metadata": {},
     "output_type": "execute_result"
    }
   ],
   "source": [
    "# 获取全部的content部分并且用正则表达式去除多余的标点\n",
    "import re\n",
    "all_articles = data['content'].tolist()\n",
    "\n",
    "def token(string):\n",
    "    return ' '.join(re.findall('[\\w|\\d]+', string))\n",
    "test_string = \"***&& %%## this is a BIGGGGGGGGG thing BI and BIGGGGGGGGGGGGGGGGGGGGGGGGGGGGGGGGGGGGGGGGgg\"\n",
    "token(test_string)"
   ]
  },
  {
   "cell_type": "code",
   "execution_count": 11,
   "metadata": {},
   "outputs": [
    {
     "name": "stdout",
     "output_type": "stream",
     "text": [
      "length of text: 37412506\n"
     ]
    }
   ],
   "source": [
    "# 统计文档中所有的字符量, 将所有文档加到一起\n",
    "all_articles = [token(str(content)) for content in all_articles]\n",
    "text = \"\"\n",
    "for article in all_articles:\n",
    "    #print(article)\n",
    "    text += article\n",
    "print('length of text: {}'.format(len(text)))"
   ]
  },
  {
   "cell_type": "code",
   "execution_count": 13,
   "metadata": {},
   "outputs": [],
   "source": [
    "# 定义原始文档\n",
    "from functools import reduce\n",
    "TEXT = text"
   ]
  },
  {
   "cell_type": "code",
   "execution_count": 14,
   "metadata": {},
   "outputs": [
    {
     "data": {
      "text/plain": [
       "'此外 自本周 6月12日 起 除小米手机6等15款机型外 其余机型已暂停更新发布 含开发版 体验版内测 稳定版暂不受影响 以确保工程师可以集中全部精力进行系统优化工作 有人猜测这也是将精力主要用到MIUI 9的研发之中 MIUI 8去年5月发布 距今已有一年有余 也是时候更新换代了 当然 关于MIUI 9的确切信息 我们还是等待官方消息骁龙835作为唯一通过Windows 10桌面平台认证的ARM处理器 高通强调 不会因为只考虑性能而去屏蔽掉小核心 相反 他们正联手微软 找到一种适合桌面平台的 兼顾性能和功耗的完美方案 报道称 微软已经拿到了一些新的源码 以便Windows 10更好地理解big little架构 资料显示 骁龙835作为一款集成了CPU GPU 基带 蓝牙 Wi Fi的SoC 比传统的Wintel方案可以节省至少30 的PCB空间 按计划 今年Q4 华硕 惠普 联想将首发骁龙835 Win10电脑 预计均是二合一形态的产品 当然 高通骁龙只是个开始 未来也许还能见到三星Exynos 联发科 华为麒麟 小米澎湃等进入Windows 10桌面平台此前的一加3T搭载的是3400mAh电池 DashCharge快充规格为5V 4A 至于电池缩水 可能与刘作虎所说 一加手机5要做市面最轻薄大屏旗舰的设定有关 按照目前掌握的资料 一加手机5拥有5 5寸1080P三星AMOLED显示屏 6G 8GB RAM 64GB 128GB ROM 双1600万摄像头 备货量 惊喜 根据京东泄露的信息 一加5起售价是xx99元 应该是在2799 2899 2999中的某个这是6月18日在葡萄牙中部大佩德罗冈地区拍摄的被森林大火烧毁的汽车 新华社记者张立云摄原标题 44岁女子跑深圳约会网友被拒 暴雨中裸身奔走 深圳交警微博称 昨日清晨交警发现有一女子赤裸上身 行走在南坪快速上 期间还起了轻生年头 一辅警发现后赶紧为其披上黄衣 并一路劝说她 那么事发时 到底都发生了些什么呢 南都记者带您一起还原现场 南都记者在龙岗大队坂田中队见到了辅警刘青 发现女生的辅警 一位外表高大帅气 说话略带些腼腆的90后青年 刘青介绍 6月16日早上7时36分 他正在环城南路附近值勤 接到中队关于一位女子裸身进入机动车可能有危险的警情 随后骑着小铁骑开始沿路寻找 大概花了十多分钟在南坪大道坂田出口往龙岗方向的逆行辅道上发现该女子 女子身上一丝不挂地逆车流而行 时走时停 时坐时躺 险象环生 刘青停好小铁骑 和另外一名巡防员追了上去 发现女子的情绪很低落 话不多 刘青尝试和女子交流 劝说女子离开 可女子并不愿意接受 继续缓慢地往南坪快速路的主干道上走去 此时路边上已经聚集了很市民围观 为了不刺激女子的情绪 刘青和巡防员一边盯着女子一边驱赶着围观的群众 现场还原 从警方提供的一份视频了解到 16日早上7时25分 女子出现在坂雪岗大道与环城南路的监控视频中 此时女子还穿着白色的内裤 正沿着坂雪岗大道往南坪快速的方向缓慢地走着 当时正值上班高峰期 十字路口的车流已经排起了长队 当女子出现时 路上的市民纷纷驻足观望 不少车辆也放慢了速度 但女子并不为市民观望停下脚步 依然缓慢走着 当女子行进到十字路口中间时 一辆大货车挡住了镜头 但是当女子再次出现镜头时 可以发现女子已经没穿内裤了 全身裸露继续朝着南坪快速方向走去 记者发现 视频中女子周围并没有人尾随或者上前劝止的市民 一大清早路上看到这样的情况 恐怕大家都没办法淡定 面对这一情况 刘青表示 一开始根本不敢看她 心里挺别扭 感觉很尴尬 但当刘青跟随女子上了南坪快速路主干道时 女子作出了让人意想不到的举动 她突然靠近护栏要从上面跳下去 刘青赶忙冲上去拉住了女子的手 将其控制住并远离护栏 碍于女子没有穿衣服 刘青递上衣服 女子没接受还把衣服扔到排水沟里 继续往前走 没办法刘青只能紧紧拉着她的一只手跟在后面 刘青一路上耐心地开导安慰她 但只听到她不断地重复着一句话 要是你也遭遇我的事 你也会这样的 期间她还不时试图挣脱刘青的手要冲向护栏往下跳 就这样 我被牵着走了大概十多分钟 天突然下起了大暴雨 雨大的连眼睛都睁不开 刘青继续说着 瞬间他们就被雨透了 但女子依然不愿意接受刘青的帮助 就继续冒着大雨往前走 大概走了有四十分钟吧 女子突然停下来说 我想回家了 然后女子也接受了刘青递过来的小黄衣 就出现了深圳微博上的照片 女子披着小黄衣 刘青小心翼翼地在旁边走着的场景 从南平快速下来后 刘青和巡防员将女子带到了附近的坂田派出所 那姑娘到底是遭遇了什么样的事情 才会说 要是你也遭遇我的事 你也会这样 据警方透露 该女子姓陈 系湖北人 今年44岁 据家属反映其有精神病史 三天前 陈某从老家来深圳约会网友 但约会受挫导致情绪异常 女子遂产生轻生念头 目前 陈某已经被送往深圳某精神病医院进行治疗 大大君只希望姑娘能早点康复 其实真爱的到来并不存在年龄的限制 你们说呢 因善良的原因 一众网友纷纷为 交警暖男点ZAN 弓常yan桦 就想问这个小哥哥有女票吗 原谅我这一辈子浪荡不羁爱萨摩耶 有什么过不去的要轻生嘛 想想自己的家人 同时也感谢交警蜀黍 火心聆听心灵 点赞交警 中華云盾 警察 警察就是群众最需时申出援手 Tomchlee 蜀黍帅 SJ 李赫海i 这个交警很暖有木有 男子迷奸网友拍418个视频 女方从20岁到50岁不等 去年6月7号上午 淮安市涟水县公安局刑警大队突然接到了一个奇怪的报警电话 一名女子言语不清 声称自己遭到了侵害 女子 被侵害 言语不清 几个关键词令接到电话的民警瞬间紧张起来受到A股被纳入MSCI指数的利好消息刺激 A股市场从周三开始再度上演龙马行情 周四上午金融股和白马股表现喜人 但是尾盘跳水之后 仅金融板块仍维系红盘状态 分析人士认为 金融股受益于MSCI纳入A股和低估值而重获资金青睐 但是存量资金博弈格局下 风格交替的震荡格局料延续 流动性改善 经济悲观预期修正等有助于支撑板块继而大盘指数逐步向好 一九 再现 周四 A股市场未能延续周三的上行态势 两市成交小幅放量 29个中信一级行业中 收盘仅银行和非银行金融两个行业指数收红 分别上涨1 80 和0 20 从二级行业来看 股份制与城商行的涨幅最高 达到2 22 国有银行上涨0 82 信托及其他上涨0 64 保险板块上涨0 34 证券板块上涨0 06 银行板块25只成分股中 共有21只收红 其中 招商银行涨幅最大 上涨6 66 贵阳银行上涨3 65 上海银行 华夏银行 浦发银行和兴业银行的涨幅均超过1 50 非银行金融板块44只成分股中 共17只个股上涨 其中 安信信托 中国太保涨幅居前两名 分别上涨4 57 和3 04 西水股份 华安证券 中国人寿和新华保险的涨幅也均超过2 相对而言 券商股多小幅下跌 近期 对A股市场消息面影响最大的就是MSCI宣布从2018年6月开始将A股纳入MSCI新兴市场指数 而其中 金融股是占比最大的一个群体 国金证券李立峰团队指出 最新方案中包含的222只成分股中 剔除了中等市值 非互联互通可交易的股票以及有停牌限制的标的 由于纳入了很多大市值AH股 A股在MSCI EM中的权重由0 5 上升到了0 73 其中 金融板块占比最高 达到40 11 泛消费次之 占比为24 26 两个板块涵盖了大部分权重股 动态来看 由于加入了很多是指占比高的金融公司 金融板块的权重增加了近一半 其他大部分行业权重都受到了稀释 尽管A股被纳入MSCI这一利好事件对短期市场情绪有所提振 对中长期海外增量资金预期升温 但短期内 市场量能尚不能有效放大 金融股独乐乐情景也就难以持续 存量博弈格局下 风格交替 指数震荡格局难改变 光大证券指出 利好并未引起市场太大的热情 两市指数和成交量均较为平淡 但市场风格出现了较大变化 白马股金融股上涨的同时 成长股 题材股全天低迷 这表明市场增量资金依然很少 存量资金在不同板块之间腾挪 这样的跷跷板格局使得指数难有突破 市场中期依旧偏空 短期依旧可能维持震荡格局虽然至今夏普智能手机在市场上无法排得上号 已经完全没落 并于 2013 年退出中国市场 但是今年 3 月份官方突然宣布回归中国 预示着很快就有夏普新机在中国登场了 那么 第一款夏普手机什么时候登陆中国呢 又会是怎么样的手机呢 近日 一款型号为 FS8016 的夏普神秘新机悄然出现在 GeekBench 的跑分库上 从其中相关信息了解到 这款机子并非旗舰定位 所搭载的是高通骁龙 660 处理器 配备有 4GB 的内存 骁龙 660 是高通今年最受瞩目的芯片之一 采用 14 纳米工艺 八个 Kryo 260 核心设计 集成 Adreno 512 GPU 和 X12 LTE 调制解调器 当前市面上只有一款机子采用了骁龙 660 处理器 那就是已经上市销售的 OPPO R11 骁龙 660 尽管并非旗舰芯片 但在多核新能上比去年骁龙 820 强 单核改进也很明显 所以放在今年仍可以让很多手机变成高端机 不过 由于 OPPO 与高通签署了排他性协议 可以独占两三个月时间 考虑到夏普既然开始测试新机了 说明只要等独占时期一过 夏普就能发布骁龙 660 新品了 按照之前被曝光的渲染图了解 夏普的新机核心竞争优势还是全面屏 因为从 2013 年推出全球首款全面屏手机 EDGEST 302SH 至今 夏普手机推出了多达 28 款的全面屏手机 在 5 月份的媒体沟通会上 惠普罗忠生表示 我敢打赌 12 个月之后 在座的各位手机都会换掉 因为全面屏时代的到来 我们怀揣的手机都将成为传统手机沙漠雄鹰 震荡有利消化套牢筹码 周四开盘上证50在银行券商大蓝筹带动下一度涨近2 沪指也一度站上60日与120日均线 但在 黑天鹅 万达电影暴跌拖累下 沪深股市绝大多数时间分道扬镳 14点后次新股大幅跳水令各大指数全线收绿 存量博弈格局难改 量能久日不见放大下 蓝筹行情并不可持续 短线策略依然是以题材为主 次新股和区域经济概念股调整压力仍然突出 成长股再次大跌 但目前处于底部 低位反复震荡有助于夯实底部 目前市场仍属存量资金博弈 短期蓝筹股上演的指数行情令市场承压 短期利好带动的蓝筹股行情或将告一段落 后期需要题材股接力来维稳指数走向 今日经财要闻 一 央行上海总部发布 债券通 北向通境外投资者准入备案业务指引 二 我国信用法规和标准研究正在加快推进 三 上海易居房地产研究院发布的 房贷利率与楼市研究报告 显示 近期许多城市的个人住房贷款利率均有不同程度的上涨 四 水污染防治法修正案草案二审 更大力度保护水环境 五 根据中国结算发布的 关于开展存量一人多户休眠工作的通知 已启动对同一投资者开立的三户以上多开账户的休眠工作 按中国结算的文件要求 自6月23日后的下一交易日 下周一 6月26日 起 被确认为休眠账户的 将在交易系统中止交易 六 李军 十三五 末上海金融市场交易额或达2000万亿 七 受A股纳入MSCI新兴市场指数 以及中国宏观环境持续稳定的双重因素鼓舞下 富达国际基金经理马磊表示 预计2017年下半年中国股市投资者情绪将有望转好 中国股市未来十年增长将主要由创新驱动 大盘回顾 周四A股市场出现了早盘冲高 午市后震荡回落 尾盘大幅跳水的走势 从盘面看 沪深300指数盘中创17个月新高 但2000余只个股下跌 市场分化相当明显 至收盘 上证指数报3147 45点 较前一交易日跌8 76点 跌幅为0 28 深成指报10265 20点 跌101 97点 跌幅为0 98 创业板指表现最弱 报1798 38点 跌幅达到1 44 两市个股普跌 仅400余只交易品种上涨 不计算ST股和未股改股 两市涨停个股不足30只 两市共成交4781亿元 较前一交易日大增800多亿元 数据显示 昨日两市共有主力尽流出190 57亿元 较上一日的96 95亿元大增96 27 两市61个行业板块有57个遭遇主力抛售 虽然券商与银行板块共有近13亿元主力介入 但化工行业与医药制造就分别遭遇14亿元与12 21亿元的主力抛售 而持续低迷的雄安新区的抛售力度更是高达41 69亿元 技术分析 昨日临近收盘的半个小时 沪指上演高位跳水 将涨幅全部回吐 失守60日均线 成交量明显放大 留下长长的上影线 尽管跌幅不深 但个股一地鸡毛 沪指自3016点以来 大盘每次回调的相对低点位置都在不断抬升 所以即使大盘冲高乏力后出现回落 指数调整的空间也因被封住而难以出现大跌 总体来说市场震荡分化的格局短期依然难以打破 短线来看 沪指在盘中攻克60日均线和半年线压力之后 却在当日得而复失 而创业板指则连上方均线压力都无法触及 这样的走势 无疑会对投资者心理产生负面影响 而在技术形态上 在60分钟K线级别已经形成了背离雏形 一旦沪指跌破3117点 就意味着背离成型 如此即可能引发日线级别的下跌 综合分析 目前指数正处在压力区间 市场脆弱的心态 碎片化的涨停板 主线模糊 热点凌乱 赚钱效应弱等因素都是大盘突破的掣肘因素 而昨日的尾盘跳水 主要有以下原因 首先 长期的二八分化 导致人气低迷 最近一段时间权重股虽然整体走高 但该板块群众基础弱 弹性小制约绝对涨幅 难以形成大面积的赚钱效应 与此同时 现在场内二八轮动非常频繁 今天追进的资金明天就要吃套 打击资金积极性 其次 市场反弹到重要压力区 却仅靠资金拉升指标股来抬升指数 这种没有赚钱效应的拉抬是不可能持久的 昨日招商银行一度大涨7 但投资者似乎并不买账 跟风盘极少 由于目前A股一直是存量资金博弈的市场 所以 指标股吸引着资金加码 那么 就意味着中小市值品种面临着强大的筹码套现压力 另外 昨日万达股票债券莫名齐跌 午后复星医药盘中突现 闪崩 令市场踩踏事件出现 短期市场受此影响 再次收复上方半年线的压力大增 投资建议 近期权重蓝筹一直强于中小创 但上涨始终缺乏有效的量能支持 在存量博弈背景下 后续资金若无法跟上 活跃资金或会转战中小创 短线投资者在降低权重配置时 可加大中小创中盘子小 股性活跃的超跌品种 大盘的纠缠格局依然还在进行中 权重股虽整体走高 但群众基础弱 弹性小 绝对涨幅有所制约 金融板块大涨促使沪指上摸3180点压力位区间 但能否真正有效突破 还需要观察几日 基于周四K线组合形态偏向悲观 因此投资者当前宜先退出观望 等待股指下方获得支撑后再寻机操作 热点分析 由于粤港澳大湾区论坛期间 腾讯看多人工智能 百度也将于7月5日举办 百度AI开发者大会 以谷歌 亚马逊为代表的互联网巨头一致看好人工智能未来的发展 产业创新叠加政策扶持 人工智能行业高景气度有望维持 市场在最近一个月内出现了4次长上影线 之前三次都形成了周线级别调整 加之下周是月末钱荒效应 值得股民做好应对 自6月初以来 市场始终是以中小创为首的反弹模式 个股赚钱效应保持 而随着周三尾盘开始 权重股快速拉升 带来了指数尾盘翻红 周四刷新高点 但与此同时个股赚钱效应却有了明显的降温的 个股涨少跌多 午盘后个股跳水加剧这一现象必须要引起重视 玉名认为这意味着上证50创新高 但并没有带来其余个股的跟随 相反还带来了大部分个股的跳水 而受到政策红利的军工板块和上周 王者荣耀 引发的手游股类似 都是出现了 一日游 的走势 没有延续性的热点 更多地来自于事件刺激和超跌反弹 市场下周将进入到一个比较敏感的时间段 既是月末 季末 又是半年末 容易出现资金的异动 实际上 从美联储加息和缩表行为来看 已经意味着紧缩货币政策的开启 而这也在全球央行中流行 金融市场很难再现 大水漫灌 式强刺激 中性偏紧的政策和流动性将成为一种 常态 从基本面来看 玉名认为中国经济仍将是 L 型筑底走势 这是一个阶段 是一段较长的时间 意味着没有高速增长 也没有增速大幅下滑 而是横盘周期 同时以适度偏紧的政策 为供给侧结构性改革提供良好环境 因此 从基本面决定了股市只能处于震荡市周期 技术上 沪指运行到60日均线附近 在权重股拉升之下有突破之意 不过由于运行到前期肩部区域 压力还是比较大 这种单纯依托权重股 而忽略个股效应的模式能够走多远 还是值得担忧的 这是引发资金派发而形成跳水的关键因素 尤其是个股的赚钱效应越来越差 甚至不排除一些获利盘和解套盘选择了短线的离场 伴随着高位 资金追涨的压力也在增加 谨慎观望气氛增加 导致了成交量的止步不前 玉名认为目前股民需要对于个股做一个梳理了 短线反弹较多的 且近期放量滞涨的 就要有所警惕了 要逐步兑现利润 选择落袋为安 重新等待机会 而对于已经进入前期阻力区或密集套牢区的个股 应该及时考虑减仓 毕竟这样的品种很容易出现再度的调整 对于前期涨幅不大 或者是下跌通道已经扭转的个股 可以暂时持有观望 昨日回顾 主板终于费尽九牛二虎之力爬到了3180点附近 但是遗憾的是在主板尤其是上证50和沪深300不断地创新高之际 中小创却依然是忍受着无厘头的煎熬 午后市场更是以全线跳水的结局收盘 那么对于这样的市场周五会怎样 昨日消息面 央行 债券通 登记托管等实施细则会很快发布实施 发改委 抓紧制定出台配气价格监管规则 人社部 9月底前基本实现跨省异地就医住院费用直接结算 23日成品油将迎年内第六次下调 降幅或达270元 吨 国防科工局 推进军工企业混改 加快军工资产证券化进程 广电总局要求新浪微博等网站关停视听节目 欧美股指延续涨跌不一的走势 消息面上 外围市场整体稳健 国内信息面则继续是不死不活的形式 预计市场继续走整理行情 技术分析 技术上看 市场昨日走势在午后全线跳水 主板创新高后回落 创业板则是继续在1800点附近做整理 相比于主板则显得较为弱势 技术上看 市场周五将依然不会有大行情 但是二八转换的格局将可能随时出现 今日大盘下档第一支撑位在3130点 第二支撑位在3100 上档第一压力位在3160点 第二压力位在3180点 今日走势 欧美股指高位整理 隔夜信息面依然没有什么实质性的利好 今天继续有新股申购 在这样的情况下 预计大盘再度平开或小幅低开可能性大 整体看今天指数出现调整的可能性大 日线继续以小阴 小阳或十字星线为主 随时防止主板可能出现的回调 今日操作 就昨日市场的走势看 依然是面子行情 更是将中小创再度推到了一个极为尴尬的境地 当然在筑底的过程中很多的不确定因素将会愈发明显 因此建议大家操作继续在短期寻求涨幅不大的个股或者是底部放量的个股 尤其是再加上业绩稳定的个股将是最好 逢低介入 操作上短期建议执行快进快出的策略 远离短期涨幅过大的个股 具体操作坚持大涨卖 大跌买 不涨不跌选择观望的策略 从昨日市场走势看 又一次证明了彬哥之前所让大家关注的3180点主板可能回调的观点是正确的 而主板也确实在3180点附近出现了回调 对于这样的回调 彬哥认为是一个健康的事情 也是一个必须要出现的事情 现在唯一不能确定的就是在主板回调的时候中小创会不会出现企稳 会不会出现让投资者操作的机会 因此大家今天上午需要至少需要半天的时间去观察市场可能出现的结果 目前行情有一点可以确定的就是主板将会在3180点附近出现调整 因此大家万不可在这个时候再去追涨主板的个股 尤其是以保险银行为首的上证50个股 就周四午后市场的走势看 主板的调整势在必行 因此大家要做好主板调整的心理准备 当然还要做好市场全线调整的心理预期原标题 武汉警方一下子抓了808人 还都是俊男靓女 原来他们每天偷偷摸摸干这事 武汉警方一下子抓了808人 还都是俊男靓女 原来他们每天偷偷摸摸干这事 大家还记得今年4月光谷曾发生的一件大事吗 当时微博和朋友圈上都传疯了 说是光谷国际广场大量白领被捕 现场手铐都不够用 结果经记者深入调查后发现 这些被抓的并不是网传的 白领 而是一个有282名涉案人员的诈骗团伙 天呐 接近300人的犯罪团伙 你以为这个数字已经够庞大了吗 错 还有让你更震惊的 据武汉市公安局通报 6月9日 警方在武汉三镇的10处窝点内 抓获了808名嫌疑人 而且令人大跌眼镜的是 他们当中大多都是年青人 用 俊男靓女 来形容也不为过 年纪不大 外形不差 那么到底是犯了什么事呢 其实说起来 这事估计绝大多数人都碰到过 那就是网络诈骗 涉案电脑800余台 手机2000余部 银行卡3000余张 因为涉及的账户太多 涉案金额目前还没统计出来 这是全国涉案人数最多的一起特大网络诈骗案 这些惊人的数字背后 究竟藏着什么样的秘密 警方把他们一锅端了 今年4月 武汉警方获悉在塔子湖地区有电信网络诈骗活动 经过2个多月的秘密侦查 发现了一个特大网络诈骗犯罪团伙 原来该团伙利用非法互联网金融平台 实施推荐股票 炒期货等诈骗 其10处窝点散布在江岸 洪山 东湖高新 硚口 江汉等5个区的写字楼内 涉案人员多达800余名 6月9日上午 武汉警方组织了1000余名警力 分成14个抓捕组 同时对首脑分子和10处窝点实施了突击抓捕行动 目前 警方已依法刑事拘留411人 对45人取保候审 该案还在进一步调查中 他们是如何进行诈骗的 人数众多的这个诈骗组织是怎么样进行人员分工 又是如何一步步引受害人上钩的呢 2015年以来 该犯罪团伙以投资组建的某集团公司为总部 旗下成立多家分公司 子公司 设立人事部 财务部 行政部等机构部门 分为经理 分析师 业务小组长 业务员等组织层级 在网上发布招聘信息招揽 培训业务员 依托虚构的互联网金融平台 通过业务员散布 有内幕消息 等虚假信息 引诱受害人加入专门的QQ群 微信群 再由所谓的 证券公司资深分析师 和 经理 逐个联系受害人 引诱受害人交易股票 期货 贵金属 外汇等金融产品 受害人若获利则按 五五 六四 分成 若亏损则拉入 黑名单 不再联系 网友热评 李晓猫不吃鱼 在人信汇写字楼面试过一个这种工作 一听不对劲就撤了 说不适合我 我嘴巴笨 习惯就好33xxzz 八百多人 可能相当部分人都不大清楚自己到底是啥性质工作吧 刑法守望者 要警惕了 普法 各种工作都要预防法律风险 要做个明白人 不是什么钱都可以拿 尤其是从事金融 保险 银行 财务的人员 不小心就触犯刑法 童颜永在 心理医生 盘在写字楼内的诈骗公司 以高薪招聘业务人员为诱饵 实行诈骗的顽疾 终于被揣掉了 你的渔船 联系一下自己的朋友 看有多少个被抓了 The former degrees 招聘平台和销售会上百分之八十就是这种工作 从源头抓起 防止更多人受伤 宇宇家的小仙女 恐怖 进了一个星期发现不太对劲 这尼玛是让我骗人啊 赶紧自己跑路了 z_路漫漫 我做过 后来听说公司跑路了 睡不饱怎么办啊小铭大 我都面试过这种工作 还培训了几天 话术一看就的套路骗 果断闪人 这种公司太多了 遗忘的金叶子 碰到这样的骗子找我们做视频 最后被我打电话骂了一顿 a一元复始c 还有那些天天电话骚扰别人信贷的 卖房的 卖邮票的 发票的社会生活中一不留神就会被坑 所以活着需要理智 笑看世间丑2448337651 这是在路上发骗广告搞高利贷的那些互联网金融公司吗 未来温暖的时光属于自己 金融港 街道口都是这些 好多同学刚刚毕业都去做过 都是网上投简历 这些公司就猛联系你 其实好多都不知道这是骗人的吧 有强迫症的天蝎座怪咖 吓到我了 冉冉的彗星是个宝 早上还接到说做期货 霖心金鱼And张蒙 都不敢去找工作了 蒋妈妈1 5 刚回到武汉 准备找份工作 看网上好多这种招聘的 感觉像骗人的 都不看的 看了网友的评论 小编只有一个感觉 找工作时一定要擦亮双眼 不要因为一时疏忽 而给自己的生活抹上污点 俗话说 知己知彼百战不殆 弄清网络诈骗的常见手法 才能避免上当受骗 下面就为大家奉上防骗攻略 遇到诈骗只需见招拆招 网络防骗攻略 电信网络诈骗犯罪往往表现为 六大陷阱 1 物美价廉的网购陷阱 2 推销产品的便利陷阱 3 异性交友的情感陷阱 4 中奖信息的惊喜陷阱 5 冒充国家工作人员的恐吓陷阱 6 钓鱼网站和网上银行的迷惑陷阱 下面是网络诈骗中比较常见的几种类型 一起学习如何防范 让骗子无处遁形 1虚假红包诈骗 临近节日时 各大电商平台会以派发红包的形式 为促销活动预热 有不法分子趁机在微信朋友圈 微信群等平台中 派发虚假红包 诱骗大家点击 套取个人信息 或传播木马病毒 盗取银行账号 识骗方法 慎点此类红包领取链接 如果不小心点击 应第一时间关闭手机网络 修改网银 支付宝等重要账户密码 并通过安全软件查杀木马病毒 2二维码诈骗 抢购高峰期 网页打开慢 网银交易出现比较迟钝现象 有不法分子会冒充客服或店主 以单子出现 调单 卡单 等说法为幌子 故意说没有收到款项欺诈消费者 取得信任后要求消费者以其他办法进行转账 识骗方法 消费者要注意 调单 卡单 激活订单等多为诈骗术语 见此类词语基本可以断定对方是骗子 没有收到款项这样的问题 是不会在东京 天猫这样的大型网络购物平台出现的 3钓鱼网站诈骗 节假日期间 公众的购物热情高涨 假冒正规电商官方网站 在线支付平台等的钓鱼网站活动频繁 消费者在忙于浏览各色商品页面时 往往容易忽略链接的安全性 从而误入诈骗分子发来的虚假钓鱼网站 识骗方法 对陌生人发来的商品链接要提高警惕 谨慎打开 如遇网络诈骗应第一时间向属地公安机关报案 并向举报中心举报 4虚假客服诈骗 抢购高峰期 网页打开慢 网银交易出现比较迟钝现象 有不法分子会冒充客服或店主 以单子出现 调单 卡单 等说法为幌子 故意说没有收到款项欺诈消费者 取得信任后要求消费者以其他办法进行转账 识骗方法 消费者要注意 调单 卡单 激活订单等多为诈骗术语 见此类词语基本可以断定对方是骗子 没有收到款项这样的问题 是不会在东京 天猫这样的大型网络购物平台出现的 5预购诈骗 还有不法分子会以 提前购 预售 为诱饵向用户发送木马链接 除了网购链接被植入木马 钓鱼网站 还有不法分子会在 预售 活动上做文章 骗取买家 定金 识骗方法 慎点不明链接 有关购物短信也不要轻信 同时也请给手机装上杀毒软件 提供安全的上网环境 6中奖诈骗 购物过后 很多人会陆陆续续收到一些商家的中奖信息 切记不要随意拨打中奖信息提供的电话号码或点击发来的网站链接地址 很可能会让手机或电脑感染上木马病毒 识骗方法 收到中奖信息后留心一下 看一看你所购买的产品中有没有这家的产品 然后最好能在天猫店里直接和卖家联系确认消息 7朋友圈诈骗 由于缺少第三方监管平台 不法分子会在朋友圈发布虚假低价购物信息 骗取消费者汇款购买 识骗方法 朋友圈里的销售行为 存在取证难 查处难的问题 因此建议大家在朋友圈买东西时 尽可能选择正规第三方支付平台进行支付 避免直接支付 以确保安全 8快递诈骗 不法分子会从非法渠道获得客户信息 制作假的快递单 随后冒充快递员提前联系受骗者 把虚假货品送到消费者手中 骗取钱财 识骗方法 签收包裹前 务必按官方的信息核实对方身份 并确认是否是自己的包裹 在取货之后 一定记得把自己的个人信息从包裹上完全抹去 避免个人信息泄露 9退款诈骗 不法分子常以 退款 或 退货 为由假扮网店客服 要求消费者点击其提供的 钓鱼网站 链接 盗取持卡人的银行密码及动态验证码 识骗方法 如果接到网上购物退款的电话或短信等信息 一定要谨慎对待 切莫泄露银行卡账号 户名 动态验证码等个人信息 同时 提醒大家 保护好自己账户信息 遇到情况一定及时报警 武汉破特大网络诈骗案抓808人 以 内幕消息 骗人 6月12日 武汉市公安局向澎湃新闻通报 该局破获一起特大网络诈骗案 抓获包括卢某 熊某等8名首脑分子在内的涉案人员808名 查扣涉案电脑800余台 手机2000余部 银行卡3000余张 据悉 这是全国打击利用非法互联网金融平台实施诈骗犯罪中 查获涉案人数最多的一起案件6月21日 A股纳入MSCI指数尘埃落定 但当天被寄予厚望的券商股并未扛起反弹大旗 22日 在222只纳入MSCI指数的A股股票中 银行股全线飘红 其中招商银行领涨 涨幅达6 66 保险股和券商股的表现也可圈可点 在这222只股票中 金融板块的股票数量和总市值占比均位居首位 分析人士指出 银行股股息率高 估值低 收益稳定 对于资金量较大 投资期限较长的资金存在相当大的吸引力 从国际经验来看 纳入MSCI指数后 相关股市的投资者风格将更加稳健 更加偏好业绩稳定 流动性好 风险低的优质蓝筹股 银行股具估值优势 6月22日 A股金融股表现强势 板块涨幅达1 19 据平安证券统计 在222只纳入MSCI指数的A股股票中 金融板块市值占比达41 32 其中银行 证券和保险子板块的市值占比分别为27 30 7 75 和6 24 多家券商研究报告认为 银行等金融股受到纳入MSCI指数的提振 未来更多境外资金将进入金融股 华泰证券表示 在纳入MSCI指数之后 A股将迎来约850亿元人民币的增量资金 其中 考虑到222只股票中 金融股市值占比约42 并且金融股体量大 流动性强 估值低 符合境外资金偏好 有望迎来超过权重的资金比例 预计金融股有望吸引增量资金约350亿元人民币 新富资本证券投资中心研究总监廖云龙认为 银行股脱颖而出的主要原因是低估值 市场预期银行股基本面改善 同时市场整体风格偏保守 偏爱低估值 22日银行股的大涨是市场风格的延续 是投资者对龙头股和对低估值的防御性选择 东方财富choice统计的一季度末QFII重仓股数据显示 银行股是QFII关注的重点之一 在前五十大重仓股中 北京银行 南京银行 宁波银行 上海银行榜上有名'"
      ]
     },
     "execution_count": 14,
     "metadata": {},
     "output_type": "execute_result"
    }
   ],
   "source": [
    "# 将所有文档叠加到一起(方法2)\n",
    "txt_from_reduce = reduce(lambda a1, a2: a1 + a2, all_articles[:10])\n",
    "txt_from_reduce"
   ]
  },
  {
   "cell_type": "code",
   "execution_count": 16,
   "metadata": {},
   "outputs": [
    {
     "data": {
      "text/plain": [
       "'<!DOCTYPE html>\\n<html lang=\"zh-cmn-Hans\" class=\"\">\\n<head>\\n    <meta http-equiv=\"Content-Type\" content=\"text/html; charset=utf-8\">\\n    <meta name=\"renderer\" content=\"webkit\">\\n    <meta name=\"referrer\" content=\"always\">\\n    <meta name=\"google-site-verification\" content=\"ok0wCgT20tBBgo9_zat2iAcimtN4Ftf5ccsh092Xeyw\" />\\n    <title>\\n        豆瓣电影\\n</title>\\n    \\n    <meta name=\"baidu-site-verification\" content=\"cZdR4xxR7RxmM4zE\" />\\n    <meta http-equiv=\"Pragma\" content=\"no-cache\">\\n    <meta http-equiv=\"Expires\" content=\"Sun, 6 Mar 2005 01:00:00 GMT\">\\n    \\n    <meta http-equiv=\"mobile-agent\" content=\"format=xhtml; url=http://m.douban.com/movie/\">\\n    <meta property=\"qc:admins\" content=\"13753521351564752166375\" />\\n    \\n    \\n    <meta name=\"keywords\" content=\"电影、经典电影、热映、电视剧、美剧、影评、电影院、电影票、排行、推荐\"/>\\n    <meta name=\"description\" content=\"豆瓣电影提供最新的电影介绍及评论包括上映影片的影讯查询及购票服务。你可以记录想看、在看和看过的电影电视剧，顺便打分、写影评。根据你的口味，豆瓣电影会推荐好电影给你。\" />\\n\\n    <link rel=\"apple-touch-icon\" href=\"https://img3.doubanio.com/f/movie/d59b2715fdea4968a450ee5f6c95c7d7a2030065/pics/movie/apple-touch-icon.png\">\\n    <link href=\"https://img3.doubanio.com/f/shire/bf61b1fa02f564a4a8f809da7c7179b883a56146/css/douban.css\" rel=\"stylesheet\" type=\"text/css\">\\n    <link href=\"https://img3.doubanio.com/f/shire/ae3f5a3e3085968370b1fc63afcecb22d3284848/css/separation/_all.css\" rel=\"stylesheet\" type=\"text/css\">\\n    <link href=\"https://img3.doubanio.com/f/movie/8864d3756094f5272d3c93e30ee2e324665855b0/css/movie/base/init.css\" rel=\"stylesheet\">\\n    <script type=\"text/javascript\">var _head_start = new Date();</script>\\n    <script type=\"text/javascript\" src=\"https://img3.doubanio.com/f/movie/0495cb173e298c28593766009c7b0a953246c5b5/js/movie/lib/jquery.js\"></script>\\n    <script type=\"text/javascript\" src=\"https://img3.doubanio.com/f/shire/c7db1e57a6f6aebaa1d8ca83a62a94904c19df95/js/douban.js\"></script>\\n    <script type=\"text/javascript\" src=\"https://img3.doubanio.com/f/shire/0efdc63b77f895eaf85281fb0e44d435c6239a3f/js/separation/_all.js\"></script>\\n    \\n    <link rel=\"stylesheet\" href=\"https://img3.doubanio.com/f/movie/587856b78f46ea9f546a570724e03591afb37cfa/css/movie/home.css\" />\\n    <script type=\"text/javascript\" src=\"https://img3.doubanio.com/f/shire/77323ae72a612bba8b65f845491513ff3329b1bb/js/do.js\" data-cfg-autoload=\"false\"    ></script>\\n    <script>\\n        Do.global(\\'https://img3.doubanio.com/f/shire/0e82fba9c90a7daffc62dd2f80b23ff31c5e4739/js/separation/prettyfield.js\\');\\n        Do.global(\\'https://img3.doubanio.com/f/shire/aef14a3cb852be78af0d48b0534beeea33035c0f/js/core/moreurl.js\\');\\n    </script>\\n    \\n  <script type=\\'text/javascript\\'>\\n  var _vwo_code = (function() {\\n    var account_id = 249272,\\n      settings_tolerance = 0,\\n      library_tolerance = 2500,\\n      use_existing_jquery = false,\\n      // DO NOT EDIT BELOW THIS LINE\\n      f=false,d=document;return{use_existing_jquery:function(){return use_existing_jquery;},library_tolerance:function(){return library_tolerance;},finish:function(){if(!f){f=true;var a=d.getElementById(\\'_vis_opt_path_hides\\');if(a)a.parentNode.removeChild(a);}},finished:function(){return f;},load:function(a){var b=d.createElement(\\'script\\');b.src=a;b.type=\\'text/javascript\\';b.innerText;b.onerror=function(){_vwo_code.finish();};d.getElementsByTagName(\\'head\\')[0].appendChild(b);},init:function(){settings_timer=setTimeout(\\'_vwo_code.finish()\\',settings_tolerance);var a=d.createElement(\\'style\\'),b=\\'body{opacity:0 !important;filter:alpha(opacity=0) !important;background:none !important;}\\',h=d.getElementsByTagName(\\'head\\')[0];a.setAttribute(\\'id\\',\\'_vis_opt_path_hides\\');a.setAttribute(\\'type\\',\\'text/css\\');if(a.styleSheet)a.styleSheet.cssText=b;else a.appendChild(d.createTextNode(b));h.appendChild(a);this.load(\\'//dev.visualwebsiteoptimizer.com/j.php?a=\\'+account_id+\\'&u=\\'+encodeURIComponent(d.URL)+\\'&r=\\'+Math.random());return settings_timer;}};}());\\n\\n  +function () {\\n    var bindEvent = function (el, type, handler) {\\n        var $ = window.jQuery || window.Zepto || window.$\\n       if ($ && $.fn && $.fn.on) {\\n           $(el).on(type, handler)\\n       } else if($ && $.fn && $.fn.bind) {\\n           $(el).bind(type, handler)\\n       } else if (el.addEventListener){\\n         el.addEventListener(type, handler, false);\\n       } else if (el.attachEvent){\\n         el.attachEvent(\"on\" + type, handler);\\n       } else {\\n         el[\"on\" + type] = handler;\\n       }\\n     }\\n\\n    var _origin_load = _vwo_code.load\\n    _vwo_code.load = function () {\\n      var args = [].slice.call(arguments)\\n      bindEvent(window, \\'load\\', function () {\\n        _origin_load.apply(_vwo_code, args)\\n      })\\n    }\\n  }()\\n\\n  _vwo_settings_timer = _vwo_code.init();\\n  </script>\\n\\n\\n    <style type=\"text/css\"></style>\\n    <style type=\"text/css\">img { max-width: 100%; }</style>\\n    <script type=\"text/javascript\"></script>\\n    <link rel=\"stylesheet\" href=\"https://img3.doubanio.com/misc/mixed_static/11d137da675bd116.css\">\\n\\n    <link rel=\"shortcut icon\" href=\"https://img3.doubanio.com/favicon.ico\" type=\"image/x-icon\">\\n</head>\\n\\n<body>\\n  \\n    <script type=\"text/javascript\">var _body_start = new Date();</script>\\n\\n    \\n    \\n\\n\\n\\n    <link href=\"//img3.doubanio.com/dae/accounts/resources/0246c88/shire/bundle.css\" rel=\"stylesheet\" type=\"text/css\">\\n\\n\\n\\n<div id=\"db-global-nav\" class=\"global-nav\">\\n  <div class=\"bd\">\\n    \\n<div class=\"top-nav-info\">\\n  <a href=\"https://accounts.douban.com/passport/login?source=movie\" class=\"nav-login\" rel=\"nofollow\">登录/注册</a>\\n</div>\\n\\n\\n    <div class=\"top-nav-doubanapp\">\\n  <a href=\"https://www.douban.com/doubanapp/app?channel=top-nav\" class=\"lnk-doubanapp\">下载豆瓣客户端</a>\\n  <div id=\"doubanapp-tip\">\\n    <a href=\"https://www.douban.com/doubanapp/app?channel=qipao\" class=\"tip-link\">豆瓣 <span class=\"version\">6.0</span> 全新发布</a>\\n    <a href=\"javascript: void 0;\" class=\"tip-close\">×</a>\\n  </div>\\n  <div id=\"top-nav-appintro\" class=\"more-items\">\\n    <p class=\"appintro-title\">豆瓣</p>\\n    <p class=\"qrcode\">扫码直接下载</p>\\n    <div class=\"download\">\\n      <a href=\"https://www.douban.com/doubanapp/redirect?channel=top-nav&direct_dl=1&download=iOS\">iPhone</a>\\n      <span>·</span>\\n      <a href=\"https://www.douban.com/doubanapp/redirect?channel=top-nav&direct_dl=1&download=Android\" class=\"download-android\">Android</a>\\n    </div>\\n  </div>\\n</div>\\n\\n    \\n\\n\\n<div class=\"global-nav-items\">\\n  <ul>\\n    <li class=\"\">\\n      <a href=\"https://www.douban.com\" target=\"_blank\" data-moreurl-dict=\"{&quot;from&quot;:&quot;top-nav-click-main&quot;,&quot;uid&quot;:&quot;0&quot;}\">豆瓣</a>\\n    </li>\\n    <li class=\"\">\\n      <a href=\"https://book.douban.com\" target=\"_blank\" data-moreurl-dict=\"{&quot;from&quot;:&quot;top-nav-click-book&quot;,&quot;uid&quot;:&quot;0&quot;}\">读书</a>\\n    </li>\\n    <li class=\"on\">\\n      <a href=\"https://movie.douban.com\"  data-moreurl-dict=\"{&quot;from&quot;:&quot;top-nav-click-movie&quot;,&quot;uid&quot;:&quot;0&quot;}\">电影</a>\\n    </li>\\n    <li class=\"\">\\n      <a href=\"https://music.douban.com\" target=\"_blank\" data-moreurl-dict=\"{&quot;from&quot;:&quot;top-nav-click-music&quot;,&quot;uid&quot;:&quot;0&quot;}\">音乐</a>\\n    </li>\\n    <li class=\"\">\\n      <a href=\"https://www.douban.com/location\" target=\"_blank\" data-moreurl-dict=\"{&quot;from&quot;:&quot;top-nav-click-location&quot;,&quot;uid&quot;:&quot;0&quot;}\">同城</a>\\n    </li>\\n    <li class=\"\">\\n      <a href=\"https://www.douban.com/group\" target=\"_blank\" data-moreurl-dict=\"{&quot;from&quot;:&quot;top-nav-click-group&quot;,&quot;uid&quot;:&quot;0&quot;}\">小组</a>\\n    </li>\\n    <li class=\"\">\\n      <a href=\"https://read.douban.com&#47;?dcs=top-nav&amp;dcm=douban\" target=\"_blank\" data-moreurl-dict=\"{&quot;from&quot;:&quot;top-nav-click-read&quot;,&quot;uid&quot;:&quot;0&quot;}\">阅读</a>\\n    </li>\\n    <li class=\"\">\\n      <a href=\"https://douban.fm&#47;?from_=shire_top_nav\" target=\"_blank\" data-moreurl-dict=\"{&quot;from&quot;:&quot;top-nav-click-fm&quot;,&quot;uid&quot;:&quot;0&quot;}\">FM</a>\\n    </li>\\n    <li class=\"\">\\n      <a href=\"https://time.douban.com&#47;?dt_time_source=douban-web_top_nav\" target=\"_blank\" data-moreurl-dict=\"{&quot;from&quot;:&quot;top-nav-click-time&quot;,&quot;uid&quot;:&quot;0&quot;}\">时间</a>\\n    </li>\\n    <li class=\"\">\\n      <a href=\"https://market.douban.com&#47;?utm_campaign=douban_top_nav&amp;utm_source=douban&amp;utm_medium=pc_web\" target=\"_blank\" data-moreurl-dict=\"{&quot;from&quot;:&quot;top-nav-click-market&quot;,&quot;uid&quot;:&quot;0&quot;}\">豆品</a>\\n    </li>\\n    <li>\\n      <a href=\"#more\" class=\"bn-more\"><span>更多</span></a>\\n      <div class=\"more-items\">\\n        <table cellpadding=\"0\" cellspacing=\"0\">\\n          <tbody>\\n            <tr>\\n              <td>\\n                <a href=\"https://ypy.douban.com\" target=\"_blank\" data-moreurl-dict=\"{&quot;from&quot;:&quot;top-nav-click-ypy&quot;,&quot;uid&quot;:&quot;0&quot;}\">豆瓣摄影</a>\\n              </td>\\n            </tr>\\n          </tbody>\\n        </table>\\n      </div>\\n    </li>\\n  </ul>\\n</div>\\n\\n  </div>\\n</div>\\n<script>\\n  ;window._GLOBAL_NAV = {\\n    DOUBAN_URL: \"https://www.douban.com\",\\n    N_NEW_NOTIS: 0,\\n    N_NEW_DOUMAIL: 0\\n  };\\n</script>\\n\\n\\n\\n    <script src=\"//img3.doubanio.com/dae/accounts/resources/0246c88/shire/bundle.js\" defer=\"defer\"></script>\\n\\n\\n\\n\\n    \\n\\n\\n\\n    <link href=\"//img3.doubanio.com/dae/accounts/resources/0246c88/movie/bundle.css\" rel=\"stylesheet\" type=\"text/css\">\\n\\n\\n\\n\\n<div id=\"db-nav-movie\" class=\"nav\">\\n  <div class=\"nav-wrap\">\\n  <div class=\"nav-primary\">\\n    <div class=\"nav-logo\">\\n      <a href=\"https:&#47;&#47;movie.douban.com\">豆瓣电影</a>\\n    </div>\\n    <div class=\"nav-search\">\\n      <form action=\"https:&#47;&#47;movie.douban.com/subject_search\" method=\"get\">\\n        <fieldset>\\n          <legend>搜索：</legend>\\n          <label for=\"inp-query\">\\n          </label>\\n          <div class=\"inp\"><input id=\"inp-query\" name=\"search_text\" size=\"22\" maxlength=\"60\" placeholder=\"搜索电影、电视剧、综艺、影人\" value=\"\"></div>\\n          <div class=\"inp-btn\"><input type=\"submit\" value=\"搜索\"></div>\\n          <input type=\"hidden\" name=\"cat\" value=\"1002\" />\\n        </fieldset>\\n      </form>\\n    </div>\\n  </div>\\n  </div>\\n  <div class=\"nav-secondary\">\\n    \\n\\n<div class=\"nav-items\">\\n  <ul>\\n    <li    ><a href=\"https://movie.douban.com/cinema/nowplaying/\"\\n     >影讯&购票</a>\\n    </li>\\n    <li    ><a href=\"https://movie.douban.com/explore\"\\n     >选电影</a>\\n    </li>\\n    <li    ><a href=\"https://movie.douban.com/tv/\"\\n     >电视剧</a>\\n    </li>\\n    <li    ><a href=\"https://movie.douban.com/chart\"\\n     >排行榜</a>\\n    </li>\\n    <li    ><a href=\"https://movie.douban.com/tag/\"\\n     >分类</a>\\n    </li>\\n    <li    ><a href=\"https://movie.douban.com/review/best/\"\\n     >影评</a>\\n    </li>\\n    <li    ><a href=\"https://movie.douban.com/annual/2018?source=navigation\"\\n     >2018年度榜单</a>\\n    </li>\\n    <li    ><a href=\"https://www.douban.com/standbyme/2018?source=navigation\"\\n     >2018书影音报告</a>\\n    </li>\\n  </ul>\\n</div>\\n\\n    <a href=\"https://movie.douban.com/annual/2018?source=movie_navigation\" class=\"movieannual2018\"></a>\\n  </div>\\n</div>\\n\\n<script id=\"suggResult\" type=\"text/x-jquery-tmpl\">\\n  <li data-link=\"{{= url}}\">\\n            <a href=\"{{= url}}\" onclick=\"moreurl(this, {from:\\'movie_search_sugg\\', query:\\'{{= keyword }}\\', subject_id:\\'{{= id}}\\', i: \\'{{= index}}\\', type: \\'{{= type}}\\'})\">\\n            <img src=\"{{= img}}\" width=\"40\" />\\n            <p>\\n                <em>{{= title}}</em>\\n                {{if year}}\\n                    <span>{{= year}}</span>\\n                {{/if}}\\n                {{if sub_title}}\\n                    <br /><span>{{= sub_title}}</span>\\n                {{/if}}\\n                {{if address}}\\n                    <br /><span>{{= address}}</span>\\n                {{/if}}\\n                {{if episode}}\\n                    {{if episode==\"unknow\"}}\\n                        <br /><span>集数未知</span>\\n                    {{else}}\\n                        <br /><span>共{{= episode}}集</span>\\n                    {{/if}}\\n                {{/if}}\\n            </p>\\n        </a>\\n        </li>\\n  </script>\\n\\n\\n\\n\\n    <script src=\"//img3.doubanio.com/dae/accounts/resources/0246c88/movie/bundle.js\" defer=\"defer\"></script>\\n\\n\\n\\n\\n\\n    \\n    <div id=\"wrapper\">\\n        \\n\\n        \\n    <div id=\"content\">\\n        \\n\\n        <div class=\"grid-16-8 clearfix\">\\n            \\n    <div id=\"dale_movie_homepage_top_large\"></div>\\n\\n            \\n            <div class=\"article\">\\n                \\n    <div id=\"dale_movie_home_main_top\"></div>\\n\\n    <script id=\"db-tmpl-subject-tip\" type=\"text/x-jquery-tmpl\">\\n        <div id=\"subject-tip\">\\n            <div class=\"subject-tip-hd\">\\n                <h3>{{= title}}<span class=\"release-year\">{{= release}}</span></h3>\\n                <p class=\"star\">\\n                    <span class=\"allstar{{= star}}\"></span>\\n                    {{if star != \\'00\\' }}\\n                        <span class=\"subject-rating\">{{= parseFloat(rate).toFixed(1)}}</span>\\n                    {{/if}}\\n                    {{if enough}}\\n                        <span class=\"rater-num\">({{= rater}}人评价)</span>\\n                    {{/if}}\\n                </p>\\n            </div>\\n            <div class=\"subject-tip-bd\">\\n                <ul>\\n                    <li><span>{{= duration}}</span><span>{{= type}}</span><span>{{= region}}</span></li>\\n                    <li class=\"director\"><span class=\"label\">导演</span><span>{{= director}}</span></li>\\n                    <li class=\"actors\"><span class=\"label\">主演</span><span>{{= actors}}</span></li>\\n                </ul>\\n                {{if intro}}\\n                    <div class=\"subject-intro\">\\n                        {{= intro}}\\n                    </div>\\n                {{/if}}\\n            </div>\\n        </div>\\n    </script>\\n\\n    \\n\\n    \\n    \\n    \\n    <div id=\"screening\" class=\"s\" data-dstat-areaid=\"70\" data-dstat-mode=\"click,expose\">\\n        <div class=\"screening-hd\">\\n                <div class=\"ui-slide-control\">\\n                    <span class=\"prev-btn\"><a class=\"btn-prev\" href=\"javascript:void(0)\"></a></span>\\n                    <span class=\"next-btn\"><a class=\"btn-next\" href=\"javascript:void(0)\"></a></span>\\n                </div>\\n                <div class=\"slide-tip\"><span class=\"ui-slide-index\">1</span> / <span class=\"ui-slide-max\">7</span></div>\\n            <h2>正在热映<span><a onclick=\"moreurl(this, {from:\\'mv_l_a\\'})\" href=\"/cinema/nowplaying/\">全部正在热映&raquo;</a></span><span><a onclick=\"moreurl(this, {from:\\'mv_l_w\\'})\" href=\"./later/\">即将上映&raquo;</a></span></h2>\\n        </div>\\n        <div class=\"screening-bd\">\\n            <ul class=\"ui-slide-content\" data-slide-index=\"1\" data-index-max=\"7\">\\n                        \\n                        \\n                    <li class=\"ui-slide-item s\" data-dstat-areaid=70_1 data-dstat-mode=click,expose data-dstat-watch=.ui-slide-content data-dstat-viewport=.screening-bd data-title=\"反贪风暴4 P風暴\" data-release=\"2019\" data-rate=\"6.3\" data-star=\"35\" data-trailer=\"https://movie.douban.com/subject/27202819/trailer\" data-ticket=\"https://movie.douban.com/ticket/redirect/?url=https%3A%2F%2Fm.maoyan.com%2Fcinema%2Fmovie%2F1211727%3F_v_%3Dyes%26merCode%3D1000011\" data-duration=\"100分钟\" data-region=\"香港\" data-director=\"林德禄\" data-actors=\"古天乐 / 郑嘉颖 / 林峯\" data-intro=\"\" data-enough=\"true\" data-rater=\"18898\">\\n                        <ul class=\"\">\\n                            <li class=\"poster\">\\n                                <a onclick=\"moreurl(this, {from:\\'mv_a_pst\\'})\" href=\"https://movie.douban.com/subject/27202819/?from=showing\">\\n                                    <img src=\"https://img3.doubanio.com/view/photo/s_ratio_poster/public/p2551353482.jpg\" alt=\"反贪风暴4\" rel=\"nofollow\" class=\"\" />\\n                                </a>\\n                            </li>\\n                            <li class=\"title\">\\n                                <a onclick=\"moreurl(this, {from:\\'mv_a_tl\\'})\" href=\"https://movie.douban.com/subject/27202819/?from=showing\" class=\"\">反贪风暴4</a>\\n                            </li>\\n                            <li class=\"rating\">\\n                                        <span class=\"rating-star allstar35\"></span><span class=\"subject-rate\">6.3</span>\\n                            </li>\\n                                <li class=\"ticket_btn\"><span><a onclick=\"moreurl(this, {from:\\'mv_b_tc\\'})\" href=\"https://movie.douban.com/ticket/redirect/?url=https%3A%2F%2Fm.maoyan.com%2Fcinema%2Fmovie%2F1211727%3F_v_%3Dyes%26merCode%3D1000011\" target=\"_blank\">选座购票</a></span></li>\\n                        </ul>\\n                        \\n                        \\n                    <li class=\"ui-slide-item\"  data-title=\"雷霆沙赞！ Shazam!\" data-release=\"2019\" data-rate=\"6.6\" data-star=\"35\" data-trailer=\"https://movie.douban.com/subject/2244426/trailer\" data-ticket=\"https://movie.douban.com/ticket/redirect/?url=https%3A%2F%2Fm.maoyan.com%2Fcinema%2Fmovie%2F248123%3F_v_%3Dyes%26merCode%3D1000011\" data-duration=\"132分钟\" data-region=\"美国\" data-director=\"大卫·F·桑德伯格\" data-actors=\"扎克瑞·莱维 / 马克·斯特朗 / 亚瑟·安其\" data-intro=\"\" data-enough=\"true\" data-rater=\"73695\">\\n                        <ul class=\"\">\\n                            <li class=\"poster\">\\n                                <a onclick=\"moreurl(this, {from:\\'mv_a_pst\\'})\" href=\"https://movie.douban.com/subject/2244426/?from=showing\">\\n                                    <img src=\"https://img3.doubanio.com/view/photo/s_ratio_poster/public/p2551249211.jpg\" alt=\"雷霆沙赞！\" rel=\"nofollow\" class=\"\" />\\n                                </a>\\n                            </li>\\n                            <li class=\"title\">\\n                                <a onclick=\"moreurl(this, {from:\\'mv_a_tl\\'})\" href=\"https://movie.douban.com/subject/2244426/?from=showing\" class=\"\">雷霆沙赞！</a>\\n                            </li>\\n                            <li class=\"rating\">\\n                                        <span class=\"rating-star allstar35\"></span><span class=\"subject-rate\">6.6</span>\\n                            </li>\\n                                <li class=\"ticket_btn\"><span><a onclick=\"moreurl(this, {from:\\'mv_b_tc\\'})\" href=\"https://movie.douban.com/ticket/redirect/?url=https%3A%2F%2Fm.maoyan.com%2Fcinema%2Fmovie%2F248123%3F_v_%3Dyes%26merCode%3D1000011\" target=\"_blank\">选座购票</a></span></li>\\n                        </ul>\\n                        \\n                        \\n                    <li class=\"ui-slide-item\"  data-title=\"调音师 Andhadhun\" data-release=\"2018\" data-rate=\"8.3\" data-star=\"45\" data-trailer=\"https://movie.douban.com/subject/30334073/trailer\" data-ticket=\"https://movie.douban.com/ticket/redirect/?url=https%3A%2F%2Fm.maoyan.com%2Fcinema%2Fmovie%2F1239544%3F_v_%3Dyes%26merCode%3D1000011\" data-duration=\"139分钟\" data-region=\"印度\" data-director=\"斯里兰姆·拉格万\" data-actors=\"阿尤斯曼·库拉纳 / 塔布 / 拉迪卡·艾普特\" data-intro=\"\" data-enough=\"true\" data-rater=\"134716\">\\n                        <ul class=\"\">\\n                            <li class=\"poster\">\\n                                <a onclick=\"moreurl(this, {from:\\'mv_a_pst\\'})\" href=\"https://movie.douban.com/subject/30334073/?from=showing\">\\n                                    <img src=\"https://img1.doubanio.com/view/photo/s_ratio_poster/public/p2551995207.jpg\" alt=\"调音师\" rel=\"nofollow\" class=\"\" />\\n                                </a>\\n                            </li>\\n                            <li class=\"title\">\\n                                <a onclick=\"moreurl(this, {from:\\'mv_a_tl\\'})\" href=\"https://movie.douban.com/subject/30334073/?from=showing\" class=\"\">调音师</a>\\n                            </li>\\n                            <li class=\"rating\">\\n                                        <span class=\"rating-star allstar45\"></span><span class=\"subject-rate\">8.3</span>\\n                            </li>\\n                                <li class=\"ticket_btn\"><span><a onclick=\"moreurl(this, {from:\\'mv_b_tc\\'})\" href=\"https://movie.douban.com/ticket/redirect/?url=https%3A%2F%2Fm.maoyan.com%2Fcinema%2Fmovie%2F1239544%3F_v_%3Dyes%26merCode%3D1000011\" target=\"_blank\">选座购票</a></span></li>\\n                        </ul>\\n                        \\n                        \\n                    <li class=\"ui-slide-item\"  data-title=\"风中有朵雨做的云\" data-release=\"2018\" data-rate=\"7.6\" data-star=\"40\" data-trailer=\"https://movie.douban.com/subject/26728669/trailer\" data-ticket=\"https://movie.douban.com/ticket/redirect/?url=https%3A%2F%2Fm.maoyan.com%2Fcinema%2Fmovie%2F345875%3F_v_%3Dyes%26merCode%3D1000011\" data-duration=\"124分钟(中国大陆)\" data-region=\"中国大陆\" data-director=\"娄烨\" data-actors=\"井柏然 / 宋佳 / 马思纯\" data-intro=\"\" data-enough=\"true\" data-rater=\"104576\">\\n                        <ul class=\"\">\\n                            <li class=\"poster\">\\n                                <a onclick=\"moreurl(this, {from:\\'mv_a_pst\\'})\" href=\"https://movie.douban.com/subject/26728669/?from=showing\">\\n                                    <img src=\"https://img3.doubanio.com/view/photo/s_ratio_poster/public/p2552522615.jpg\" alt=\"风中有朵雨做的云\" rel=\"nofollow\" class=\"\" />\\n                                </a>\\n                            </li>\\n                            <li class=\"title\">\\n                                <a onclick=\"moreurl(this, {from:\\'mv_a_tl\\'})\" href=\"https://movie.douban.com/subject/26728669/?from=showing\" class=\"\">风中有朵雨做...</a>\\n                            </li>\\n                            <li class=\"rating\">\\n                                        <span class=\"rating-star allstar40\"></span><span class=\"subject-rate\">7.6</span>\\n                            </li>\\n                                <li class=\"ticket_btn\"><span><a onclick=\"moreurl(this, {from:\\'mv_b_tc\\'})\" href=\"https://movie.douban.com/ticket/redirect/?url=https%3A%2F%2Fm.maoyan.com%2Fcinema%2Fmovie%2F345875%3F_v_%3Dyes%26merCode%3D1000011\" target=\"_blank\">选座购票</a></span></li>\\n                        </ul>\\n                        \\n                        \\n                    <li class=\"ui-slide-item\"  data-title=\"海市蜃楼 Durante la tormenta\" data-release=\"2018\" data-rate=\"7.8\" data-star=\"40\" data-trailer=\"https://movie.douban.com/subject/30164448/trailer\" data-ticket=\"https://movie.douban.com/ticket/redirect/?url=https%3A%2F%2Fm.maoyan.com%2Fcinema%2Fmovie%2F1219670%3F_v_%3Dyes%26merCode%3D1000011\" data-duration=\"128分钟\" data-region=\"西班牙\" data-director=\"奥里奥尔·保罗\" data-actors=\"阿德里亚娜·乌加特 / 奇诺·达林 / 阿尔瓦罗·莫奇\" data-intro=\"\" data-enough=\"true\" data-rater=\"111047\">\\n                        <ul class=\"\">\\n                            <li class=\"poster\">\\n                                <a onclick=\"moreurl(this, {from:\\'mv_a_pst\\'})\" href=\"https://movie.douban.com/subject/30164448/?from=showing\">\\n                                    <img src=\"https://img3.doubanio.com/view/photo/s_ratio_poster/public/p2551172384.jpg\" alt=\"海市蜃楼\" rel=\"nofollow\" class=\"\" />\\n                                </a>\\n                            </li>\\n                            <li class=\"title\">\\n                                <a onclick=\"moreurl(this, {from:\\'mv_a_tl\\'})\" href=\"https://movie.douban.com/subject/30164448/?from=showing\" class=\"\">海市蜃楼</a>\\n                            </li>\\n                            <li class=\"rating\">\\n                                        <span class=\"rating-star allstar40\"></span><span class=\"subject-rate\">7.8</span>\\n                            </li>\\n                                <li class=\"ticket_btn\"><span><a onclick=\"moreurl(this, {from:\\'mv_b_tc\\'})\" href=\"https://movie.douban.com/ticket/redirect/?url=https%3A%2F%2Fm.maoyan.com%2Fcinema%2Fmovie%2F1219670%3F_v_%3Dyes%26merCode%3D1000011\" target=\"_blank\">选座购票</a></span></li>\\n                        </ul>\\n                        \\n                        \\n                    <li class=\"ui-slide-item s\" data-dstat-areaid=70_2 data-dstat-mode=click,expose data-dstat-watch=.ui-slide-content data-dstat-viewport=.screening-bd data-title=\"小飞象 Dumbo\" data-release=\"2019\" data-rate=\"6.8\" data-star=\"35\" data-trailer=\"https://movie.douban.com/subject/25924056/trailer\" data-ticket=\"https://movie.douban.com/ticket/redirect/?url=https%3A%2F%2Fm.maoyan.com%2Fcinema%2Fmovie%2F346765%3F_v_%3Dyes%26merCode%3D1000011\" data-duration=\"112分钟\" data-region=\"美国\" data-director=\"蒂姆·波顿\" data-actors=\"伊娃·格林 / 科林·法瑞尔 / 迈克尔·基顿\" data-intro=\"\" data-enough=\"true\" data-rater=\"21682\">\\n                        <ul class=\"\">\\n                            <li class=\"poster\">\\n                                <a onclick=\"moreurl(this, {from:\\'mv_a_pst\\'})\" href=\"https://movie.douban.com/subject/25924056/?from=showing\">\\n                                    <img src=\"https://img3.doubanio.com/view/photo/s_ratio_poster/public/p2549234765.jpg\" alt=\"小飞象\" rel=\"nofollow\" class=\"\" />\\n                                </a>\\n                            </li>\\n                            <li class=\"title\">\\n                                <a onclick=\"moreurl(this, {from:\\'mv_a_tl\\'})\" href=\"https://movie.douban.com/subject/25924056/?from=showing\" class=\"\">小飞象</a>\\n                            </li>\\n                            <li class=\"rating\">\\n                                        <span class=\"rating-star allstar35\"></span><span class=\"subject-rate\">6.8</span>\\n                            </li>\\n                                <li class=\"ticket_btn\"><span><a onclick=\"moreurl(this, {from:\\'mv_b_tc\\'})\" href=\"https://movie.douban.com/ticket/redirect/?url=https%3A%2F%2Fm.maoyan.com%2Fcinema%2Fmovie%2F346765%3F_v_%3Dyes%26merCode%3D1000011\" target=\"_blank\">选座购票</a></span></li>\\n                        </ul>\\n                        \\n                        \\n                    <li class=\"ui-slide-item\"  data-title=\"老师·好\" data-release=\"2019\" data-rate=\"6.8\" data-star=\"35\" data-trailer=\"https://movie.douban.com/subject/27663742/trailer\" data-ticket=\"https://movie.douban.com/ticket/redirect/?url=https%3A%2F%2Fm.maoyan.com%2Fcinema%2Fmovie%2F1212492%3F_v_%3Dyes%26merCode%3D1000011\" data-duration=\"111分钟\" data-region=\"中国大陆\" data-director=\"张栾\" data-actors=\"于谦 / 汤梦佳 / 王广源\" data-intro=\"\" data-enough=\"true\" data-rater=\"35182\">\\n                        <ul class=\"\">\\n                            <li class=\"poster\">\\n                                <a onclick=\"moreurl(this, {from:\\'mv_a_pst\\'})\" href=\"https://movie.douban.com/subject/27663742/?from=showing\">\\n                                    <img src=\"https://img1.doubanio.com/view/photo/s_ratio_poster/public/p2551352209.jpg\" alt=\"老师·好\" rel=\"nofollow\" class=\"\" />\\n                                </a>\\n                            </li>\\n                            <li class=\"title\">\\n                                <a onclick=\"moreurl(this, {from:\\'mv_a_tl\\'})\" href=\"https://movie.douban.com/subject/27663742/?from=showing\" class=\"\">老师·好</a>\\n                            </li>\\n                            <li class=\"rating\">\\n                                        <span class=\"rating-star allstar35\"></span><span class=\"subject-rate\">6.8</span>\\n                            </li>\\n                                <li class=\"ticket_btn\"><span><a onclick=\"moreurl(this, {from:\\'mv_b_tc\\'})\" href=\"https://movie.douban.com/ticket/redirect/?url=https%3A%2F%2Fm.maoyan.com%2Fcinema%2Fmovie%2F1212492%3F_v_%3Dyes%26merCode%3D1000011\" target=\"_blank\">选座购票</a></span></li>\\n                        </ul>\\n                        \\n                        \\n                    <li class=\"ui-slide-item\"  data-title=\"波西米亚狂想曲 Bohemian Rhapsody\" data-release=\"2018\" data-rate=\"8.7\" data-star=\"45\" data-trailer=\"https://movie.douban.com/subject/5300054/trailer\" data-ticket=\"https://movie.douban.com/ticket/redirect/?url=https%3A%2F%2Fm.maoyan.com%2Fcinema%2Fmovie%2F1167831%3F_v_%3Dyes%26merCode%3D1000011\" data-duration=\"131分钟(中国大陆)\" data-region=\"英国\" data-director=\"布莱恩·辛格\" data-actors=\"拉米·马雷克 / 本·哈迪 / 约瑟夫·梅泽罗\" data-intro=\"\" data-enough=\"true\" data-rater=\"233866\">\\n                        <ul class=\"\">\\n                            <li class=\"poster\">\\n                                <a onclick=\"moreurl(this, {from:\\'mv_a_pst\\'})\" href=\"https://movie.douban.com/subject/5300054/?from=showing\">\\n                                    <img src=\"https://img3.doubanio.com/view/photo/s_ratio_poster/public/p2549558913.jpg\" alt=\"波西米亚狂想曲\" rel=\"nofollow\" class=\"\" />\\n                                </a>\\n                            </li>\\n                            <li class=\"title\">\\n                                <a onclick=\"moreurl(this, {from:\\'mv_a_tl\\'})\" href=\"https://movie.douban.com/subject/5300054/?from=showing\" class=\"\">波西米亚狂想...</a>\\n                            </li>\\n                            <li class=\"rating\">\\n                                        <span class=\"rating-star allstar45\"></span><span class=\"subject-rate\">8.7</span>\\n                            </li>\\n                                <li class=\"ticket_btn\"><span><a onclick=\"moreurl(this, {from:\\'mv_b_tc\\'})\" href=\"https://movie.douban.com/ticket/redirect/?url=https%3A%2F%2Fm.maoyan.com%2Fcinema%2Fmovie%2F1167831%3F_v_%3Dyes%26merCode%3D1000011\" target=\"_blank\">选座购票</a></span></li>\\n                        </ul>\\n                        \\n                        \\n                    <li class=\"ui-slide-item\"  data-title=\"比悲伤更悲伤的故事 比悲傷更悲傷的故事\" data-release=\"2018\" data-rate=\"4.8\" data-star=\"25\" data-trailer=\"https://movie.douban.com/subject/27624661/trailer\" data-ticket=\"https://movie.douban.com/ticket/redirect/?url=https%3A%2F%2Fm.maoyan.com%2Fcinema%2Fmovie%2F1216383%3F_v_%3Dyes%26merCode%3D1000011\" data-duration=\"105分钟\" data-region=\"台湾\" data-director=\"林孝谦\" data-actors=\"陈意涵 / 刘以豪 / 张书豪\" data-intro=\"\" data-enough=\"true\" data-rater=\"69006\">\\n                        <ul class=\"\">\\n                            <li class=\"poster\">\\n                                <a onclick=\"moreurl(this, {from:\\'mv_a_pst\\'})\" href=\"https://movie.douban.com/subject/27624661/?from=showing\">\\n                                    <img src=\"https://img3.doubanio.com/view/photo/s_ratio_poster/public/p2549523952.jpg\" alt=\"比悲伤更悲伤的故事\" rel=\"nofollow\" class=\"\" />\\n                                </a>\\n                            </li>\\n                            <li class=\"title\">\\n                                <a onclick=\"moreurl(this, {from:\\'mv_a_tl\\'})\" href=\"https://movie.douban.com/subject/27624661/?from=showing\" class=\"\">比悲伤更悲伤...</a>\\n                            </li>\\n                            <li class=\"rating\">\\n                                        <span class=\"rating-star allstar25\"></span><span class=\"subject-rate\">4.8</span>\\n                            </li>\\n                                <li class=\"ticket_btn\"><span><a onclick=\"moreurl(this, {from:\\'mv_b_tc\\'})\" href=\"https://movie.douban.com/ticket/redirect/?url=https%3A%2F%2Fm.maoyan.com%2Fcinema%2Fmovie%2F1216383%3F_v_%3Dyes%26merCode%3D1000011\" target=\"_blank\">选座购票</a></span></li>\\n                        </ul>\\n                        \\n                        \\n                    <li class=\"ui-slide-item\"  data-title=\"绿皮书 Green Book\" data-release=\"2018\" data-rate=\"8.9\" data-star=\"45\" data-trailer=\"https://movie.douban.com/subject/27060077/trailer\" data-ticket=\"https://movie.douban.com/ticket/redirect/?url=https%3A%2F%2Fm.maoyan.com%2Fcinema%2Fmovie%2F1206605%3F_v_%3Dyes%26merCode%3D1000011\" data-duration=\"130分钟\" data-region=\"美国\" data-director=\"彼得·法雷里\" data-actors=\"维果·莫腾森 / 马赫沙拉·阿里 / 琳达·卡德里尼\" data-intro=\"\" data-enough=\"true\" data-rater=\"490171\">\\n                        <ul class=\"\">\\n                            <li class=\"poster\">\\n                                <a onclick=\"moreurl(this, {from:\\'mv_a_pst\\'})\" href=\"https://movie.douban.com/subject/27060077/?from=showing\">\\n                                    <img src=\"https://img3.doubanio.com/view/photo/s_ratio_poster/public/p2549177902.jpg\" alt=\"绿皮书\" rel=\"nofollow\" class=\"\" />\\n                                </a>\\n                            </li>\\n                            <li class=\"title\">\\n                                <a onclick=\"moreurl(this, {from:\\'mv_a_tl\\'})\" href=\"https://movie.douban.com/subject/27060077/?from=showing\" class=\"\">绿皮书</a>\\n                            </li>\\n                            <li class=\"rating\">\\n                                        <span class=\"rating-star allstar45\"></span><span class=\"subject-rate\">8.9</span>\\n                            </li>\\n                                <li class=\"ticket_btn\"><span><a onclick=\"moreurl(this, {from:\\'mv_b_tc\\'})\" href=\"https://movie.douban.com/ticket/redirect/?url=https%3A%2F%2Fm.maoyan.com%2Fcinema%2Fmovie%2F1206605%3F_v_%3Dyes%26merCode%3D1000011\" target=\"_blank\">选座购票</a></span></li>\\n                        </ul>\\n                        \\n                        \\n                    <li class=\"ui-slide-item s\" data-dstat-areaid=70_3 data-dstat-mode=click,expose data-dstat-watch=.ui-slide-content data-dstat-viewport=.screening-bd data-title=\"地久天长\" data-release=\"2019\" data-rate=\"7.9\" data-star=\"40\" data-trailer=\"https://movie.douban.com/subject/26715636/trailer\" data-ticket=\"https://movie.douban.com/ticket/redirect/?url=https%3A%2F%2Fm.maoyan.com%2Fcinema%2Fmovie%2F507792%3F_v_%3Dyes%26merCode%3D1000011\" data-duration=\"175分钟\" data-region=\"中国大陆\" data-director=\"王小帅\" data-actors=\"王景春 / 咏梅 / 齐溪\" data-intro=\"\" data-enough=\"true\" data-rater=\"79591\">\\n                        <ul class=\"\">\\n                            <li class=\"poster\">\\n                                <a onclick=\"moreurl(this, {from:\\'mv_a_pst\\'})\" href=\"https://movie.douban.com/subject/26715636/?from=showing\">\\n                                    <img src=\"https://img1.doubanio.com/view/photo/s_ratio_poster/public/p2550208359.jpg\" alt=\"地久天长\" rel=\"nofollow\" class=\"\" />\\n                                </a>\\n                            </li>\\n                            <li class=\"title\">\\n                                <a onclick=\"moreurl(this, {from:\\'mv_a_tl\\'})\" href=\"https://movie.douban.com/subject/26715636/?from=showing\" class=\"\">地久天长</a>\\n                            </li>\\n                            <li class=\"rating\">\\n                                        <span class=\"rating-star allstar40\"></span><span class=\"subject-rate\">7.9</span>\\n                            </li>\\n                                <li class=\"ticket_btn\"><span><a onclick=\"moreurl(this, {from:\\'mv_b_tc\\'})\" href=\"https://movie.douban.com/ticket/redirect/?url=https%3A%2F%2Fm.maoyan.com%2Fcinema%2Fmovie%2F507792%3F_v_%3Dyes%26merCode%3D1000011\" target=\"_blank\">选座购票</a></span></li>\\n                        </ul>\\n                        \\n                        \\n                    <li class=\"ui-slide-item\"  data-title=\"守灵\" data-release=\"2017\" data-rate=\"\" data-star=\"00\" data-trailer=\"https://movie.douban.com/subject/27063305/trailer\" data-ticket=\"https://movie.douban.com/ticket/redirect/?url=https%3A%2F%2Fm.maoyan.com%2Fcinema%2Fmovie%2F1206939%3F_v_%3Dyes%26merCode%3D1000011\" data-duration=\"88分钟\" data-region=\"中国大陆\" data-director=\"李东\" data-actors=\"张优 / 宋词\" data-intro=\"\" data-enough=\"false\" data-rater=\"139\">\\n                        <ul class=\"\">\\n                            <li class=\"poster\">\\n                                <a onclick=\"moreurl(this, {from:\\'mv_a_pst\\'})\" href=\"https://movie.douban.com/subject/27063305/?from=showing\">\\n                                    <img src=\"https://img3.doubanio.com/view/photo/s_ratio_poster/public/p2549910141.jpg\" alt=\"守灵\" rel=\"nofollow\" class=\"\" />\\n                                </a>\\n                            </li>\\n                            <li class=\"title\">\\n                                <a onclick=\"moreurl(this, {from:\\'mv_a_tl\\'})\" href=\"https://movie.douban.com/subject/27063305/?from=showing\" class=\"\">守灵</a>\\n                            </li>\\n                            <li class=\"rating\">\\n                                    \\n\\n                                        <span class=\"text-tip\">暂无评分</span>\\n                            </li>\\n                                <li class=\"ticket_btn\"><span><a onclick=\"moreurl(this, {from:\\'mv_b_tc\\'})\" href=\"https://movie.douban.com/ticket/redirect/?url=https%3A%2F%2Fm.maoyan.com%2Fcinema%2Fmovie%2F1206939%3F_v_%3Dyes%26merCode%3D1000011\" target=\"_blank\">选座购票</a></span></li>\\n                        </ul>\\n                        \\n                        \\n                    <li class=\"ui-slide-item\"  data-title=\"人间·喜剧\" data-release=\"2019\" data-rate=\"3.5\" data-star=\"20\" data-trailer=\"https://movie.douban.com/subject/27179414/trailer\" data-ticket=\"https://movie.douban.com/ticket/redirect/?url=https%3A%2F%2Fm.maoyan.com%2Fcinema%2Fmovie%2F1206824%3F_v_%3Dyes%26merCode%3D1000011\" data-duration=\"90分钟\" data-region=\"中国大陆\" data-director=\"孙周\" data-actors=\"艾伦 / 王智 / 鲁诺\" data-intro=\"\" data-enough=\"true\" data-rater=\"6893\">\\n                        <ul class=\"\">\\n                            <li class=\"poster\">\\n                                <a onclick=\"moreurl(this, {from:\\'mv_a_pst\\'})\" href=\"https://movie.douban.com/subject/27179414/?from=showing\">\\n                                    <img src=\"https://img3.doubanio.com/view/photo/s_ratio_poster/public/p2551693460.jpg\" alt=\"人间·喜剧\" rel=\"nofollow\" class=\"\" />\\n                                </a>\\n                            </li>\\n                            <li class=\"title\">\\n                                <a onclick=\"moreurl(this, {from:\\'mv_a_tl\\'})\" href=\"https://movie.douban.com/subject/27179414/?from=showing\" class=\"\">人间·喜剧</a>\\n                            </li>\\n                            <li class=\"rating\">\\n                                        <span class=\"rating-star allstar20\"></span><span class=\"subject-rate\">3.5</span>\\n                            </li>\\n                                <li class=\"ticket_btn\"><span><a onclick=\"moreurl(this, {from:\\'mv_b_tc\\'})\" href=\"https://movie.douban.com/ticket/redirect/?url=https%3A%2F%2Fm.maoyan.com%2Fcinema%2Fmovie%2F1206824%3F_v_%3Dyes%26merCode%3D1000011\" target=\"_blank\">选座购票</a></span></li>\\n                        </ul>\\n                        \\n                        \\n                    <li class=\"ui-slide-item\"  data-title=\"青蛙王子历险记\" data-release=\"2019\" data-rate=\"\" data-star=\"00\" data-trailer=\"https://movie.douban.com/subject/30288751/trailer\" data-ticket=\"https://movie.douban.com/ticket/redirect/?url=https%3A%2F%2Fm.maoyan.com%2Fcinema%2Fmovie%2F1229702%3F_v_%3Dyes%26merCode%3D1000011\" data-duration=\"82分钟\" data-region=\"中国大陆\" data-director=\"蒋叶峰\" data-actors=\"\" data-intro=\"\" data-enough=\"false\" data-rater=\"62\">\\n                        <ul class=\"\">\\n                            <li class=\"poster\">\\n                                <a onclick=\"moreurl(this, {from:\\'mv_a_pst\\'})\" href=\"https://movie.douban.com/subject/30288751/?from=showing\">\\n                                    <img src=\"https://img3.doubanio.com/view/photo/s_ratio_poster/public/p2552614343.jpg\" alt=\"青蛙王子历险记\" rel=\"nofollow\" class=\"\" />\\n                                </a>\\n                            </li>\\n                            <li class=\"title\">\\n                                <a onclick=\"moreurl(this, {from:\\'mv_a_tl\\'})\" href=\"https://movie.douban.com/subject/30288751/?from=showing\" class=\"\">青蛙王子历险...</a>\\n                            </li>\\n                            <li class=\"rating\">\\n                                    \\n\\n                                        <span class=\"text-tip\">暂无评分</span>\\n                            </li>\\n                                <li class=\"ticket_btn\"><span><a onclick=\"moreurl(this, {from:\\'mv_b_tc\\'})\" href=\"https://movie.douban.com/ticket/redirect/?url=https%3A%2F%2Fm.maoyan.com%2Fcinema%2Fmovie%2F1229702%3F_v_%3Dyes%26merCode%3D1000011\" target=\"_blank\">选座购票</a></span></li>\\n                        </ul>\\n                        \\n                        \\n                    <li class=\"ui-slide-item\"  data-title=\"流浪地球\" data-release=\"2019\" data-rate=\"8.0\" data-star=\"40\" data-trailer=\"https://movie.douban.com/subject/26266893/trailer\" data-ticket=\"https://movie.douban.com/ticket/redirect/?url=https%3A%2F%2Fm.maoyan.com%2Fcinema%2Fmovie%2F248906%3F_v_%3Dyes%26merCode%3D1000011\" data-duration=\"125分钟\" data-region=\"中国大陆\" data-director=\"郭帆\" data-actors=\"屈楚萧 / 吴京 / 李光洁\" data-intro=\"\" data-enough=\"true\" data-rater=\"1114939\">\\n                        <ul class=\"\">\\n                            <li class=\"poster\">\\n                                <a onclick=\"moreurl(this, {from:\\'mv_a_pst\\'})\" href=\"https://movie.douban.com/subject/26266893/?from=showing\">\\n                                    <img src=\"https://img3.doubanio.com/view/photo/s_ratio_poster/public/p2545472803.jpg\" alt=\"流浪地球\" rel=\"nofollow\" class=\"\" />\\n                                </a>\\n                            </li>\\n                            <li class=\"title\">\\n                                <a onclick=\"moreurl(this, {from:\\'mv_a_tl\\'})\" href=\"https://movie.douban.com/subject/26266893/?from=showing\" class=\"\">流浪地球</a>\\n                            </li>\\n                            <li class=\"rating\">\\n                                        <span class=\"rating-star allstar40\"></span><span class=\"subject-rate\">8.0</span>\\n                            </li>\\n                                <li class=\"ticket_btn\"><span><a onclick=\"moreurl(this, {from:\\'mv_b_tc\\'})\" href=\"https://movie.douban.com/ticket/redirect/?url=https%3A%2F%2Fm.maoyan.com%2Fcinema%2Fmovie%2F248906%3F_v_%3Dyes%26merCode%3D1000011\" target=\"_blank\">选座购票</a></span></li>\\n                        </ul>\\n                        \\n                        \\n                    <li class=\"ui-slide-item s\" data-dstat-areaid=70_4 data-dstat-mode=click,expose data-dstat-watch=.ui-slide-content data-dstat-viewport=.screening-bd data-title=\"乐高大电影2 The Lego Movie 2: The Second Part\" data-release=\"2019\" data-rate=\"6.8\" data-star=\"35\" data-trailer=\"https://movie.douban.com/subject/25833233/trailer\" data-ticket=\"https://movie.douban.com/ticket/redirect/?url=https%3A%2F%2Fm.maoyan.com%2Fcinema%2Fmovie%2F341220%3F_v_%3Dyes%26merCode%3D1000011\" data-duration=\"106分钟\" data-region=\"美国\" data-director=\"迈克·米切尔\" data-actors=\"克里斯·帕拉特 / 伊丽莎白·班克斯 / 威尔·阿奈特\" data-intro=\"\" data-enough=\"true\" data-rater=\"4770\">\\n                        <ul class=\"\">\\n                            <li class=\"poster\">\\n                                <a onclick=\"moreurl(this, {from:\\'mv_a_pst\\'})\" href=\"https://movie.douban.com/subject/25833233/?from=showing\">\\n                                    <img src=\"https://img3.doubanio.com/view/photo/s_ratio_poster/public/p2549353234.jpg\" alt=\"乐高大电影2\" rel=\"nofollow\" class=\"\" />\\n                                </a>\\n                            </li>\\n                            <li class=\"title\">\\n                                <a onclick=\"moreurl(this, {from:\\'mv_a_tl\\'})\" href=\"https://movie.douban.com/subject/25833233/?from=showing\" class=\"\">乐高大电影2...</a>\\n                            </li>\\n                            <li class=\"rating\">\\n                                        <span class=\"rating-star allstar35\"></span><span class=\"subject-rate\">6.8</span>\\n                            </li>\\n                                <li class=\"ticket_btn\"><span><a onclick=\"moreurl(this, {from:\\'mv_b_tc\\'})\" href=\"https://movie.douban.com/ticket/redirect/?url=https%3A%2F%2Fm.maoyan.com%2Fcinema%2Fmovie%2F341220%3F_v_%3Dyes%26merCode%3D1000011\" target=\"_blank\">选座购票</a></span></li>\\n                        </ul>\\n                        \\n                        \\n                    <li class=\"ui-slide-item\"  data-title=\"阿丽塔：战斗天使 Alita: Battle Angel\" data-release=\"2019\" data-rate=\"7.6\" data-star=\"40\" data-trailer=\"https://movie.douban.com/subject/1652592/trailer\" data-ticket=\"https://movie.douban.com/ticket/redirect/?url=https%3A%2F%2Fm.maoyan.com%2Fcinema%2Fmovie%2F410629%3F_v_%3Dyes%26merCode%3D1000011\" data-duration=\"122分钟\" data-region=\"美国\" data-director=\"罗伯特·罗德里格兹\" data-actors=\"罗莎·萨拉查 / 克里斯托弗·沃尔兹 / 基恩·约翰逊\" data-intro=\"\" data-enough=\"true\" data-rater=\"303430\">\\n                        <ul class=\"\">\\n                            <li class=\"poster\">\\n                                <a onclick=\"moreurl(this, {from:\\'mv_a_pst\\'})\" href=\"https://movie.douban.com/subject/1652592/?from=showing\">\\n                                    <img src=\"https://img3.doubanio.com/view/photo/s_ratio_poster/public/p2544987866.jpg\" alt=\"阿丽塔：战斗天使\" rel=\"nofollow\" class=\"\" />\\n                                </a>\\n                            </li>\\n                            <li class=\"title\">\\n                                <a onclick=\"moreurl(this, {from:\\'mv_a_tl\\'})\" href=\"https://movie.douban.com/subject/1652592/?from=showing\" class=\"\">阿丽塔：战斗...</a>\\n                            </li>\\n                            <li class=\"rating\">\\n                                        <span class=\"rating-star allstar40\"></span><span class=\"subject-rate\">7.6</span>\\n                            </li>\\n                                <li class=\"ticket_btn\"><span><a onclick=\"moreurl(this, {from:\\'mv_b_tc\\'})\" href=\"https://movie.douban.com/ticket/redirect/?url=https%3A%2F%2Fm.maoyan.com%2Fcinema%2Fmovie%2F410629%3F_v_%3Dyes%26merCode%3D1000011\" target=\"_blank\">选座购票</a></span></li>\\n                        </ul>\\n                        \\n                        \\n                    <li class=\"ui-slide-item\"  data-title=\"狂暴凶狮 Prooi\" data-release=\"2016\" data-rate=\"5.6\" data-star=\"30\" data-trailer=\"https://movie.douban.com/subject/27150225/trailer\" data-ticket=\"https://movie.douban.com/ticket/redirect/?url=https%3A%2F%2Fm.maoyan.com%2Fcinema%2Fmovie%2F907653%3F_v_%3Dyes%26merCode%3D1000011\" data-duration=\"105分钟\" data-region=\"荷兰\" data-director=\"迪克·麦斯\" data-actors=\"Sophie / 艾比·侯斯 / 布里特·拉格尔\" data-intro=\"\" data-enough=\"true\" data-rater=\"3935\">\\n                        <ul class=\"\">\\n                            <li class=\"poster\">\\n                                <a onclick=\"moreurl(this, {from:\\'mv_a_pst\\'})\" href=\"https://movie.douban.com/subject/27150225/?from=showing\">\\n                                    <img src=\"https://img3.doubanio.com/view/photo/s_ratio_poster/public/p2548549246.jpg\" alt=\"狂暴凶狮\" rel=\"nofollow\" class=\"\" />\\n                                </a>\\n                            </li>\\n                            <li class=\"title\">\\n                                <a onclick=\"moreurl(this, {from:\\'mv_a_tl\\'})\" href=\"https://movie.douban.com/subject/27150225/?from=showing\" class=\"\">狂暴凶狮</a>\\n                            </li>\\n                            <li class=\"rating\">\\n                                        <span class=\"rating-star allstar30\"></span><span class=\"subject-rate\">5.6</span>\\n                            </li>\\n                                <li class=\"ticket_btn\"><span><a onclick=\"moreurl(this, {from:\\'mv_b_tc\\'})\" href=\"https://movie.douban.com/ticket/redirect/?url=https%3A%2F%2Fm.maoyan.com%2Fcinema%2Fmovie%2F907653%3F_v_%3Dyes%26merCode%3D1000011\" target=\"_blank\">选座购票</a></span></li>\\n                        </ul>\\n                        \\n                        \\n                    <li class=\"ui-slide-item\"  data-title=\"三重威胁之跨国大营救 Triple Threat\" data-release=\"2019\" data-rate=\"4.6\" data-star=\"25\" data-trailer=\"https://movie.douban.com/subject/26909787/trailer\" data-ticket=\"https://movie.douban.com/ticket/redirect/?url=https%3A%2F%2Fm.maoyan.com%2Fcinema%2Fmovie%2F1197466%3F_v_%3Dyes%26merCode%3D1000011\" data-duration=\"96分钟\" data-region=\"泰国\" data-director=\"杰西·约翰逊\" data-actors=\"陈虎 / 卢靖姗 / 托尼·贾\" data-intro=\"\" data-enough=\"true\" data-rater=\"2000\">\\n                        <ul class=\"\">\\n                            <li class=\"poster\">\\n                                <a onclick=\"moreurl(this, {from:\\'mv_a_pst\\'})\" href=\"https://movie.douban.com/subject/26909787/?from=showing\">\\n                                    <img src=\"https://img3.doubanio.com/view/photo/s_ratio_poster/public/p2551252121.jpg\" alt=\"三重威胁之跨国大营救\" rel=\"nofollow\" class=\"\" />\\n                                </a>\\n                            </li>\\n                            <li class=\"title\">\\n                                <a onclick=\"moreurl(this, {from:\\'mv_a_tl\\'})\" href=\"https://movie.douban.com/subject/26909787/?from=showing\" class=\"\">三重威胁之跨...</a>\\n                            </li>\\n                            <li class=\"rating\">\\n                                        <span class=\"rating-star allstar25\"></span><span class=\"subject-rate\">4.6</span>\\n                            </li>\\n                                <li class=\"ticket_btn\"><span><a onclick=\"moreurl(this, {from:\\'mv_b_tc\\'})\" href=\"https://movie.douban.com/ticket/redirect/?url=https%3A%2F%2Fm.maoyan.com%2Fcinema%2Fmovie%2F1197466%3F_v_%3Dyes%26merCode%3D1000011\" target=\"_blank\">选座购票</a></span></li>\\n                        </ul>\\n                        \\n                        \\n                    <li class=\"ui-slide-item\"  data-title=\"我的英雄学院：两位英雄 僕のヒーローアカデミア THE MOVIE ～2人の英雄～\" data-release=\"2018\" data-rate=\"7.2\" data-star=\"40\" data-trailer=\"https://movie.douban.com/subject/27602116/trailer\" data-ticket=\"https://movie.douban.com/ticket/redirect/?url=https%3A%2F%2Fm.maoyan.com%2Fcinema%2Fmovie%2F1220571%3F_v_%3Dyes%26merCode%3D1000011\" data-duration=\"96分钟\" data-region=\"日本\" data-director=\"长崎健司\" data-actors=\"山下大辉 / 三宅健太 / 志田未来\" data-intro=\"\" data-enough=\"true\" data-rater=\"18341\">\\n                        <ul class=\"\">\\n                            <li class=\"poster\">\\n                                <a onclick=\"moreurl(this, {from:\\'mv_a_pst\\'})\" href=\"https://movie.douban.com/subject/27602116/?from=showing\">\\n                                    <img src=\"https://img1.doubanio.com/view/photo/s_ratio_poster/public/p2548783889.jpg\" alt=\"我的英雄学院：两位英雄\" rel=\"nofollow\" class=\"\" />\\n                                </a>\\n                            </li>\\n                            <li class=\"title\">\\n                                <a onclick=\"moreurl(this, {from:\\'mv_a_tl\\'})\" href=\"https://movie.douban.com/subject/27602116/?from=showing\" class=\"\">我的英雄学院...</a>\\n                            </li>\\n                            <li class=\"rating\">\\n                                        <span class=\"rating-star allstar40\"></span><span class=\"subject-rate\">7.2</span>\\n                            </li>\\n                                <li class=\"ticket_btn\"><span><a onclick=\"moreurl(this, {from:\\'mv_b_tc\\'})\" href=\"https://movie.douban.com/ticket/redirect/?url=https%3A%2F%2Fm.maoyan.com%2Fcinema%2Fmovie%2F1220571%3F_v_%3Dyes%26merCode%3D1000011\" target=\"_blank\">选座购票</a></span></li>\\n                        </ul>\\n                        \\n                        \\n                    <li class=\"ui-slide-item s\" data-dstat-areaid=70_5 data-dstat-mode=click,expose data-dstat-watch=.ui-slide-content data-dstat-viewport=.screening-bd data-title=\"驯龙高手3 How To Train Your Dragon: The Hidden World\" data-release=\"2019\" data-rate=\"7.5\" data-star=\"40\" data-trailer=\"https://movie.douban.com/subject/19899707/trailer\" data-ticket=\"https://movie.douban.com/ticket/redirect/?url=https%3A%2F%2Fm.maoyan.com%2Fcinema%2Fmovie%2F247295%3F_v_%3Dyes%26merCode%3D1000011\" data-duration=\"104分钟\" data-region=\"美国\" data-director=\"迪恩·德布洛斯\" data-actors=\"杰伊·巴鲁切尔 / 亚美莉卡·费雷拉 / F·默里·亚伯拉罕\" data-intro=\"\" data-enough=\"true\" data-rater=\"101984\">\\n                        <ul class=\"\">\\n                            <li class=\"poster\">\\n                                <a onclick=\"moreurl(this, {from:\\'mv_a_pst\\'})\" href=\"https://movie.douban.com/subject/19899707/?from=showing\">\\n                                    <img src=\"https://img3.doubanio.com/view/photo/s_ratio_poster/public/p2546335362.jpg\" alt=\"驯龙高手3\" rel=\"nofollow\" class=\"\" />\\n                                </a>\\n                            </li>\\n                            <li class=\"title\">\\n                                <a onclick=\"moreurl(this, {from:\\'mv_a_tl\\'})\" href=\"https://movie.douban.com/subject/19899707/?from=showing\" class=\"\">驯龙高手3</a>\\n                            </li>\\n                            <li class=\"rating\">\\n                                        <span class=\"rating-star allstar40\"></span><span class=\"subject-rate\">7.5</span>\\n                            </li>\\n                                <li class=\"ticket_btn\"><span><a onclick=\"moreurl(this, {from:\\'mv_b_tc\\'})\" href=\"https://movie.douban.com/ticket/redirect/?url=https%3A%2F%2Fm.maoyan.com%2Fcinema%2Fmovie%2F247295%3F_v_%3Dyes%26merCode%3D1000011\" target=\"_blank\">选座购票</a></span></li>\\n                        </ul>\\n                        \\n                        \\n                    <li class=\"ui-slide-item\"  data-title=\"精灵怪物：疯狂之旅 Happy Family\" data-release=\"2017\" data-rate=\"5.1\" data-star=\"25\" data-trailer=\"https://movie.douban.com/subject/27042871/trailer\" data-ticket=\"https://movie.douban.com/ticket/redirect/?url=https%3A%2F%2Fm.maoyan.com%2Fcinema%2Fmovie%2F343987%3F_v_%3Dyes%26merCode%3D1000011\" data-duration=\"93分钟(中国大陆)\" data-region=\"德国\" data-director=\"Holger\" data-actors=\"艾米丽·沃森 / 詹森·艾萨克 / 尼克·弗罗斯特\" data-intro=\"\" data-enough=\"true\" data-rater=\"546\">\\n                        <ul class=\"\">\\n                            <li class=\"poster\">\\n                                <a onclick=\"moreurl(this, {from:\\'mv_a_pst\\'})\" href=\"https://movie.douban.com/subject/27042871/?from=showing\">\\n                                    <img src=\"https://img3.doubanio.com/view/photo/s_ratio_poster/public/p2551444674.jpg\" alt=\"精灵怪物：疯狂之旅\" rel=\"nofollow\" class=\"\" />\\n                                </a>\\n                            </li>\\n                            <li class=\"title\">\\n                                <a onclick=\"moreurl(this, {from:\\'mv_a_tl\\'})\" href=\"https://movie.douban.com/subject/27042871/?from=showing\" class=\"\">精灵怪物：疯...</a>\\n                            </li>\\n                            <li class=\"rating\">\\n                                        <span class=\"rating-star allstar25\"></span><span class=\"subject-rate\">5.1</span>\\n                            </li>\\n                                <li class=\"ticket_btn\"><span><a onclick=\"moreurl(this, {from:\\'mv_b_tc\\'})\" href=\"https://movie.douban.com/ticket/redirect/?url=https%3A%2F%2Fm.maoyan.com%2Fcinema%2Fmovie%2F343987%3F_v_%3Dyes%26merCode%3D1000011\" target=\"_blank\">选座购票</a></span></li>\\n                        </ul>\\n                        \\n                        \\n                    <li class=\"ui-slide-item\"  data-title=\"篮球冠军 Campeones\" data-release=\"2018\" data-rate=\"7.2\" data-star=\"40\" data-trailer=\"https://movie.douban.com/subject/30205168/trailer\" data-ticket=\"https://movie.douban.com/ticket/redirect/?url=https%3A%2F%2Fm.maoyan.com%2Fcinema%2Fmovie%2F1212723%3F_v_%3Dyes%26merCode%3D1000011\" data-duration=\"119分钟(中国大陆)\" data-region=\"西班牙\" data-director=\"哈维尔·费舍尔\" data-actors=\"哈维尔·古铁雷斯 / Athenea / 胡安·马加略\" data-intro=\"\" data-enough=\"true\" data-rater=\"1640\">\\n                        <ul class=\"\">\\n                            <li class=\"poster\">\\n                                <a onclick=\"moreurl(this, {from:\\'mv_a_pst\\'})\" href=\"https://movie.douban.com/subject/30205168/?from=showing\">\\n                                    <img src=\"https://img3.doubanio.com/view/photo/s_ratio_poster/public/p2550534680.jpg\" alt=\"篮球冠军\" rel=\"nofollow\" class=\"\" />\\n                                </a>\\n                            </li>\\n                            <li class=\"title\">\\n                                <a onclick=\"moreurl(this, {from:\\'mv_a_tl\\'})\" href=\"https://movie.douban.com/subject/30205168/?from=showing\" class=\"\">篮球冠军</a>\\n                            </li>\\n                            <li class=\"rating\">\\n                                        <span class=\"rating-star allstar40\"></span><span class=\"subject-rate\">7.2</span>\\n                            </li>\\n                                <li class=\"ticket_btn\"><span><a onclick=\"moreurl(this, {from:\\'mv_b_tc\\'})\" href=\"https://movie.douban.com/ticket/redirect/?url=https%3A%2F%2Fm.maoyan.com%2Fcinema%2Fmovie%2F1212723%3F_v_%3Dyes%26merCode%3D1000011\" target=\"_blank\">选座购票</a></span></li>\\n                        </ul>\\n                        \\n                        \\n                    <li class=\"ui-slide-item\"  data-title=\"祈祷落幕时 祈りの幕が下りる時\" data-release=\"2018\" data-rate=\"7.9\" data-star=\"40\" data-trailer=\"https://movie.douban.com/subject/27040737/trailer\" data-ticket=\"https://movie.douban.com/ticket/redirect/?url=https%3A%2F%2Fm.maoyan.com%2Fcinema%2Fmovie%2F1205909%3F_v_%3Dyes%26merCode%3D1000011\" data-duration=\"119分钟\" data-region=\"日本\" data-director=\"福泽克雄\" data-actors=\"阿部宽 / 松岛菜菜子 / 沟端淳平\" data-intro=\"\" data-enough=\"true\" data-rater=\"27025\">\\n                        <ul class=\"\">\\n                            <li class=\"poster\">\\n                                <a onclick=\"moreurl(this, {from:\\'mv_a_pst\\'})\" href=\"https://movie.douban.com/subject/27040737/?from=showing\">\\n                                    <img src=\"https://img1.doubanio.com/view/photo/s_ratio_poster/public/p2552073598.jpg\" alt=\"祈祷落幕时\" rel=\"nofollow\" class=\"\" />\\n                                </a>\\n                            </li>\\n                            <li class=\"title\">\\n                                <a onclick=\"moreurl(this, {from:\\'mv_a_tl\\'})\" href=\"https://movie.douban.com/subject/27040737/?from=showing\" class=\"\">祈祷落幕时</a>\\n                            </li>\\n                            <li class=\"rating\">\\n                                        <span class=\"rating-star allstar40\"></span><span class=\"subject-rate\">7.9</span>\\n                            </li>\\n                                <li class=\"ticket_btn\"><span><a onclick=\"moreurl(this, {from:\\'mv_b_tc\\'})\" href=\"https://movie.douban.com/ticket/redirect/?url=https%3A%2F%2Fm.maoyan.com%2Fcinema%2Fmovie%2F1205909%3F_v_%3Dyes%26merCode%3D1000011\" target=\"_blank\">选座购票</a></span></li>\\n                        </ul>\\n                        \\n                        \\n                    <li class=\"ui-slide-item\"  data-title=\"过春天\" data-release=\"2018\" data-rate=\"7.9\" data-star=\"40\" data-trailer=\"https://movie.douban.com/subject/27191431/trailer\" data-ticket=\"https://movie.douban.com/ticket/redirect/?url=https%3A%2F%2Fm.maoyan.com%2Fcinema%2Fmovie%2F1229799%3F_v_%3Dyes%26merCode%3D1000011\" data-duration=\"99分钟\" data-region=\"中国大陆\" data-director=\"白雪\" data-actors=\"黄尧 / 孙阳 / 汤加文\" data-intro=\"\" data-enough=\"true\" data-rater=\"48419\">\\n                        <ul class=\"\">\\n                            <li class=\"poster\">\\n                                <a onclick=\"moreurl(this, {from:\\'mv_a_pst\\'})\" href=\"https://movie.douban.com/subject/27191431/?from=showing\">\\n                                    <img src=\"https://img3.doubanio.com/view/photo/s_ratio_poster/public/p2549537782.jpg\" alt=\"过春天\" rel=\"nofollow\" class=\"\" />\\n                                </a>\\n                            </li>\\n                            <li class=\"title\">\\n                                <a onclick=\"moreurl(this, {from:\\'mv_a_tl\\'})\" href=\"https://movie.douban.com/subject/27191431/?from=showing\" class=\"\">过春天</a>\\n                            </li>\\n                            <li class=\"rating\">\\n                                        <span class=\"rating-star allstar40\"></span><span class=\"subject-rate\">7.9</span>\\n                            </li>\\n                                <li class=\"ticket_btn\"><span><a onclick=\"moreurl(this, {from:\\'mv_b_tc\\'})\" href=\"https://movie.douban.com/ticket/redirect/?url=https%3A%2F%2Fm.maoyan.com%2Fcinema%2Fmovie%2F1229799%3F_v_%3Dyes%26merCode%3D1000011\" target=\"_blank\">选座购票</a></span></li>\\n                        </ul>\\n                        \\n                        \\n                    <li class=\"ui-slide-item s\" data-dstat-areaid=70_6 data-dstat-mode=click,expose data-dstat-watch=.ui-slide-content data-dstat-viewport=.screening-bd data-title=\"功夫四侠：勇闯地宫\" data-release=\"2019\" data-rate=\"\" data-star=\"00\" data-trailer=\"https://movie.douban.com/subject/30145516/trailer\" data-ticket=\"https://movie.douban.com/ticket/redirect/?url=https%3A%2F%2Fm.maoyan.com%2Fcinema%2Fmovie%2F1217497%3F_v_%3Dyes%26merCode%3D1000011\" data-duration=\"80分钟\" data-region=\"中国大陆\" data-director=\"李金保\" data-actors=\"王琪 / 王雪沁 / 吴凡\" data-intro=\"\" data-enough=\"false\" data-rater=\"32\">\\n                        <ul class=\"\">\\n                            <li class=\"poster\">\\n                                <a onclick=\"moreurl(this, {from:\\'mv_a_pst\\'})\" href=\"https://movie.douban.com/subject/30145516/?from=showing\">\\n                                    <img src=\"https://img3.doubanio.com/view/photo/s_ratio_poster/public/p2550448960.jpg\" alt=\"功夫四侠：勇闯地宫\" rel=\"nofollow\" class=\"\" />\\n                                </a>\\n                            </li>\\n                            <li class=\"title\">\\n                                <a onclick=\"moreurl(this, {from:\\'mv_a_tl\\'})\" href=\"https://movie.douban.com/subject/30145516/?from=showing\" class=\"\">功夫四侠：勇...</a>\\n                            </li>\\n                            <li class=\"rating\">\\n                                    \\n\\n                                        <span class=\"text-tip\">暂无评分</span>\\n                            </li>\\n                                <li class=\"ticket_btn\"><span><a onclick=\"moreurl(this, {from:\\'mv_b_tc\\'})\" href=\"https://movie.douban.com/ticket/redirect/?url=https%3A%2F%2Fm.maoyan.com%2Fcinema%2Fmovie%2F1217497%3F_v_%3Dyes%26merCode%3D1000011\" target=\"_blank\">选座购票</a></span></li>\\n                        </ul>\\n                        \\n                        \\n                    <li class=\"ui-slide-item\"  data-title=\"天仙配\" data-release=\"1956\" data-rate=\"8.2\" data-star=\"45\" data-trailer=\"https://movie.douban.com/subject/2123597/trailer\" data-ticket=\"https://movie.douban.com/ticket/redirect/?url=https%3A%2F%2Fm.maoyan.com%2Fcinema%2Fmovie%2F338744%3F_v_%3Dyes%26merCode%3D1000011\" data-duration=\"91分钟\" data-region=\"中国大陆\" data-director=\"石挥\" data-actors=\"严凤英 / 王少舫 / 张云峰\" data-intro=\"\" data-enough=\"true\" data-rater=\"1139\">\\n                        <ul class=\"\">\\n                            <li class=\"poster\">\\n                                <a onclick=\"moreurl(this, {from:\\'mv_a_pst\\'})\" href=\"https://movie.douban.com/subject/2123597/?from=showing\">\\n                                    <img src=\"https://img3.doubanio.com/view/photo/s_ratio_poster/public/p2327208920.jpg\" alt=\"天仙配\" rel=\"nofollow\" class=\"\" />\\n                                </a>\\n                            </li>\\n                            <li class=\"title\">\\n                                <a onclick=\"moreurl(this, {from:\\'mv_a_tl\\'})\" href=\"https://movie.douban.com/subject/2123597/?from=showing\" class=\"\">天仙配</a>\\n                            </li>\\n                            <li class=\"rating\">\\n                                        <span class=\"rating-star allstar45\"></span><span class=\"subject-rate\">8.2</span>\\n                            </li>\\n                                <li class=\"ticket_btn\"><span><a onclick=\"moreurl(this, {from:\\'mv_b_tc\\'})\" href=\"https://movie.douban.com/ticket/redirect/?url=https%3A%2F%2Fm.maoyan.com%2Fcinema%2Fmovie%2F338744%3F_v_%3Dyes%26merCode%3D1000011\" target=\"_blank\">选座购票</a></span></li>\\n                        </ul>\\n                        \\n                        \\n                    <li class=\"ui-slide-item\"  data-title=\"似水流年\" data-release=\"2019\" data-rate=\"\" data-star=\"00\" data-trailer=\"https://movie.douban.com/subject/30384186/trailer\" data-ticket=\"https://movie.douban.com/ticket/redirect/?url=https%3A%2F%2Fm.maoyan.com%2Fcinema%2Fmovie%2F1243918%3F_v_%3Dyes%26merCode%3D1000011\" data-duration=\"113分钟\" data-region=\"中国大陆\" data-director=\"郑君奇\" data-actors=\"胡琨 / 初俊辰 / 李云赫\" data-intro=\"\" data-enough=\"false\" data-rater=\"109\">\\n                        <ul class=\"\">\\n                            <li class=\"poster\">\\n                                <a onclick=\"moreurl(this, {from:\\'mv_a_pst\\'})\" href=\"https://movie.douban.com/subject/30384186/?from=showing\">\\n                                    <img src=\"https://img1.doubanio.com/view/photo/s_ratio_poster/public/p2551890738.jpg\" alt=\"似水流年\" rel=\"nofollow\" class=\"\" />\\n                                </a>\\n                            </li>\\n                            <li class=\"title\">\\n                                <a onclick=\"moreurl(this, {from:\\'mv_a_tl\\'})\" href=\"https://movie.douban.com/subject/30384186/?from=showing\" class=\"\">似水流年</a>\\n                            </li>\\n                            <li class=\"rating\">\\n                                    \\n\\n                                        <span class=\"text-tip\">暂无评分</span>\\n                            </li>\\n                                <li class=\"ticket_btn\"><span><a onclick=\"moreurl(this, {from:\\'mv_b_tc\\'})\" href=\"https://movie.douban.com/ticket/redirect/?url=https%3A%2F%2Fm.maoyan.com%2Fcinema%2Fmovie%2F1243918%3F_v_%3Dyes%26merCode%3D1000011\" target=\"_blank\">选座购票</a></span></li>\\n                        </ul>\\n                        \\n                        \\n                    <li class=\"ui-slide-item\"  data-title=\"麦兜·我和我妈妈 麥兜‧我和我媽媽\" data-release=\"2014\" data-rate=\"8.4\" data-star=\"45\" data-trailer=\"https://movie.douban.com/subject/25884416/trailer\" data-ticket=\"https://movie.douban.com/ticket/redirect/?url=https%3A%2F%2Fm.maoyan.com%2Fcinema%2Fmovie%2F245881%3F_v_%3Dyes%26merCode%3D1000011\" data-duration=\"81分钟\" data-region=\"香港\" data-director=\"谢立文\" data-actors=\"黄磊 / 吴君如 / 张正中\" data-intro=\"\" data-enough=\"true\" data-rater=\"47904\">\\n                        <ul class=\"\">\\n                            <li class=\"poster\">\\n                                <a onclick=\"moreurl(this, {from:\\'mv_a_pst\\'})\" href=\"https://movie.douban.com/subject/25884416/?from=showing\">\\n                                    <img src=\"https://img1.doubanio.com/view/photo/s_ratio_poster/public/p2551331237.jpg\" alt=\"麦兜·我和我妈妈\" rel=\"nofollow\" class=\"\" />\\n                                </a>\\n                            </li>\\n                            <li class=\"title\">\\n                                <a onclick=\"moreurl(this, {from:\\'mv_a_tl\\'})\" href=\"https://movie.douban.com/subject/25884416/?from=showing\" class=\"\">麦兜·我和我...</a>\\n                            </li>\\n                            <li class=\"rating\">\\n                                        <span class=\"rating-star allstar45\"></span><span class=\"subject-rate\">8.4</span>\\n                            </li>\\n                                <li class=\"ticket_btn\"><span><a onclick=\"moreurl(this, {from:\\'mv_b_tc\\'})\" href=\"https://movie.douban.com/ticket/redirect/?url=https%3A%2F%2Fm.maoyan.com%2Fcinema%2Fmovie%2F245881%3F_v_%3Dyes%26merCode%3D1000011\" target=\"_blank\">选座购票</a></span></li>\\n                        </ul>\\n                        \\n                        \\n                    <li class=\"ui-slide-item\"  data-title=\"警告 El aviso\" data-release=\"2018\" data-rate=\"5.6\" data-star=\"30\" data-trailer=\"https://movie.douban.com/subject/27132728/trailer\" data-ticket=\"https://movie.douban.com/ticket/redirect/?url=https%3A%2F%2Fm.maoyan.com%2Fcinema%2Fmovie%2F1215346%3F_v_%3Dyes%26merCode%3D1000011\" data-duration=\"92分钟\" data-region=\"西班牙\" data-director=\"丹尼尔·卡尔帕索罗\" data-actors=\"劳尔·阿雷瓦洛 / 奥拉·加里多 / 雨果·阿布斯\" data-intro=\"\" data-enough=\"true\" data-rater=\"1583\">\\n                        <ul class=\"\">\\n                            <li class=\"poster\">\\n                                <a onclick=\"moreurl(this, {from:\\'mv_a_pst\\'})\" href=\"https://movie.douban.com/subject/27132728/?from=showing\">\\n                                    <img src=\"https://img3.doubanio.com/view/photo/s_ratio_poster/public/p2551888133.jpg\" alt=\"警告\" rel=\"nofollow\" class=\"\" />\\n                                </a>\\n                            </li>\\n                            <li class=\"title\">\\n                                <a onclick=\"moreurl(this, {from:\\'mv_a_tl\\'})\" href=\"https://movie.douban.com/subject/27132728/?from=showing\" class=\"\">警告</a>\\n                            </li>\\n                            <li class=\"rating\">\\n                                        <span class=\"rating-star allstar30\"></span><span class=\"subject-rate\">5.6</span>\\n                            </li>\\n                                <li class=\"ticket_btn\"><span><a onclick=\"moreurl(this, {from:\\'mv_b_tc\\'})\" href=\"https://movie.douban.com/ticket/redirect/?url=https%3A%2F%2Fm.maoyan.com%2Fcinema%2Fmovie%2F1215346%3F_v_%3Dyes%26merCode%3D1000011\" target=\"_blank\">选座购票</a></span></li>\\n                        </ul>\\n                        \\n                        \\n                    <li class=\"ui-slide-item s\" data-dstat-areaid=70_7 data-dstat-mode=click,expose data-dstat-watch=.ui-slide-content data-dstat-viewport=.screening-bd data-title=\"爱无痕\" data-release=\"2019\" data-rate=\"\" data-star=\"00\" data-trailer=\"https://movie.douban.com/subject/30474016/trailer\" data-ticket=\"https://movie.douban.com/ticket/redirect/?url=https%3A%2F%2Fm.maoyan.com%2Fcinema%2Fmovie%2F1263280%3F_v_%3Dyes%26merCode%3D1000011\" data-duration=\"91分钟\" data-region=\"中国大陆\" data-director=\"康亮\" data-actors=\"何云龙\" data-intro=\"\" data-enough=\"false\" data-rater=\"25\">\\n                        <ul class=\"\">\\n                            <li class=\"poster\">\\n                                <a onclick=\"moreurl(this, {from:\\'mv_a_pst\\'})\" href=\"https://movie.douban.com/subject/30474016/?from=showing\">\\n                                    <img src=\"https://img3.doubanio.com/view/photo/s_ratio_poster/public/p2550632216.jpg\" alt=\"爱无痕\" rel=\"nofollow\" class=\"\" />\\n                                </a>\\n                            </li>\\n                            <li class=\"title\">\\n                                <a onclick=\"moreurl(this, {from:\\'mv_a_tl\\'})\" href=\"https://movie.douban.com/subject/30474016/?from=showing\" class=\"\">爱无痕</a>\\n                            </li>\\n                            <li class=\"rating\">\\n                                    \\n\\n                                        <span class=\"text-tip\">暂无评分</span>\\n                            </li>\\n                                <li class=\"ticket_btn\"><span><a onclick=\"moreurl(this, {from:\\'mv_b_tc\\'})\" href=\"https://movie.douban.com/ticket/redirect/?url=https%3A%2F%2Fm.maoyan.com%2Fcinema%2Fmovie%2F1263280%3F_v_%3Dyes%26merCode%3D1000011\" target=\"_blank\">选座购票</a></span></li>\\n                        </ul>\\n                        \\n                        \\n                    <li class=\"ui-slide-item\"  data-title=\"阳台上\" data-release=\"2019\" data-rate=\"6.1\" data-star=\"30\" data-trailer=\"https://movie.douban.com/subject/27135473/trailer\" data-ticket=\"https://movie.douban.com/ticket/redirect/?url=https%3A%2F%2Fm.maoyan.com%2Fcinema%2Fmovie%2F1212353%3F_v_%3Dyes%26merCode%3D1000011\" data-duration=\"100分钟\" data-region=\"中国大陆\" data-director=\"张猛\" data-actors=\"周冬雨 / 王锵 / 曹瑞\" data-intro=\"\" data-enough=\"true\" data-rater=\"7753\">\\n                        <ul class=\"\">\\n                            <li class=\"poster\">\\n                                <a onclick=\"moreurl(this, {from:\\'mv_a_pst\\'})\" href=\"https://movie.douban.com/subject/27135473/?from=showing\">\\n                                    <img src=\"https://img3.doubanio.com/view/photo/s_ratio_poster/public/p2546828235.jpg\" alt=\"阳台上\" rel=\"nofollow\" class=\"\" />\\n                                </a>\\n                            </li>\\n                            <li class=\"title\">\\n                                <a onclick=\"moreurl(this, {from:\\'mv_a_tl\\'})\" href=\"https://movie.douban.com/subject/27135473/?from=showing\" class=\"\">阳台上</a>\\n                            </li>\\n                            <li class=\"rating\">\\n                                        <span class=\"rating-star allstar30\"></span><span class=\"subject-rate\">6.1</span>\\n                            </li>\\n                                <li class=\"ticket_btn\"><span><a onclick=\"moreurl(this, {from:\\'mv_b_tc\\'})\" href=\"https://movie.douban.com/ticket/redirect/?url=https%3A%2F%2Fm.maoyan.com%2Fcinema%2Fmovie%2F1212353%3F_v_%3Dyes%26merCode%3D1000011\" target=\"_blank\">选座购票</a></span></li>\\n                        </ul>\\n                    <li class=\"ui-slide-item\">\\n                    <li class=\"ui-slide-item\">\\n                    <li class=\"ui-slide-item\">\\n            </ul>\\n        </div>\\n    </div>\\n    \\n    \\n\\n\\n    <!-- douban ad begin -->\\n    <div id=\"movie_home_left_bottom\" class=\"mb20 s\" data-dstat-areaid=\"72\" data-dstat-mode=\"click,expose\"></div>\\n    <!-- douban ad end -->\\n\\n        \\n\\n        \\n\\n<div class=\"gaia gaia-lite gaia-movie\">\\n    <div class=\"detail-pop\"></div>\\n    <input type=\"hidden\" name=\"islogin\" value=\"false\">\\n    <div class=\"fliter-wp\">\\n      <h2>\\n          <div data-type=\"movie\">最近热门电影</div>\\n          <div class=\"filter\">\\n              <form action=\"get\" class=\"gaia_frm\" autocomplete=\"off\">\\n                  <input type=\"hidden\" name=\"type\" value=\"movie\">\\n                  <div class=\"tags\">\\n                      <div class=\"tag-list\"></div>\\n                  </div>\\n                  <input type=\"hidden\" name=\"page_limit\" value=\"20\">\\n                  <input type=\"hidden\" name=\"page_start\" value=\"0\">\\n              </form>\\n          </div>\\n          <div class=\"fliter-placeholder\"></div>\\n          <a href=\"/explore\" class=\"more-link\">更多»</a>\\n      </h2>\\n    </div>\\n    \\n<div class=\"list-wp\">\\n    <div class=\"list\"></div>\\n    <a class=\"more\" href=\"javascript:;\">载入中...</a>\\n</div>\\n\\n    \\n    \\n    <script type=\"text/tmpl\" id=\"tag-tmpl\">\\n        <label>\\n            <%= _.escape(val)%>\\n            <input type=\"radio\" name=\"<%= type%>\" value=\"<%= _.escape(val)%>\">\\n            <% if (custom) { %>\\n                <a href=\"javascript:;\" class=\"remove\">x</a>\\n            <% } %>\\n        </label>\\n    </script>\\n\\n    <script type=\"text/tmpl\" id=\"subject-tmpl\">\\n        <% if (playable) { %>\\n        <a class=\"item\" target=\"_blank\" href=\"<%= url%>?tag=<%= tag%>&from=gaia_video\">\\n        <% } else {%>\\n        <a class=\"item\" target=\"_blank\" href=\"<%= url%>?tag=<%= tag%>&from=gaia\">\\n        <% } %>\\n            <div class=\"cover-wp\" data-isnew=\"<%= is_new%>\" data-id=\"<%= id%>\">\\n                <img src=\"<%= cover%>\" alt=\"<%= title%>\" data-x=\"<%= cover_x%>\" data-y=\"<%= cover_y%>\"/>\\n            </div>\\n            <p>\\n                <% if (is_new) { %>\\n                    <span class=\"green\">\\n                        <img src=\"https://img3.doubanio.com/f/movie/caa8f80abecee1fc6f9d31924cef8dd9a24c7227/pics/movie/ic_new.png\" width=\"16\" class=\"new\" />\\n                    </span>\\n                <% } %>\\n\\n                <%= title%>\\n\\n                <% if (rate !== \\'\\') { %>\\n                    <strong><%= rate%></strong>\\n                <% } else {%>\\n                    <span>暂无评分</span>\\n                <% } %>\\n            </p>\\n        </a>\\n    </script>\\n\\n    <script type=\"text/tmpl\" id=\"subject-info-tmpl\">\\n        <div class=\"wp\">\\n            <div class=\"info\">\\n                <% if (playable) { %>\\n                <h3><a target=\"_blank\" href=\"<%= url%>?tag=<%= tag%>&from=gaia_video\"><%= title%></a></h3>\\n                <% } else { %>\\n                <h3><a target=\"_blank\" href=\"<%= url%>?tag=<%= tag%>&from=gaia\"><%= title%></a></h3>\\n                <% } %>\\n                <p class=\"rank\">\\n                    <% if (rate !== \\'\\') { %>\\n                        <span class=\"ll bigstar<%= star%>\"></span>&nbsp;&nbsp;\\n                        <strong><%= rate%></strong>\\n                    <% } else { %>\\n                        暂无评分\\n                    <% } %>\\n                </p>\\n                <p class=\"meta\">\\n                    <% if (playable) { %>\\n                        <span class=\"green\">可播放</span>\\n                    <% } %>\\n                    <% if (playable && is_new) { %>\\n                        <span class=\"green\">新出片源</span>\\n                    <% } else if (is_new) { %>\\n                        <span class=\"green\">本周新片</span>\\n                    <% } %>\\n                    <% if (duration) { %>\\n                        <span><%= duration%></span>\\n                    <% } %>\\n                    <% if (episodes_count) { %>\\n                        <span><%= episodes_count%>集</span>\\n                    <% } %>\\n                    <% if (region) { %>\\n                        <span><%= region%></span>\\n                    <% } %>\\n                    <% if (types) { %>\\n                        <% _.each (types.slice(0,3), function(type){ %>\\n                        <span><%= type%></span>\\n                        <% }) %>\\n                    <% } %>\\n                    <% if (directors.length) { %>\\n                        <span><%= directors[0]%>(导演)</span>\\n                    <% } %>\\n                    <% if (actors) { %>\\n                        <% _.each (actors.slice(0,3), function(actor){ %>\\n                        <span><%= actor%></span>\\n                        <% }) %>\\n                    <% } %>\\n                </p>\\n                <p class=\"collect-area\">\\n                    <% if (collection_status === \\'F\\') { %>\\n                        <% if (is_tv) { %>\\n                            <a href=\"javascript:;\" rel=\"nofollow\" class=\"j a_collect_btn\" name=\"sbtn-<%= id%>-do\">在看</a>\\n                        <% } %>\\n                        <a href=\"javascript:;\" rel=\"nofollow\" class=\"j a_collect_btn\" name=\"sbtn-<%= id%>-collect\">看过</a>\\n                        <span>已想看</span>\\n                    <% } else if (is_tv && collection_status === \\'N\\') { %>\\n                        <a href=\"javascript:;\" rel=\"nofollow\" class=\"j a_collect_btn\" name=\"sbtn-<%= id%>-collect\">看过</a>\\n                        <span>已在看</span>\\n                    <% } else if (collection_status === \\'P\\') { %>\\n                        <span>已看过</span>\\n                    <% } else { %>\\n                        <a href=\"javascript:;\" rel=\"nofollow\" class=\"j a_collect_btn\" name=\"sbtn-<%= id%>-wish\">想看</a>\\n                        <% if (is_tv) { %>\\n                            <a href=\"javascript:;\" rel=\"nofollow\" class=\"j a_collect_btn\" name=\"sbtn-<%= id%>-do\">在看</a>\\n                        <% } %>\\n                        <a href=\"javascript:;\" rel=\"nofollow\" class=\"j a_collect_btn\" name=\"sbtn-<%= id%>-collect\">看过</a>\\n                    <% } %>\\n                </p>\\n            </div>\\n            <% if (short_comment.content) {%>\\n            <p class=\"comment\">\\n                <%= short_comment.content%>\\n                <span>- <%= short_comment.author%>的短评</span>\\n            </p>\\n            <% } %>\\n        </div>\\n    </script>\\n\\n    <script type=\"text/tmpl\" id=\"gaia-slide-tmpl\">\\n        <div class=\"slider\">\\n            <div class=\"slide-container\" style=\"height: <%= slideHeight %>px;\">\\n                <div class=\"slide-wrapper\" style=\"width: <%= slideWidth * (pageCount + 2) %>px;\">\\n                    <div class=\"slide-page\" style=\"width: <%= slideWidth %>px;\" data-index=\"<%= pageCount - 1%>\"></div>\\n                    <% for (var i = 0; i < pageCount; i++) { %>\\n                        <div class=\"slide-page\" style=\"width: <%= slideWidth %>px;\" data-index=\"<%= i %>\"></div>\\n                    <% } %>\\n                    <div class=\"slide-page\" style=\"width: <%= slideWidth %>px;\" data-index=\"0\"></div>\\n                </div>\\n            </div>\\n            <div class=\"slide-ctrl ui-slide-control\">\\n                <a class=\"btn-prev\" href=\"javascript:void(0)\"></a>\\n                    <% for (var i = 0; i < pageCount; i++) { %>\\n                        <i class=\"dot <%= i === 0 ? \\'activate\\' : \\'\\' %>\" data-index=\"<%= i %>\"></i>\\n                    <% } %>\\n                <a class=\"btn-next\" href=\"javascript:void(0)\"></a>\\n            </div>\\n        </div>\\n    </script>\\n    \\n\\n</div>\\n\\n        \\n\\n<div class=\"gaia gaia-lite gaia-tv\">\\n    <div class=\"detail-pop\"></div>\\n    <input type=\"hidden\" name=\"islogin\" value=\"false\">\\n    <div class=\"fliter-wp\">\\n      <h2>\\n          <div data-type=\"tv\">最近热门电视剧</div>\\n          <div class=\"filter\">\\n              <form action=\"get\" class=\"gaia_frm\" autocomplete=\"off\">\\n                  <input type=\"hidden\" name=\"type\" value=\"movie\">\\n                  <div class=\"tags\">\\n                      <div class=\"tag-list\"></div>\\n                  </div>\\n                  <input type=\"hidden\" name=\"page_limit\" value=\"20\">\\n                  <input type=\"hidden\" name=\"page_start\" value=\"0\">\\n              </form>\\n          </div>\\n          <div class=\"fliter-placeholder\"></div>\\n          <a href=\"/tv\" class=\"more-link\">更多»</a>\\n      </h2>\\n    </div>\\n    \\n<div class=\"list-wp\">\\n    <div class=\"list\"></div>\\n    <a class=\"more\" href=\"javascript:;\">载入中...</a>\\n</div>\\n\\n    \\n    \\n    <script type=\"text/tmpl\" id=\"tag-tmpl\">\\n        <label>\\n            <%= _.escape(val)%>\\n            <input type=\"radio\" name=\"<%= type%>\" value=\"<%= _.escape(val)%>\">\\n            <% if (custom) { %>\\n                <a href=\"javascript:;\" class=\"remove\">x</a>\\n            <% } %>\\n        </label>\\n    </script>\\n\\n    <script type=\"text/tmpl\" id=\"subject-tmpl\">\\n        <% if (playable) { %>\\n        <a class=\"item\" target=\"_blank\" href=\"<%= url%>?tag=<%= tag%>&from=gaia_video\">\\n        <% } else {%>\\n        <a class=\"item\" target=\"_blank\" href=\"<%= url%>?tag=<%= tag%>&from=gaia\">\\n        <% } %>\\n            <div class=\"cover-wp\" data-isnew=\"<%= is_new%>\" data-id=\"<%= id%>\">\\n                <img src=\"<%= cover%>\" alt=\"<%= title%>\" data-x=\"<%= cover_x%>\" data-y=\"<%= cover_y%>\"/>\\n            </div>\\n            <p>\\n                <% if (is_new) { %>\\n                    <span class=\"green\">\\n                        <img src=\"https://img3.doubanio.com/f/movie/caa8f80abecee1fc6f9d31924cef8dd9a24c7227/pics/movie/ic_new.png\" width=\"16\" class=\"new\" />\\n                    </span>\\n                <% } %>\\n\\n                <%= title%>\\n\\n                <% if (rate !== \\'\\') { %>\\n                    <strong><%= rate%></strong>\\n                <% } else {%>\\n                    <span>暂无评分</span>\\n                <% } %>\\n            </p>\\n        </a>\\n    </script>\\n\\n    <script type=\"text/tmpl\" id=\"subject-info-tmpl\">\\n        <div class=\"wp\">\\n            <div class=\"info\">\\n                <% if (playable) { %>\\n                <h3><a target=\"_blank\" href=\"<%= url%>?tag=<%= tag%>&from=gaia_video\"><%= title%></a></h3>\\n                <% } else { %>\\n                <h3><a target=\"_blank\" href=\"<%= url%>?tag=<%= tag%>&from=gaia\"><%= title%></a></h3>\\n                <% } %>\\n                <p class=\"rank\">\\n                    <% if (rate !== \\'\\') { %>\\n                        <span class=\"ll bigstar<%= star%>\"></span>&nbsp;&nbsp;\\n                        <strong><%= rate%></strong>\\n                    <% } else { %>\\n                        暂无评分\\n                    <% } %>\\n                </p>\\n                <p class=\"meta\">\\n                    <% if (playable) { %>\\n                        <span class=\"green\">可播放</span>\\n                    <% } %>\\n                    <% if (playable && is_new) { %>\\n                        <span class=\"green\">新出片源</span>\\n                    <% } else if (is_new) { %>\\n                        <span class=\"green\">本周新片</span>\\n                    <% } %>\\n                    <% if (duration) { %>\\n                        <span><%= duration%></span>\\n                    <% } %>\\n                    <% if (episodes_count) { %>\\n                        <span><%= episodes_count%>集</span>\\n                    <% } %>\\n                    <% if (region) { %>\\n                        <span><%= region%></span>\\n                    <% } %>\\n                    <% if (types) { %>\\n                        <% _.each (types.slice(0,3), function(type){ %>\\n                        <span><%= type%></span>\\n                        <% }) %>\\n                    <% } %>\\n                    <% if (directors.length) { %>\\n                        <span><%= directors[0]%>(导演)</span>\\n                    <% } %>\\n                    <% if (actors) { %>\\n                        <% _.each (actors.slice(0,3), function(actor){ %>\\n                        <span><%= actor%></span>\\n                        <% }) %>\\n                    <% } %>\\n                </p>\\n                <p class=\"collect-area\">\\n                    <% if (collection_status === \\'F\\') { %>\\n                        <% if (is_tv) { %>\\n                            <a href=\"javascript:;\" rel=\"nofollow\" class=\"j a_collect_btn\" name=\"sbtn-<%= id%>-do\">在看</a>\\n                        <% } %>\\n                        <a href=\"javascript:;\" rel=\"nofollow\" class=\"j a_collect_btn\" name=\"sbtn-<%= id%>-collect\">看过</a>\\n                        <span>已想看</span>\\n                    <% } else if (is_tv && collection_status === \\'N\\') { %>\\n                        <a href=\"javascript:;\" rel=\"nofollow\" class=\"j a_collect_btn\" name=\"sbtn-<%= id%>-collect\">看过</a>\\n                        <span>已在看</span>\\n                    <% } else if (collection_status === \\'P\\') { %>\\n                        <span>已看过</span>\\n                    <% } else { %>\\n                        <a href=\"javascript:;\" rel=\"nofollow\" class=\"j a_collect_btn\" name=\"sbtn-<%= id%>-wish\">想看</a>\\n                        <% if (is_tv) { %>\\n                            <a href=\"javascript:;\" rel=\"nofollow\" class=\"j a_collect_btn\" name=\"sbtn-<%= id%>-do\">在看</a>\\n                        <% } %>\\n                        <a href=\"javascript:;\" rel=\"nofollow\" class=\"j a_collect_btn\" name=\"sbtn-<%= id%>-collect\">看过</a>\\n                    <% } %>\\n                </p>\\n            </div>\\n            <% if (short_comment.content) {%>\\n            <p class=\"comment\">\\n                <%= short_comment.content%>\\n                <span>- <%= short_comment.author%>的短评</span>\\n            </p>\\n            <% } %>\\n        </div>\\n    </script>\\n\\n    <script type=\"text/tmpl\" id=\"gaia-slide-tmpl\">\\n        <div class=\"slider\">\\n            <div class=\"slide-container\" style=\"height: <%= slideHeight %>px;\">\\n                <div class=\"slide-wrapper\" style=\"width: <%= slideWidth * (pageCount + 2) %>px;\">\\n                    <div class=\"slide-page\" style=\"width: <%= slideWidth %>px;\" data-index=\"<%= pageCount - 1%>\"></div>\\n                    <% for (var i = 0; i < pageCount; i++) { %>\\n                        <div class=\"slide-page\" style=\"width: <%= slideWidth %>px;\" data-index=\"<%= i %>\"></div>\\n                    <% } %>\\n                    <div class=\"slide-page\" style=\"width: <%= slideWidth %>px;\" data-index=\"0\"></div>\\n                </div>\\n            </div>\\n            <div class=\"slide-ctrl ui-slide-control\">\\n                <a class=\"btn-prev\" href=\"javascript:void(0)\"></a>\\n                    <% for (var i = 0; i < pageCount; i++) { %>\\n                        <i class=\"dot <%= i === 0 ? \\'activate\\' : \\'\\' %>\" data-index=\"<%= i %>\"></i>\\n                    <% } %>\\n                <a class=\"btn-next\" href=\"javascript:void(0)\"></a>\\n            </div>\\n        </div>\\n    </script>\\n    \\n\\n</div>\\n\\n\\n        \\n        \\n<link rel=\"stylesheet\" href=\"https://img3.doubanio.com/f/movie/e27b13e6547399b3101c03fa007362ab4efc9e8f/css/movie/gallery.css\" />\\n<div id=\"gallery-frames\">\\n    <div class=\"gallery-hd\">\\n            <div class=\"gallery-ui-slide-control\">\\n                <span class=\"prev-btn\"><a class=\"gallery-btn-prev\" href=\"javascript:void(0)\"></a></span>\\n                <span class=\"next-btn\"><a class=\"gallery-btn-next\" href=\"javascript:void(0)\"></a></span>\\n            </div>\\n            <div class=\"slide-tip\"><span class=\"gallery-ui-slide-index\">1</span> / <span class=\"gallery-ui-slide-max\">2</span></div>\\n            <h2>热门推荐</h2>\\n    </div>\\n    <div id=\"hot-gallery\">\\n        <ul class=\\'ui-slide-content\\'>\\n                <li class=\\'ui-slide-item\\'>\\n                    \\n<div class=\"gallery-frame\">\\n        <a href=\"https://www.douban.com/note/713005596/?from=gallery\" target=\"_blank\" data-fid=\"3303\">\\n            <img src=\"https://img3.doubanio.com/view/movie_gallery_frame_hot_rec/normal/public/500b02274ef8206.jpg\" alt=\"“雷霆沙赞！”——小小的身体，大大的力量\" width=\"350\" height=\"240\"/>\\n        </a>\\n    <div class=\"gallery-detail\">\\n        <div class=\"gallery-hd\">\\n                <a href=\"https://www.douban.com/note/713005596/?from=gallery\" target=\"_blank\" data-fid=\"3303\">\\n                    <h3>“雷霆沙赞！”——小小的身体，大大的力量</h3>\\n                </a>\\n        </div>\\n        <div class=\"gallery-bd\">\\n            <p>\\n                豆瓣影人PRO专访演员扎克瑞·莱维~（文末有福利）\\n            </p>\\n        </div>\\n    </div>\\n</div>\\n\\n                </li>\\n                <li class=\\'ui-slide-item\\'>\\n                    \\n<div class=\"gallery-frame\">\\n        <a href=\"https://www.douban.com/note/711822936/?from=gallery\" target=\"_blank\" data-fid=\"3294\">\\n            <img src=\"https://img1.doubanio.com/view/movie_gallery_frame_hot_rec/normal/public/4fa89d934721878.jpg\" alt=\"四月追剧指南上线！《权游》大结局即将上演\" width=\"350\" height=\"240\"/>\\n        </a>\\n    <div class=\"gallery-detail\">\\n        <div class=\"gallery-hd\">\\n                <a href=\"https://www.douban.com/note/711822936/?from=gallery\" target=\"_blank\" data-fid=\"3294\">\\n                    <h3>四月追剧指南上线！《权游》大结局即将上演</h3>\\n                </a>\\n        </div>\\n        <div class=\"gallery-bd\">\\n            <p>\\n                除了《权力的游戏》，4月还有哪些神剧？\\n            </p>\\n        </div>\\n    </div>\\n</div>\\n\\n                </li>\\n        </ul>\\n    </div>\\n</div>\\n\\n\\n    \\n\\n    \\n    \\n    \\n    <div id=\"reviews\" class=\"s\" data-dstat-areaid=\"77\" data-dstat-mode=\"click,expose\">\\n        <div class=\"reviews-hd\">\\n            <h2>最受欢迎的影评<span><a href=\"/review/best/\">更多热门影评&raquo;</a></span><span><a href=\"/review/latest/\">新片影评&raquo;</a></span></h2>\\n        </div>\\n        <div class=\"reviews-bd\">\\n                \\n    <div class=\"review \">\\n        <div class=\"review-hd\">\\n            <a href=\"https://movie.douban.com/subject/1295409/?from=reviews\">\\n                    <img class=\"lazy\"\\n                        data-original=\"https://img3.doubanio.com/view/photo/s_ratio_poster/public/p2272146906.jpg\"\\n                        src=\"https://img3.doubanio.com/f/movie/54a69da17972770faffce1f758c820ecb8e440af/pics/movie/grey.gif\"\\n                        alt=\"纵横四海\" />\\n            </a>\\n        </div>\\n        <div class=\"review-bd\">\\n            <h3><a href=\"https://movie.douban.com/review/9581655/\" class=\"\">这是最好的结局</a></h3>\\n            <div class=\"review-meta\">\\n                <a href=\"https://www.douban.com/people/182719256/\">逆袭的泥巴</a> 评论\\n                <a href=\"https://movie.douban.com/subject/1295409/?from=reviews\">《纵横四海》</a>\\n\\n                    <span class=\"allstar40\"></span>\\n            </div>\\n            <div class=\"review-content\">\\n                其实我相信亚Joe一直都爱着红豆的，红豆最后是否还喜欢亚占我不确定，但是我觉得电影的结局是最好的结局。 亚占和亚Joe对爱的表达方式不同，亚占给人的感觉是体贴的，对红豆的照顾是全身心全方位的。亚Joe的对爱...\\n                    <a href=\"https://movie.douban.com/review/9581655/\">(全文)</a>\\n            </div>\\n        </div>\\n    </div>\\n\\n                \\n    <div class=\"review \">\\n        <div class=\"review-hd\">\\n            <a href=\"https://movie.douban.com/subject/26290398/?from=reviews\">\\n                    <img class=\"lazy\"\\n                        data-original=\"https://img1.doubanio.com/view/photo/s_ratio_poster/public/p2530385279.jpg\"\\n                        src=\"https://img3.doubanio.com/f/movie/54a69da17972770faffce1f758c820ecb8e440af/pics/movie/grey.gif\"\\n                        alt=\"美食大冒险之英雄烩\" />\\n            </a>\\n        </div>\\n        <div class=\"review-bd\">\\n            <h3><a href=\"https://movie.douban.com/review/9570036/\" class=\"\">我们有美食，我们也有功夫</a></h3>\\n            <div class=\"review-meta\">\\n                <a href=\"https://www.douban.com/people/shenshiliu/\">沈十六</a> 评论\\n                <a href=\"https://movie.douban.com/subject/26290398/?from=reviews\">《美食大冒险之英雄烩》</a>\\n\\n                    <span class=\"allstar50\"></span>\\n            </div>\\n            <div class=\"review-content\">\\n                这几年很多人都在喊“国漫崛起”、“xx是原创动画之光”，也会看到一些表现不俗的动画电影，比如每年一部的“大”系列——《大圣归来》、《大鱼海棠》、《大护法》。他们题材不同，风格各异，但都有笑点泪点，也...\\n                    <a href=\"https://movie.douban.com/review/9570036/\">(全文)</a>\\n            </div>\\n        </div>\\n    </div>\\n\\n                \\n    <div class=\"review \">\\n        <div class=\"review-hd\">\\n            <a href=\"https://movie.douban.com/subject/26985127/?from=reviews\">\\n                    <img class=\"lazy\"\\n                        data-original=\"https://img3.doubanio.com/view/photo/s_ratio_poster/public/p2529571873.jpg\"\\n                        src=\"https://img3.doubanio.com/f/movie/54a69da17972770faffce1f758c820ecb8e440af/pics/movie/grey.gif\"\\n                        alt=\"一出好戏\" />\\n            </a>\\n        </div>\\n        <div class=\"review-bd\">\\n            <h3><a href=\"https://movie.douban.com/review/9590031/\" class=\"\">黄渤暗藏的哲思，这篇看得最透——《一出好戏》终极解读</a></h3>\\n            <div class=\"review-meta\">\\n                <a href=\"https://www.douban.com/people/163694915/\">罗罔极</a> 评论\\n                <a href=\"https://movie.douban.com/subject/26985127/?from=reviews\">《一出好戏》</a>\\n\\n                    <span class=\"allstar40\"></span>\\n            </div>\\n            <div class=\"review-content\">\\n                前阵子，我犯了个错。 我在文章里说，当下的大陆喜剧，有两大派系分庭抗礼。 一派是徐峥宁浩，其作品核心偏于人间悲剧； 一派是开心麻花，其作品核心偏于纯粹喜剧。 没想到，现在又杀出个程咬金。 八年酝酿，慢工...\\n                    <a href=\"https://movie.douban.com/review/9590031/\">(全文)</a>\\n            </div>\\n        </div>\\n    </div>\\n\\n                \\n    <div class=\"review last\">\\n        <div class=\"review-hd\">\\n            <a href=\"https://movie.douban.com/subject/4739952/?from=reviews\">\\n                    <img class=\"lazy\"\\n                        data-original=\"https://img3.doubanio.com/view/photo/s_ratio_poster/public/p1505312273.jpg\"\\n                        src=\"https://img3.doubanio.com/f/movie/54a69da17972770faffce1f758c820ecb8e440af/pics/movie/grey.gif\"\\n                        alt=\"初恋这件小事\" />\\n            </a>\\n        </div>\\n        <div class=\"review-bd\">\\n            <h3><a href=\"https://movie.douban.com/review/9593388/\" class=\"\">深藏于心的那份青涩</a></h3>\\n            <div class=\"review-meta\">\\n                <a href=\"https://www.douban.com/people/132758789/\">男神的炎迪迪</a> 评论\\n                <a href=\"https://movie.douban.com/subject/4739952/?from=reviews\">《初恋这件小事》</a>\\n\\n                    <span class=\"allstar50\"></span>\\n            </div>\\n            <div class=\"review-content\">\\n                学长他就像我生命中的灵感，他让我了解爱的积极意义，他就像是让我一直前进的动力， 其实这部在内地12年上映的泰国校园爱情小清新电影，每次想到学生时期的那份纯纯爱恋，总是会把它再刷一遍，遍遍的感触都不同，...\\n                    <a href=\"https://movie.douban.com/review/9593388/\">(全文)</a>\\n            </div>\\n        </div>\\n    </div>\\n\\n        </div>\\n    </div>\\n\\n    \\n\\n\\n\\n            </div>\\n            <div class=\"aside\">\\n                \\n    \\n    \\n\\n    \\n    \\n\\n    <div class=\"rating_answer\">\\n        <ul>\\n            <li>\\n                <a href=\"https://blog.douban.com/douban/2015/12/18/3060/\" target=\"_blank\">豆瓣电影评分八问</a>\\n            </li>\\n        </ul>\\n    </div>\\n\\n\\n    <!-- douban ad begin -->\\n    <div id=\"dale_movie_home_top_right\" class=\"s\" data-dstat-areaid=\"71\" data-dstat-mode=\"click,expose\"></div>\\n    <!-- douban ad end -->\\n\\n    \\n  \\n  \\n  \\n  <div class=\"hot_link\">\\n    <h2> 电影活动 &nbsp;·&nbsp;·&nbsp;·&nbsp;·&nbsp;·&nbsp;· </h2>\\n    <ul>\\n          <li>\\n              <a href=\"https://www.douban.com/note/713005596/\" data-bid=\"2719\" target=\"_blank\">\\n                  专访“沙赞”——小身体大能量(福利)\\n              </a>\\n          </li>\\n          <li>\\n              <a href=\"https://www.douban.com/note/712584263/\" data-bid=\"2714\" target=\"_blank\">\\n                  观众到底想看什么样的怪兽片？\\n              </a>\\n          </li>\\n    </ul>\\n  </div>\\n\\n\\n    <!-- douban ad begin -->\\n    <div id=\"dale_movie_home_top_right_ford\" class=\"s\" data-dstat-areaid=\"71\" data-dstat-mode=\"click,expose\"></div>\\n    <div id=\"dale_movie_home_top_right2\" class=\"s\" data-dstat-areaid=\"71\" data-dstat-mode=\"click,expose\"></div>\\n    <!-- douban ad end -->\\n\\n    \\n    <div id=\"billboard\" class=\"s\" data-dstat-areaid=\"75\" data-dstat-mode=\"click,expose\">\\n        <div class=\"billboard-hd\">\\n            <h2>一周口碑榜<span><a href=\"/chart\">更多榜单&raquo;</a></span></h2>\\n        </div>\\n        <div class=\"billboard-bd\">\\n            <table>\\n                    <tr>\\n                        <td class=\"order\">1</td>\\n                        <td class=\"title\"><a onclick=\"moreurl(this, {from:\\'mv_rk\\'})\" href=\"https://movie.douban.com/subject/26728669/\">风中有朵雨做的云</a></td>\\n                    </tr>\\n                    <tr>\\n                        <td class=\"order\">2</td>\\n                        <td class=\"title\"><a onclick=\"moreurl(this, {from:\\'mv_rk\\'})\" href=\"https://movie.douban.com/subject/30192401/\">气球</a></td>\\n                    </tr>\\n                    <tr>\\n                        <td class=\"order\">3</td>\\n                        <td class=\"title\"><a onclick=\"moreurl(this, {from:\\'mv_rk\\'})\" href=\"https://movie.douban.com/subject/30334073/\">调音师</a></td>\\n                    </tr>\\n                    <tr>\\n                        <td class=\"order\">4</td>\\n                        <td class=\"title\"><a onclick=\"moreurl(this, {from:\\'mv_rk\\'})\" href=\"https://movie.douban.com/subject/26701196/\">无主之作</a></td>\\n                    </tr>\\n                    <tr>\\n                        <td class=\"order\">5</td>\\n                        <td class=\"title\"><a onclick=\"moreurl(this, {from:\\'mv_rk\\'})\" href=\"https://movie.douban.com/subject/27035460/\">永不止息</a></td>\\n                    </tr>\\n                    <tr>\\n                        <td class=\"order\">6</td>\\n                        <td class=\"title\"><a onclick=\"moreurl(this, {from:\\'mv_rk\\'})\" href=\"https://movie.douban.com/subject/2244426/\">雷霆沙赞！</a></td>\\n                    </tr>\\n                    <tr>\\n                        <td class=\"order\">7</td>\\n                        <td class=\"title\"><a onclick=\"moreurl(this, {from:\\'mv_rk\\'})\" href=\"https://movie.douban.com/subject/6538697/\">劫匪</a></td>\\n                    </tr>\\n                    <tr>\\n                        <td class=\"order\">8</td>\\n                        <td class=\"title\"><a onclick=\"moreurl(this, {from:\\'mv_rk\\'})\" href=\"https://movie.douban.com/subject/30433802/\">月事革命</a></td>\\n                    </tr>\\n                    <tr>\\n                        <td class=\"order\">9</td>\\n                        <td class=\"title\"><a onclick=\"moreurl(this, {from:\\'mv_rk\\'})\" href=\"https://movie.douban.com/subject/27133218/\">非我族类</a></td>\\n                    </tr>\\n                    <tr>\\n                        <td class=\"order\">10</td>\\n                        <td class=\"title\"><a onclick=\"moreurl(this, {from:\\'mv_rk\\'})\" href=\"https://movie.douban.com/subject/30218116/\">哈纳莱伊湾</a></td>\\n                    </tr>\\n            </table>\\n        </div>\\n    </div>\\n\\n    \\n\\n\\n    <!-- douban ad begin -->\\n    <div id=\"dale_movie_home_bottom_right\"></div>\\n    <!-- douban ad end -->\\n\\n    \\n    \\n\\n    <div id=\"doulist\">\\n        <h2>热门豆列</h2>\\n        <ul>\\n            <li>\\n            <span>75推荐</span>\\n            <div class=\"title\"><a target=\"_blank\" href=\"https://www.douban.com/doulist/275513/\">历史·人文 纪录片</a></div>\\n            </li>\\n            <li>\\n            <span>86推荐</span>\\n            <div class=\"title\"><a target=\"_blank\" href=\"https://www.douban.com/doulist/1125971/\">女孩们的故事【电影】</a></div>\\n            </li>\\n        </ul>\\n    </div>\\n\\n\\n    \\n    <div id=\"contact-and-cooperation\">\\n        <div class=\"contact-and-cooperation-hd\">\\n            <h2>合作联系</h2>\\n        </div>\\n        <div class=\"contact-and-cooperation-bd\">\\n            <ul>\\n                    <li>电影合作邮箱：<img src=\"https://img3.doubanio.com/f/movie/c858df348b4d199c848774ed1b3ed529052f0fa1/pics/movie/email_movie.png\"/></li>\\n                    <li>电视剧合作邮箱：\\n                        <img src=\"https://img3.doubanio.com/f/movie/4de38ce91fdad7bcf3246c2594c84fa800eba08a/pics/movie/email_tv.png\"/>\\n                        <img src=\"https://img3.doubanio.com/f/shire/486503da8c82ffdbecec41c065927f96cbf02e4f/pics/icon/ic_new.png\" class=\"new\" />\\n                    </li>\\n                    <li>豆瓣影人PRO合作邮箱：<img src=\"https://img3.doubanio.com/f/movie/51a921a21ca8b612d586d37d3eb122e583a20d67/pics/movie/email_pro.png\"/></li>\\n            </ul>\\n        </div>\\n    </div>\\n    \\n\\n    <br/>\\n    \\n    \\n    <div class=\"contact mod\">\\n        <h2>关注我们</h2>\\n        <ul class=\"embassy-list clearfix\">\\n            <li>\\n                <a href=\"https://weibo.com/doubanfilm\" target=\"_blank\" class=\"icon-embassy-weibo\"></a>\\n                <a href=\"https://weibo.com/doubanfilm\" target=\"_blank\" class=\"primary-link\">微博</a>\\n            </li>\\n            <li>\\n                <a class=\"icon-embassy-weixin\">\\n                    <div class=\"hover\"><img src=\"https://img3.doubanio.com/f/movie/2e2ea342f4f4590300de32c5f30a9184176b3541/pics/movie/home_wechat_qrcode@2x.jpg\" width=\"130px\" height=\"130px\"></div>\\n                </a>\\n                <a class=\"primary-link\" href=\"javascript:;\">微信</a>\\n            </li>\\n            <li>\\n                <a href=\"https://weibo.com/doubanzui\" target=\"_blank\" class=\"icon-embassy-bite-me\"></a>\\n                <a href=\"https://weibo.com/doubanzui\" target=\"_blank\" class=\"primary-link\">瓣嘴</a>\\n            </li>\\n            <li>\\n                <a href=\"https://www.douban.com/people/186015655/\" target=\"_blank\" class=\"icon-embassy-film-pro\"></a>\\n                <a href=\"https://www.douban.com/people/186015655/\" target=\"_blank\" class=\"primary-link\">豆瓣影人PRO</a>\\n            </li>\\n            <li>\\n                <a href=\"https://www.douban.com/people/nobodyfilm/\" target=\"_blank\" class=\"icon-embassy-club-site\"></a>\\n                <a href=\"https://www.douban.com/people/nobodyfilm/\" target=\"_blank\" class=\"primary-link\">观影club</a>\\n            </li>\\n        </ul>\\n    </div>\\n\\n    <!-- douban ad begin -->\\n    <div id=\"dale_movie_home_inner_bottom\"></div>\\n    <div id=\"dale_movie_home_download_bottom\"></div>\\n    <!-- douban ad end -->\\n\\n    <!-- douban ad begin -->\\n    <div id=\"dale_movie_home_bottom_right_down\"></div>\\n    <!-- douban ad end -->\\n\\n            </div>\\n            <div class=\"extra\">\\n                \\n    <!-- douban ad begin -->\\n    <div id=\"dale_movie_homepage_bottom\"></div>\\n    <!-- douban ad end -->\\n\\n            </div>\\n        </div>\\n    </div>\\n\\n        \\n    <div id=\"footer\">\\n            <div class=\"footer-extra\"></div>\\n        \\n<span id=\"icp\" class=\"fleft gray-link\">\\n    &copy; 2005－2019 douban.com, all rights reserved 北京豆网科技有限公司\\n</span>\\n\\n<a href=\"https://www.douban.com/hnypt/variformcyst.py\" style=\"display: none;\"></a>\\n\\n<span class=\"fright\">\\n    <a href=\"https://www.douban.com/about\">关于豆瓣</a>\\n    · <a href=\"https://www.douban.com/jobs\">在豆瓣工作</a>\\n    · <a href=\"https://www.douban.com/about?topic=contactus\">联系我们</a>\\n    · <a href=\"https://www.douban.com/about?policy=disclaimer\">免责声明</a>\\n    \\n    · <a href=\"https://help.douban.com/?app=movie\" target=\"_blank\">帮助中心</a>\\n    · <a href=\"https://www.douban.com/doubanapp/\">移动应用</a>\\n    · <a href=\"https://www.douban.com/partner/\">豆瓣广告</a>\\n</span>\\n\\n    </div>\\n\\n    </div>\\n    <script type=\"text/javascript\" src=\"https://img3.doubanio.com/misc/mixed_static/1dd9ea66a9b8c99b.js\"></script>\\n        \\n        \\n    <link rel=\"stylesheet\" type=\"text/css\" href=\"https://img3.doubanio.com/f/shire/8377b9498330a2e6f056d863987cc7a37eb4d486/css/ui/dialog.css\" />\\n    <link rel=\"stylesheet\" type=\"text/css\" href=\"https://img3.doubanio.com/f/movie/4aca95d66d37ec0712b3d19973b5d8feb75f2f05/css/movie/mod/reg_login_pop.css\" />\\n    <script type=\"text/javascript\" src=\"https://img3.doubanio.com/f/shire/77323ae72a612bba8b65f845491513ff3329b1bb/js/do.js\" data-cfg-autoload=\"false\"></script>\\n    <script type=\"text/javascript\" src=\"https://img3.doubanio.com/f/shire/4ea3216519a6183c7bcd4f7d1a6d4fd57ce1a244/js/ui/dialog.js\"></script>\\n    <script type=\"text/javascript\">\\n        var HTTPS_DB=\\'https://www.douban.com\\';\\nvar account_pop={open:function(o,e){e?referrer=\"?referrer=\"+encodeURIComponent(e):referrer=\"?referrer=\"+window.location.href;var n=\"\",i=\"\",t=448;n=\"用户登录\",i=\"https://accounts.douban.com/passport/login_popup?source=movie\";var r=document.location.protocol+\"//\"+document.location.hostname,a=dui.Dialog({width:340,title:n,height:t,cls:\"account_pop\",isHideTitle:!0,modal:!0,content:\"<iframe scrolling=\\'no\\' frameborder=\\'0\\' width=\\'340\\' height=\\'\"+t+\"\\' src=\\'\"+i+\"\\' name=\\'\"+r+\"\\'></iframe>\"},!0),c=a.node;if(c.undelegate(),c.delegate(\".dui-dialog-close\",\"click\",function(){var o=$(\"body\");o.find(\"#login_msk\").hide(),o.find(\".account_pop\").remove()}),$(window).width()<478){var d=\"\";\"reg\"===o?d=HTTPS_DB+\"/accounts/register\"+referrer:\"login\"===o&&(d=HTTPS_DB+\"/accounts/login\"+referrer),window.location.href=d}else a.open();$(window).bind(\"message\",function(o){\"https://accounts.douban.com\"===o.originalEvent.origin&&(c.find(\"iframe\").css(\"height\",o.originalEvent.data),c.height(o.originalEvent.data),a.update())})}};Douban&&Douban.init_show_login&&(Douban.init_show_login=function(o){var e=$(o);e.click(function(){var o=e.data(\"ref\")||\"\";return account_pop.open(\"login\",o),!1})}),Do(function(){$(\"body\").delegate(\".pop_register\",\"click\",function(o){o.preventDefault();var e=$(this).data(\"ref\")||\"\";return account_pop.open(\"reg\",e),!1}),$(\"body\").delegate(\".pop_login\",\"click\",function(o){o.preventDefault();var e=$(this).data(\"ref\")||\"\";return account_pop.open(\"login\",e),!1})});\\n    </script>\\n\\n    \\n    <!-- douban ad begin -->\\n    \\n    \\n\\n\\n\\n\\n    \\n<script type=\"text/javascript\">\\n    (function (global) {\\n        var newNode = global.document.createElement(\\'script\\'),\\n            existingNode = global.document.getElementsByTagName(\\'script\\')[0],\\n            adSource = \\'//erebor.douban.com/\\',\\n            userId = \\'\\',\\n            browserId = \\'v6Lr59NzxhI\\',\\n            criteria = \\'3:/\\',\\n            preview = \\'\\',\\n            debug = false,\\n            adSlots = [\\'dale_movie_homepage_top_large\\', \\'dale_movie_home_top_right\\', \\'dale_movie_home_top_right_ford\\', \\'dale_movie_home_top_right2\\', \\'dale_movie_home_main_top\\', \\'dale_movie_home_bottom_right\\', \\'dale_movie_homepage_bottom\\', \\'movie_home_left_bottom\\', \\'dale_movie_home_bottom_right_down\\', \\'dale_movie_home_inner_bottom\\', \\'dale_movie_home_download_bottom\\'];\\n\\n        global.DoubanAdRequest = {src: adSource, uid: userId, bid: browserId, crtr: criteria, prv: preview, debug: debug};\\n        global.DoubanAdSlots = (global.DoubanAdSlots || []).concat(adSlots);\\n\\n        newNode.setAttribute(\\'type\\', \\'text/javascript\\');\\n        newNode.setAttribute(\\'src\\', \\'https://img3.doubanio.com/f/adjs/f7fcb2dca1f33ff6108874c49190caff5f600e34/ad.release.js\\');\\n        newNode.setAttribute(\\'async\\', true);\\n        existingNode.parentNode.insertBefore(newNode, existingNode);\\n    })(this);\\n</script>\\n\\n\\n\\n\\n\\n\\n\\n\\n\\n\\n    <!-- douban ad end -->\\n    \\n\\n    \\n    \\n\\n\\n\\n\\n\\n\\n\\n\\n\\n<script type=\"text/javascript\">\\nvar _paq = _paq || [];\\n_paq.push([\\'trackPageView\\']);\\n_paq.push([\\'enableLinkTracking\\']);\\n(function() {\\n    var p=((\\'https:\\' == document.location.protocol) ? \\'https\\' : \\'http\\'), u=p+\\'://fundin.douban.com/\\';\\n    _paq.push([\\'setTrackerUrl\\', u+\\'piwik\\']);\\n    _paq.push([\\'setSiteId\\', \\'100001\\']);\\n    var d=document, g=d.createElement(\\'script\\'), s=d.getElementsByTagName(\\'script\\')[0];\\n    g.type=\\'text/javascript\\';\\n    g.defer=true;\\n    g.async=true;\\n    g.src=p+\\'://img3.doubanio.com/dae/fundin/piwik.js\\';\\n    s.parentNode.insertBefore(g,s);\\n})();\\n</script>\\n\\n<script type=\"text/javascript\">\\nvar setMethodWithNs = function(namespace) {\\n  var ns = namespace ? namespace + \\'.\\' : \\'\\'\\n    , fn = function(string) {\\n        if(!ns) {return string}\\n        return ns + string\\n      }\\n  return fn\\n}\\n\\nvar gaWithNamespace = function(fn, namespace) {\\n  var method = setMethodWithNs(namespace)\\n  fn.call(this, method)\\n}\\n\\nvar _gaq = _gaq || []\\n  , accounts = [\\n      { id: \\'UA-7019765-1\\', namespace: \\'douban\\' }\\n    , { id: \\'UA-7019765-19\\', namespace: \\'\\' }\\n    ]\\n  , gaInit = function(account) {\\n      gaWithNamespace(function(method) {\\n        gaInitFn.call(this, method, account)\\n      }, account.namespace)\\n    }\\n  , gaInitFn = function(method, account) {\\n      _gaq.push([method(\\'_setAccount\\'), account.id]);\\n      _gaq.push([method(\\'_setSampleRate\\'), \\'5\\']);\\n\\n      \\n  _gaq.push([method(\\'_addOrganic\\'), \\'google\\', \\'q\\'])\\n  _gaq.push([method(\\'_addOrganic\\'), \\'baidu\\', \\'wd\\'])\\n  _gaq.push([method(\\'_addOrganic\\'), \\'soso\\', \\'w\\'])\\n  _gaq.push([method(\\'_addOrganic\\'), \\'youdao\\', \\'q\\'])\\n  _gaq.push([method(\\'_addOrganic\\'), \\'so.360.cn\\', \\'q\\'])\\n  _gaq.push([method(\\'_addOrganic\\'), \\'sogou\\', \\'query\\'])\\n  if (account.namespace) {\\n    _gaq.push([method(\\'_addIgnoredOrganic\\'), \\'豆瓣\\'])\\n    _gaq.push([method(\\'_addIgnoredOrganic\\'), \\'douban\\'])\\n    _gaq.push([method(\\'_addIgnoredOrganic\\'), \\'豆瓣网\\'])\\n    _gaq.push([method(\\'_addIgnoredOrganic\\'), \\'www.douban.com\\'])\\n  }\\n\\n      if (account.namespace === \\'douban\\') {\\n        _gaq.push([method(\\'_setDomainName\\'), \\'.douban.com\\'])\\n      }\\n\\n        _gaq.push([method(\\'_setCustomVar\\'), 1, \\'responsive_view_mode\\', \\'desktop\\', 3])\\n\\n        _gaq.push([method(\\'_setCustomVar\\'), 2, \\'login_status\\', \\'0\\', 2]);\\n\\n      _gaq.push([method(\\'_trackPageview\\')])\\n    }\\n\\nfor(var i = 0, l = accounts.length; i < l; i++) {\\n  var account = accounts[i]\\n  gaInit(account)\\n}\\n\\n\\n;(function() {\\n    var ga = document.createElement(\\'script\\');\\n    ga.src = (\\'https:\\' == document.location.protocol ? \\'https://ssl\\' : \\'http://www\\') + \\'.google-analytics.com/ga.js\\';\\n    ga.setAttribute(\\'async\\', \\'true\\');\\n    document.documentElement.firstChild.appendChild(ga);\\n})()\\n</script>\\n\\n\\n\\n\\n\\n\\n\\n\\n      \\n    \\n\\n    <!-- brand11-docker-->\\n\\n  <script>_SPLITTEST=\\'\\'</script>\\n</body>\\n\\n</html>\\n\\n\\n'"
      ]
     },
     "execution_count": 16,
     "metadata": {},
     "output_type": "execute_result"
    }
   ],
   "source": [
    "# 正则表达式练习\n",
    "import requests\n",
    "url = \"https://movie.douban.com/\"\n",
    "response = requests.get(url)\n",
    "response.text"
   ]
  },
  {
   "cell_type": "code",
   "execution_count": 28,
   "metadata": {},
   "outputs": [],
   "source": [
    "url_pattern = re.compile('https://movie.douban.com/subject/\\d+/\\?from=showing')\n",
    "image_pattern = re.compile('https://img3.doubanio.com/view/photo/s_ratio_poster/public/\\w\\d+.\\w+')"
   ]
  },
  {
   "cell_type": "code",
   "execution_count": 24,
   "metadata": {
    "scrolled": true
   },
   "outputs": [
    {
     "data": {
      "text/plain": [
       "['https://movie.douban.com/subject/27202819/?from=showing',\n",
       " 'https://movie.douban.com/subject/27202819/?from=showing',\n",
       " 'https://movie.douban.com/subject/2244426/?from=showing',\n",
       " 'https://movie.douban.com/subject/2244426/?from=showing',\n",
       " 'https://movie.douban.com/subject/30334073/?from=showing',\n",
       " 'https://movie.douban.com/subject/30334073/?from=showing',\n",
       " 'https://movie.douban.com/subject/26728669/?from=showing',\n",
       " 'https://movie.douban.com/subject/26728669/?from=showing',\n",
       " 'https://movie.douban.com/subject/30164448/?from=showing',\n",
       " 'https://movie.douban.com/subject/30164448/?from=showing',\n",
       " 'https://movie.douban.com/subject/25924056/?from=showing',\n",
       " 'https://movie.douban.com/subject/25924056/?from=showing',\n",
       " 'https://movie.douban.com/subject/27663742/?from=showing',\n",
       " 'https://movie.douban.com/subject/27663742/?from=showing',\n",
       " 'https://movie.douban.com/subject/5300054/?from=showing',\n",
       " 'https://movie.douban.com/subject/5300054/?from=showing',\n",
       " 'https://movie.douban.com/subject/27624661/?from=showing',\n",
       " 'https://movie.douban.com/subject/27624661/?from=showing',\n",
       " 'https://movie.douban.com/subject/27060077/?from=showing',\n",
       " 'https://movie.douban.com/subject/27060077/?from=showing',\n",
       " 'https://movie.douban.com/subject/26715636/?from=showing',\n",
       " 'https://movie.douban.com/subject/26715636/?from=showing',\n",
       " 'https://movie.douban.com/subject/27063305/?from=showing',\n",
       " 'https://movie.douban.com/subject/27063305/?from=showing',\n",
       " 'https://movie.douban.com/subject/27179414/?from=showing',\n",
       " 'https://movie.douban.com/subject/27179414/?from=showing',\n",
       " 'https://movie.douban.com/subject/30288751/?from=showing',\n",
       " 'https://movie.douban.com/subject/30288751/?from=showing',\n",
       " 'https://movie.douban.com/subject/26266893/?from=showing',\n",
       " 'https://movie.douban.com/subject/26266893/?from=showing',\n",
       " 'https://movie.douban.com/subject/25833233/?from=showing',\n",
       " 'https://movie.douban.com/subject/25833233/?from=showing',\n",
       " 'https://movie.douban.com/subject/1652592/?from=showing',\n",
       " 'https://movie.douban.com/subject/1652592/?from=showing',\n",
       " 'https://movie.douban.com/subject/27150225/?from=showing',\n",
       " 'https://movie.douban.com/subject/27150225/?from=showing',\n",
       " 'https://movie.douban.com/subject/26909787/?from=showing',\n",
       " 'https://movie.douban.com/subject/26909787/?from=showing',\n",
       " 'https://movie.douban.com/subject/27602116/?from=showing',\n",
       " 'https://movie.douban.com/subject/27602116/?from=showing',\n",
       " 'https://movie.douban.com/subject/19899707/?from=showing',\n",
       " 'https://movie.douban.com/subject/19899707/?from=showing',\n",
       " 'https://movie.douban.com/subject/27042871/?from=showing',\n",
       " 'https://movie.douban.com/subject/27042871/?from=showing',\n",
       " 'https://movie.douban.com/subject/30205168/?from=showing',\n",
       " 'https://movie.douban.com/subject/30205168/?from=showing',\n",
       " 'https://movie.douban.com/subject/27040737/?from=showing',\n",
       " 'https://movie.douban.com/subject/27040737/?from=showing',\n",
       " 'https://movie.douban.com/subject/27191431/?from=showing',\n",
       " 'https://movie.douban.com/subject/27191431/?from=showing',\n",
       " 'https://movie.douban.com/subject/30145516/?from=showing',\n",
       " 'https://movie.douban.com/subject/30145516/?from=showing',\n",
       " 'https://movie.douban.com/subject/2123597/?from=showing',\n",
       " 'https://movie.douban.com/subject/2123597/?from=showing',\n",
       " 'https://movie.douban.com/subject/30384186/?from=showing',\n",
       " 'https://movie.douban.com/subject/30384186/?from=showing',\n",
       " 'https://movie.douban.com/subject/25884416/?from=showing',\n",
       " 'https://movie.douban.com/subject/25884416/?from=showing',\n",
       " 'https://movie.douban.com/subject/27132728/?from=showing',\n",
       " 'https://movie.douban.com/subject/27132728/?from=showing',\n",
       " 'https://movie.douban.com/subject/30474016/?from=showing',\n",
       " 'https://movie.douban.com/subject/30474016/?from=showing',\n",
       " 'https://movie.douban.com/subject/27135473/?from=showing',\n",
       " 'https://movie.douban.com/subject/27135473/?from=showing']"
      ]
     },
     "execution_count": 24,
     "metadata": {},
     "output_type": "execute_result"
    }
   ],
   "source": [
    "url_pattern.findall(response.text)"
   ]
  },
  {
   "cell_type": "code",
   "execution_count": 29,
   "metadata": {},
   "outputs": [
    {
     "data": {
      "text/plain": [
       "['https://img3.doubanio.com/view/photo/s_ratio_poster/public/p2551353482.jpg',\n",
       " 'https://img3.doubanio.com/view/photo/s_ratio_poster/public/p2551249211.jpg',\n",
       " 'https://img3.doubanio.com/view/photo/s_ratio_poster/public/p2552522615.jpg',\n",
       " 'https://img3.doubanio.com/view/photo/s_ratio_poster/public/p2551172384.jpg',\n",
       " 'https://img3.doubanio.com/view/photo/s_ratio_poster/public/p2549234765.jpg',\n",
       " 'https://img3.doubanio.com/view/photo/s_ratio_poster/public/p2549558913.jpg',\n",
       " 'https://img3.doubanio.com/view/photo/s_ratio_poster/public/p2549523952.jpg',\n",
       " 'https://img3.doubanio.com/view/photo/s_ratio_poster/public/p2549177902.jpg',\n",
       " 'https://img3.doubanio.com/view/photo/s_ratio_poster/public/p2549910141.jpg',\n",
       " 'https://img3.doubanio.com/view/photo/s_ratio_poster/public/p2551693460.jpg',\n",
       " 'https://img3.doubanio.com/view/photo/s_ratio_poster/public/p2552614343.jpg',\n",
       " 'https://img3.doubanio.com/view/photo/s_ratio_poster/public/p2545472803.jpg',\n",
       " 'https://img3.doubanio.com/view/photo/s_ratio_poster/public/p2549353234.jpg',\n",
       " 'https://img3.doubanio.com/view/photo/s_ratio_poster/public/p2544987866.jpg',\n",
       " 'https://img3.doubanio.com/view/photo/s_ratio_poster/public/p2548549246.jpg',\n",
       " 'https://img3.doubanio.com/view/photo/s_ratio_poster/public/p2551252121.jpg',\n",
       " 'https://img3.doubanio.com/view/photo/s_ratio_poster/public/p2546335362.jpg',\n",
       " 'https://img3.doubanio.com/view/photo/s_ratio_poster/public/p2551444674.jpg',\n",
       " 'https://img3.doubanio.com/view/photo/s_ratio_poster/public/p2550534680.jpg',\n",
       " 'https://img3.doubanio.com/view/photo/s_ratio_poster/public/p2549537782.jpg',\n",
       " 'https://img3.doubanio.com/view/photo/s_ratio_poster/public/p2550448960.jpg',\n",
       " 'https://img3.doubanio.com/view/photo/s_ratio_poster/public/p2327208920.jpg',\n",
       " 'https://img3.doubanio.com/view/photo/s_ratio_poster/public/p2551888133.jpg',\n",
       " 'https://img3.doubanio.com/view/photo/s_ratio_poster/public/p2550632216.jpg',\n",
       " 'https://img3.doubanio.com/view/photo/s_ratio_poster/public/p2546828235.jpg',\n",
       " 'https://img3.doubanio.com/view/photo/s_ratio_poster/public/p2272146906.jpg',\n",
       " 'https://img3.doubanio.com/view/photo/s_ratio_poster/public/p2529571873.jpg',\n",
       " 'https://img3.doubanio.com/view/photo/s_ratio_poster/public/p1505312273.jpg']"
      ]
     },
     "execution_count": 29,
     "metadata": {},
     "output_type": "execute_result"
    }
   ],
   "source": [
    "image_url = image_pattern.findall(response.text)\n",
    "image_url"
   ]
  },
  {
   "cell_type": "code",
   "execution_count": 15,
   "metadata": {},
   "outputs": [
    {
     "name": "stderr",
     "output_type": "stream",
     "text": [
      "Building prefix dict from the default dictionary ...\n",
      "Loading model from cache /var/folders/hm/t000krsj6_d1qbw9mt43jnzh0000gn/T/jieba.cache\n",
      "Loading model cost 1.877 seconds.\n",
      "Prefix dict has been built succesfully.\n"
     ]
    },
    {
     "data": {
      "text/plain": [
       "['测试', '一下']"
      ]
     },
     "execution_count": 15,
     "metadata": {},
     "output_type": "execute_result"
    }
   ],
   "source": [
    "# 中文分词\n",
    "import jieba\n",
    "\n",
    "def cut(string): return list(jieba.lcut(string))\n",
    "cut(\"测试一下\")"
   ]
  },
  {
   "cell_type": "code",
   "execution_count": 25,
   "metadata": {},
   "outputs": [],
   "source": [
    "# 存储全部的token\n",
    "# 过滤潜在的空token\n",
    "all_tokens = cut(TEXT)\n",
    "valid_tokens = [t for t in all_tokens if t.strip() and t!= 'n']"
   ]
  },
  {
   "cell_type": "code",
   "execution_count": 27,
   "metadata": {},
   "outputs": [
    {
     "name": "stdout",
     "output_type": "stream",
     "text": [
      "21906852\n",
      "17221785\n"
     ]
    }
   ],
   "source": [
    "print(len(all_tokens))\n",
    "print(len(valid_tokens))"
   ]
  },
  {
   "cell_type": "code",
   "execution_count": 32,
   "metadata": {},
   "outputs": [
    {
     "data": {
      "text/plain": [
       "['此外', '自', '本周', '6', '月', '12', '日', '起', '除', '小米']"
      ]
     },
     "execution_count": 32,
     "metadata": {},
     "output_type": "execute_result"
    }
   ],
   "source": [
    "valid_tokens[:10]"
   ]
  },
  {
   "cell_type": "code",
   "execution_count": 33,
   "metadata": {},
   "outputs": [
    {
     "data": {
      "text/plain": [
       "[('的', 703820),\n",
       " ('在', 264633),\n",
       " ('月', 189525),\n",
       " ('日', 169920),\n",
       " ('新华社', 142462),\n",
       " ('和', 134220),\n",
       " ('年', 123531),\n",
       " ('了', 121904),\n",
       " ('是', 100288),\n",
       " ('１', 88187)]"
      ]
     },
     "execution_count": 33,
     "metadata": {},
     "output_type": "execute_result"
    }
   ],
   "source": [
    "# 获取词频\n",
    "from collections import Counter\n",
    "words_count = Counter(valid_tokens)\n",
    "words_count.most_common(10)"
   ]
  },
  {
   "cell_type": "code",
   "execution_count": 34,
   "metadata": {},
   "outputs": [
    {
     "data": {
      "text/plain": [
       "[<matplotlib.lines.Line2D at 0x129a94748>]"
      ]
     },
     "execution_count": 34,
     "metadata": {},
     "output_type": "execute_result"
    },
    {
     "data": {
      "image/png": "[encoded data removed]",
      "text/plain": [
       "<Figure size 432x288 with 1 Axes>"
      ]
     },
     "metadata": {},
     "output_type": "display_data"
    }
   ],
   "source": [
    "# 打印出来前100个词频的分布\n",
    "%matplotlib inline\n",
    "frequences = [f for w, f in words_count.most_common(100)]\n",
    "x = [i for i in range(len(frequences[:100]))]\n",
    "plt.plot(x, frequences)"
   ]
  },
  {
   "cell_type": "code",
   "execution_count": 35,
   "metadata": {},
   "outputs": [
    {
     "data": {
      "text/plain": [
       "[<matplotlib.lines.Line2D at 0x131a37898>]"
      ]
     },
     "execution_count": 35,
     "metadata": {},
     "output_type": "execute_result"
    },
    {
     "data": {
      "image/png": "[encoded data removed]",
      "text/plain": [
       "<Figure size 432x288 with 1 Axes>"
      ]
     },
     "metadata": {},
     "output_type": "display_data"
    }
   ],
   "source": [
    "# 转换成log分布\n",
    "import numpy as np\n",
    "plt.plot(x, np.log(frequences))"
   ]
  },
  {
   "cell_type": "code",
   "execution_count": 36,
   "metadata": {},
   "outputs": [
    {
     "name": "stdout",
     "output_type": "stream",
     "text": [
      "the number of word: 17221785\n"
     ]
    }
   ],
   "source": [
    "# 获得所有词的词频，用于1-gram中的概率统计\n",
    "frequences_all = [f for w, f in words_count.most_common()]\n",
    "frequences_sum = sum(frequences_all)\n",
    "print(\"the number of word: {}\".format(frequences_sum))\n",
    "\n",
    "# 获得某一个词的概率\n",
    "def get_prob(word):\n",
    "    # 平滑项\n",
    "    esp = 1 / frequences_sum\n",
    "    if word in words_count:\n",
    "        return words_count[word] / frequences_sum\n",
    "    else:\n",
    "        return esp\n",
    "    \n",
    "def product(numbers):\n",
    "    return reduce(lambda n1, n2: n1 * n2, numbers)\n",
    "\n",
    "def language_model_one_gram(string):\n",
    "    words = cut(string)\n",
    "    return product([get_prob(word) for word in words])\n"
   ]
  },
  {
   "cell_type": "code",
   "execution_count": 37,
   "metadata": {},
   "outputs": [
    {
     "name": "stdout",
     "output_type": "stream",
     "text": [
      "4.8765684381069034e-14\n",
      "1.4511549339176565e-18\n",
      "3.766919391736006e-29\n"
     ]
    }
   ],
   "source": [
    "print(language_model_one_gram(\"广交会下个月举行\"))\n",
    "print(language_model_one_gram(\"长征火箭下周发射\"))\n",
    "print(language_model_one_gram(\"稀里哗啦我想吃撸串\"))\n"
   ]
  },
  {
   "cell_type": "code",
   "execution_count": 40,
   "metadata": {},
   "outputs": [
    {
     "name": "stdout",
     "output_type": "stream",
     "text": [
      "这是一个比较正常的句子 : 7.429984647015532e-22\n",
      "这个一个比较罕见的句子 : 1.7566783516469408e-22\n",
      "小明毕业于清华大学 : 3.039960976514903e-18\n",
      "小明毕业于秦华大学 : 5.813337476916057e-24\n"
     ]
    }
   ],
   "source": [
    "sentences = \"\"\"\n",
    "这是一个比较正常的句子\n",
    "这个一个比较罕见的句子\n",
    "小明毕业于清华大学\n",
    "小明毕业于秦华大学\n",
    "\"\"\".split()\n",
    "for sentence in sentences:\n",
    "    print(sentence, \":\", language_model_one_gram(sentence))"
   ]
  },
  {
   "cell_type": "code",
   "execution_count": 42,
   "metadata": {},
   "outputs": [
    {
     "name": "stdout",
     "output_type": "stream",
     "text": [
      "明天晚上请你吃大餐，我们一起吃苹果 is more possible\n",
      "---- 今天晚上请你吃大餐，我们一起吃日料 with probility 6.279484454158278e-50\n",
      "---- 明天晚上请你吃大餐，我们一起吃苹果 with probility 5.1533768284792506e-48\n",
      "真是一只好看的小猫 is more possible\n",
      "---- 真事一只好看的小猫 with probility 2.873219522813593e-25\n",
      "---- 真是一只好看的小猫 with probility 1.0935351206452033e-21\n",
      "今晚我去吃火锅 is more possible\n",
      "---- 我去吃火锅，今晚 with probility 6.876097222574346e-26\n",
      "---- 今晚我去吃火锅 with probility 1.1841866800627252e-18\n"
     ]
    }
   ],
   "source": [
    "need_compared = [\n",
    "    \"今天晚上请你吃大餐，我们一起吃日料 明天晚上请你吃大餐，我们一起吃苹果\",\n",
    "    \"真事一只好看的小猫 真是一只好看的小猫\",\n",
    "    \"我去吃火锅，今晚 今晚我去吃火锅\"]\n",
    "\n",
    "for s in need_compared:\n",
    "    sen1, sen2 = s.split()\n",
    "    p1, p2 = language_model_one_gram(sen1), language_model_one_gram(sen2)\n",
    "    \n",
    "    better = sen1 if p1 > p2 else sen2\n",
    "    \n",
    "    print('{} is more possible'.format(better))\n",
    "    print('-'*4 + ' {} with probility {}'.format(sen1, p1))\n",
    "    print('-'*4 + ' {} with probility {}'.format(sen2, p2))"
   ]
  },
  {
   "cell_type": "code",
   "execution_count": 49,
   "metadata": {},
   "outputs": [],
   "source": [
    "# 2-gram\n",
    "# 获取2-gram组合词\n",
    "valid_tokens = [str(t) for t in valid_tokens]\n",
    "all_2_gram_words = [''.join(valid_tokens[i:i+2]) for i in range(len(valid_tokens[:-2]))]\n",
    "_2_gram_sum = len(all_2_gram_words)\n",
    "_2_gram_counter = Counter(all_2_gram_words)\n",
    "\n",
    "# 计算联合概率\n",
    "def get_combination_prob(w1, w2):\n",
    "    if w1 + w2 in _2_gram_counter:\n",
    "        return _2_gram_counter[w1+w2] / _2_gram_sum\n",
    "    else:\n",
    "        return 1 / _2_gram_sum\n",
    "\n",
    "# 计算条件概率\n",
    "def get_prob_2_gram(w1, w2):\n",
    "    return get_combination_prob(w1, w2) / get_prob(w1)\n",
    " \n",
    "# 完成2-gram模型\n",
    "def language_model_two_gram(sentence):\n",
    "    sentence_probability = 1\n",
    "    words = cut(sentence)\n",
    "    for i, word in enumerate(words):\n",
    "        if i == 0:\n",
    "            prob = get_prob(word)\n",
    "        else:\n",
    "            previous = words[i-1]\n",
    "            prob = get_prob_2_gram(previous, word)\n",
    "        sentence_probability *= prob\n",
    "    return sentence_probability"
   ]
  },
  {
   "cell_type": "code",
   "execution_count": 51,
   "metadata": {},
   "outputs": [
    {
     "name": "stdout",
     "output_type": "stream",
     "text": [
      "1.8000459069772276e-06\n",
      "2.6129698649669433e-06\n",
      "8.129239579897157e-07\n",
      "0.0006857770649650213\n"
     ]
    }
   ],
   "source": [
    "print(get_combination_prob(\"去\", \"北京\"))\n",
    "print(get_combination_prob('苹果', '手机'))\n",
    "print(get_combination_prob('波音', '飞机'))\n",
    "print(get_prob_2_gram(\"去\", \"沈阳\"))"
   ]
  },
  {
   "cell_type": "code",
   "execution_count": 55,
   "metadata": {},
   "outputs": [
    {
     "name": "stdout",
     "output_type": "stream",
     "text": [
      "4.5133725473313174e-18\n",
      "3.9724842499924055e-18\n"
     ]
    }
   ],
   "source": [
    "print(language_model_two_gram('小明今天抽奖抽到一台苹果手机'))\n",
    "print(language_model_two_gram('小明今天抽奖抽到一台波音飞机'))"
   ]
  },
  {
   "cell_type": "code",
   "execution_count": 58,
   "metadata": {},
   "outputs": [
    {
     "name": "stdout",
     "output_type": "stream",
     "text": [
      "今天晚上请你吃大餐，我们一起吃日料 is more possible\n",
      "---- 今天晚上请你吃大餐，我们一起吃日料 with probility 6.895905640955031e-28\n",
      "---- 明天晚上请你吃大餐，我们一起吃苹果 with probility 5.516724512764024e-28\n",
      "真是一只好看的小猫 is more possible\n",
      "---- 真事一只好看的小猫 with probility 1.6570998748154123e-19\n",
      "---- 真是一只好看的小猫 with probility 3.4765951336188093e-16\n",
      "今晚我去吃火锅 is more possible\n",
      "---- 今晚我去吃火锅 with probility 6.82225584071837e-14\n",
      "---- 今晚火锅去吃我 with probility 9.986004768787415e-16\n",
      "养乐多绿来一杯 is more possible\n",
      "---- 洋葱奶昔来一杯 with probility 1.0579577386518395e-12\n",
      "---- 养乐多绿来一杯 with probility 5.806600374258542e-08\n"
     ]
    }
   ],
   "source": [
    "need_compared = [\n",
    "    \"今天晚上请你吃大餐，我们一起吃日料 明天晚上请你吃大餐，我们一起吃苹果\",\n",
    "    \"真事一只好看的小猫 真是一只好看的小猫\",\n",
    "    \"今晚我去吃火锅 今晚火锅去吃我\",\n",
    "    \"洋葱奶昔来一杯 养乐多绿来一杯\"\n",
    "]\n",
    "\n",
    "for s in need_compared:\n",
    "    s1, s2 = s.split()\n",
    "    p1, p2 = language_model_two_gram(s1), language_model_two_gram(s2)  \n",
    "    better = s1 if p1 > p2 else s2    \n",
    "    print('{} is more possible'.format(better))\n",
    "    print('-'*4 + ' {} with probility {}'.format(s1, p1))\n",
    "    print('-'*4 + ' {} with probility {}'.format(s2, p2))"
   ]
  },
  {
   "cell_type": "code",
   "execution_count": 62,
   "metadata": {},
   "outputs": [],
   "source": [
    "# 重温第一节课的语句生成\n",
    "grammar = \"\"\"\n",
    "sentence => noun_phrase verb_phrase \n",
    "noun_phrase => Article Adj* noun belong \n",
    "belong => de property\n",
    "de => 的\n",
    "property => 眼睛 | 裙子 | 胳膊 | 尾巴\n",
    "Adj* => null | Adj Adj*\n",
    "verb_phrase => verb noun_phrase\n",
    "Article =>  一个 | 这个\n",
    "noun =>   女人 |  篮球 | 桌子 | 小猫\n",
    "verb => 看着   |  坐在 |  听着 | 看见\n",
    "Adj =>   蓝色的 |  好看的 | 小小的\n",
    "\"\"\"\n",
    "\n",
    "import random\n",
    "def parse_grammer(grammar_str, sep=\"=>\"):\n",
    "    grammar = {}\n",
    "    for line in grammar_str.split(\"\\n\"):\n",
    "        line = line.strip()\n",
    "        if not line: continue\n",
    "        target, rules = line.split(sep)\n",
    "        grammar[target.strip()] = [r.split() for r in rules.split('|')]\n",
    "    return grammar\n",
    "\n",
    "def gene(grammar_parsed, target=\"sentence\"):\n",
    "    \n",
    "    if target not in grammar_parsed: return target\n",
    "    rule = random.choice(grammar_parsed[target])\n",
    "    return ''.join(gene(grammar_parsed, target=r) for r in rule if r!='null')"
   ]
  },
  {
   "cell_type": "code",
   "execution_count": 63,
   "metadata": {},
   "outputs": [],
   "source": [
    "g = parse_grammer(grammar)"
   ]
  },
  {
   "cell_type": "code",
   "execution_count": 66,
   "metadata": {
    "scrolled": true
   },
   "outputs": [
    {
     "data": {
      "text/plain": [
       "['一个女人的眼睛看见这个女人的胳膊',\n",
       " '一个女人的裙子看见这个女人的尾巴',\n",
       " '一个女人的尾巴坐在一个女人的裙子',\n",
       " '一个小猫的裙子看见一个女人的眼睛',\n",
       " '这个小猫的裙子看着这个女人的眼睛',\n",
       " '一个小猫的裙子坐在一个女人的眼睛',\n",
       " '这个桌子的眼睛看着这个桌子的眼睛',\n",
       " '一个女人的尾巴看见一个小猫的胳膊',\n",
       " '这个女人的胳膊看见这个小猫的胳膊',\n",
       " '一个桌子的尾巴看见一个女人的尾巴',\n",
       " '一个小猫的眼睛看见一个桌子的眼睛',\n",
       " '一个小小的桌子的裙子看见这个女人的胳膊',\n",
       " '一个女人的裙子看着这个小小的桌子的尾巴',\n",
       " '这个小猫的裙子看着这个小猫的胳膊',\n",
       " '一个篮球的尾巴坐在这个女人的眼睛',\n",
       " '一个女人的尾巴看见一个篮球的裙子',\n",
       " '一个桌子的胳膊听着一个女人的胳膊',\n",
       " '一个女人的裙子听着一个篮球的眼睛',\n",
       " '一个桌子的胳膊看见这个小小的桌子的眼睛',\n",
       " '这个篮球的裙子看见一个小猫的眼睛',\n",
       " '这个女人的尾巴坐在一个小猫的尾巴',\n",
       " '这个桌子的尾巴看见这个桌子的尾巴',\n",
       " '这个女人的裙子坐在这个小猫的裙子',\n",
       " '这个小猫的眼睛看见这个小小的女人的胳膊',\n",
       " '这个小小的小猫的胳膊看见一个桌子的眼睛',\n",
       " '这个桌子的裙子坐在这个小猫的胳膊',\n",
       " '一个女人的眼睛听着一个小猫的尾巴',\n",
       " '这个篮球的裙子看见这个篮球的胳膊',\n",
       " '一个小猫的裙子看见这个篮球的尾巴',\n",
       " '一个女人的眼睛听着一个篮球的尾巴',\n",
       " '这个篮球的胳膊看见这个小小的女人的裙子',\n",
       " '这个女人的尾巴听着这个桌子的尾巴',\n",
       " '这个篮球的胳膊坐在一个小猫的裙子',\n",
       " '一个小小的桌子的胳膊看着一个桌子的胳膊',\n",
       " '这个篮球的胳膊坐在这个桌子的尾巴',\n",
       " '一个桌子的眼睛看着一个小猫的裙子',\n",
       " '一个小小的桌子的胳膊听着这个小猫的眼睛',\n",
       " '这个篮球的眼睛看着这个小小的桌子的裙子',\n",
       " '一个桌子的尾巴看着一个篮球的裙子',\n",
       " '这个篮球的胳膊坐在这个篮球的尾巴',\n",
       " '一个篮球的尾巴听着一个小猫的尾巴',\n",
       " '一个小小的小小的女人的尾巴坐在一个小猫的胳膊',\n",
       " '这个小小的小小的桌子的眼睛看着这个桌子的尾巴',\n",
       " '一个小小的篮球的眼睛看着一个小小的桌子的尾巴',\n",
       " '一个小小的篮球的裙子听着一个篮球的尾巴',\n",
       " '一个女人的裙子看见一个小小的好看的篮球的眼睛',\n",
       " '一个蓝色的小猫的眼睛看见一个女人的尾巴',\n",
       " '一个女人的尾巴听着这个好看的小猫的眼睛',\n",
       " '这个小猫的尾巴看见一个好看的女人的裙子',\n",
       " '这个小猫的胳膊看着一个好看的小猫的眼睛',\n",
       " '这个女人的眼睛看着这个小小的好看的桌子的胳膊',\n",
       " '一个篮球的尾巴看见这个蓝色的女人的裙子',\n",
       " '这个桌子的胳膊看着一个好看的小猫的胳膊',\n",
       " '一个小小的蓝色的女人的胳膊看见一个小猫的尾巴',\n",
       " '这个好看的桌子的裙子坐在这个女人的尾巴',\n",
       " '一个蓝色的桌子的胳膊听着这个桌子的眼睛',\n",
       " '这个蓝色的桌子的裙子看着一个桌子的胳膊',\n",
       " '这个蓝色的篮球的尾巴听着一个桌子的眼睛',\n",
       " '这个蓝色的桌子的胳膊坐在这个桌子的尾巴',\n",
       " '一个小猫的胳膊看着一个好看的篮球的尾巴',\n",
       " '这个篮球的胳膊看着一个好看的小猫的裙子',\n",
       " '这个小小的桌子的胳膊听着一个好看的桌子的眼睛',\n",
       " '这个篮球的裙子坐在这个小小的蓝色的女人的尾巴',\n",
       " '一个篮球的眼睛听着这个好看的小猫的胳膊',\n",
       " '一个蓝色的小小的篮球的眼睛坐在一个女人的眼睛',\n",
       " '这个好看的小小的女人的胳膊看见这个篮球的眼睛',\n",
       " '一个女人的胳膊听着这个小小的小小的蓝色的小猫的眼睛',\n",
       " '这个小小的桌子的裙子看着一个小小的好看的小猫的胳膊',\n",
       " '这个小小的小小的小猫的尾巴听着这个小小的小小的小猫的眼睛',\n",
       " '一个小小的小小的小猫的胳膊坐在这个好看的女人的尾巴',\n",
       " '这个蓝色的小小的小猫的尾巴看着这个篮球的眼睛',\n",
       " '一个蓝色的蓝色的桌子的胳膊看见一个女人的胳膊',\n",
       " '一个好看的小小的篮球的胳膊看见一个桌子的尾巴',\n",
       " '一个蓝色的篮球的尾巴看着这个小小的蓝色的女人的眼睛',\n",
       " '一个蓝色的女人的尾巴看着一个好看的小猫的胳膊',\n",
       " '这个篮球的尾巴坐在一个蓝色的小小的篮球的胳膊',\n",
       " '一个女人的眼睛看见一个蓝色的好看的篮球的胳膊',\n",
       " '这个桌子的尾巴坐在这个好看的蓝色的小猫的胳膊',\n",
       " '这个蓝色的桌子的眼睛听着这个蓝色的女人的胳膊',\n",
       " '这个蓝色的蓝色的女人的眼睛听着这个篮球的尾巴',\n",
       " '一个蓝色的小猫的胳膊看着一个蓝色的桌子的裙子',\n",
       " '这个篮球的裙子看着一个好看的小小的好看的女人的眼睛',\n",
       " '这个蓝色的蓝色的篮球的尾巴听着一个小小的桌子的尾巴',\n",
       " '一个篮球的胳膊看见一个蓝色的小小的蓝色的篮球的眼睛',\n",
       " '一个蓝色的小小的小猫的裙子看着这个好看的篮球的尾巴',\n",
       " '一个好看的小小的好看的小猫的尾巴看见这个小小的桌子的胳膊',\n",
       " '一个好看的桌子的眼睛看见这个好看的蓝色的小猫的裙子',\n",
       " '这个蓝色的好看的女人的眼睛看见这个好看的篮球的胳膊',\n",
       " '这个小小的好看的桌子的裙子看见一个好看的蓝色的篮球的眼睛',\n",
       " '这个蓝色的好看的好看的篮球的胳膊听着一个女人的眼睛',\n",
       " '这个小小的小猫的眼睛看见一个好看的好看的小小的小小的小猫的眼睛',\n",
       " '这个篮球的裙子坐在这个蓝色的好看的好看的女人的裙子',\n",
       " '一个好看的蓝色的篮球的裙子坐在一个蓝色的小小的女人的裙子',\n",
       " '一个女人的胳膊看着一个蓝色的好看的好看的蓝色的好看的篮球的眼睛',\n",
       " '这个蓝色的桌子的裙子坐在这个蓝色的小小的小小的蓝色的好看的女人的尾巴',\n",
       " '一个蓝色的小小的好看的桌子的尾巴听着这个好看的好看的桌子的尾巴',\n",
       " '一个好看的好看的蓝色的好看的小小的蓝色的篮球的裙子看见一个桌子的尾巴',\n",
       " '一个蓝色的蓝色的蓝色的小小的小小的好看的好看的篮球的尾巴坐在这个女人的裙子',\n",
       " '这个篮球的胳膊看见这个好看的蓝色的蓝色的小小的好看的好看的小小的小小的蓝色的小猫的眼睛',\n",
       " '这个蓝色的蓝色的好看的好看的小猫的胳膊看着一个好看的好看的蓝色的蓝色的好看的好看的蓝色的小小的篮球的裙子']"
      ]
     },
     "execution_count": 66,
     "metadata": {},
     "output_type": "execute_result"
    }
   ],
   "source": [
    "# 随机生成\n",
    "random_generated = [gene(g) for _ in range(100)]\n",
    "sorted(random_generated, key=language_model_two_gram, reverse=True)"
   ]
  },
  {
   "cell_type": "markdown",
   "metadata": {},
   "source": [
    "## 2. Review the main points of this lesson. "
   ]
  },
  {
   "cell_type": "markdown",
   "metadata": {},
   "source": [
    "##### 1. How to Github and Why do we use Jupyter and Pycharm; "
   ]
  },
  {
   "cell_type": "markdown",
   "metadata": {},
   "source": [
    "**Github**: 可以帮助我们托管项目，利用git项目管理，实现项目的更新、迭代以及回撤，同时方便多人协作变成。另外Github上有大量公开代码，方便学习和使用！<br>\n",
    "**Jupyter**: 页面版的编译器，非常适合代码调试和页面输出，有一种所见即所得的感觉，同时页面嵌入了多种指令，既可以pip安装包资源，还能显示图像、表格，制作文档等等<br>\n",
    "**Pycharm**: 非常好用的python编译器。和intellij同属一家公司，代码补全、提示已经调试都非常方便快捷"
   ]
  },
  {
   "cell_type": "markdown",
   "metadata": {},
   "source": [
    "##### 2. What's the Probability Model?"
   ]
  },
  {
   "cell_type": "markdown",
   "metadata": {},
   "source": [
    "**Probability Model:**概率模型可分为有参和无参两种，有参的模型是有一组待优化参数，根据输入的数据进行如极大似然估计来更新参数；无参的模型有核方法和近邻法，在一个给定的区域中进行概率估计，判断输入哪一类的概率高，那么就属于这一类别，适用于做聚类"
   ]
  },
  {
   "cell_type": "markdown",
   "metadata": {},
   "source": [
    "##### 3. Can you came up with some sceneraies at which we could use Probability Model?"
   ]
  },
  {
   "cell_type": "markdown",
   "metadata": {},
   "source": [
    "比如鉴别文本，垃圾邮件分类、智能问答机器人等等"
   ]
  },
  {
   "cell_type": "markdown",
   "metadata": {},
   "source": [
    "##### 4. Why do we use probability and what's the difficult points for programming based on parsing and pattern match? \n"
   ]
  },
  {
   "cell_type": "markdown",
   "metadata": {},
   "source": [
    "在使用基于parse以及模板匹配的方法时，模板毕竟是人为定义，枚举类型有限，而且如果对大规模的语料进行人工处理的话开销非常大，算法的能力和规模会受到严重限制。而如果将文本看作是一系列概率计算的结果，将文本序列看作是一系列随机事件X1:T = <x1, x2... xT>，每个位置上的变量的样本空间是一个给定的词表V，具体使用哪个词可以看作一个随机事件，那么就不会受限于给定的语言规则，直接根据语料间的词汇分布进行学习"
   ]
  },
  {
   "cell_type": "markdown",
   "metadata": {},
   "source": [
    "##### 5. What's the Language Model;"
   ]
  },
  {
   "cell_type": "markdown",
   "metadata": {},
   "source": [
    "语言模型可分为统计语言模型和神经网络语言模型。统计语言模型基于传统的统计学模型，如n-gram、TF-IDF权重、词袋模型等等，将文本看作是多个词的概率相乘结果，考虑词之间的影响（TF-IDF和bag-of-word没考虑）；而神经网络语言模型则解决n-gram在n较大时数据稀疏的问题，将词映射到向量空间表示，学习词之间的相邻关系，并将结果用于下游各项任务中，常见的有word2vec、Glove、ELMO、OpenAI GPT以及BERT"
   ]
  },
  {
   "cell_type": "markdown",
   "metadata": {},
   "source": [
    "#####  6. Can you came up with some sceneraies at which we could use Language Model?"
   ]
  },
  {
   "cell_type": "markdown",
   "metadata": {},
   "source": [
    "文本分类、摘要生成、情感分类等等"
   ]
  },
  {
   "cell_type": "markdown",
   "metadata": {},
   "source": [
    "##### 7. What's the 1-gram language model;"
   ]
  },
  {
   "cell_type": "markdown",
   "metadata": {},
   "source": [
    "将一句话中所有词的出现都当作是一系列独立事件，词之间相互不受影响，按照自己的先验概率计算"
   ]
  },
  {
   "cell_type": "markdown",
   "metadata": {},
   "source": [
    "##### 8. What's the disadvantages and advantages of 1-gram language model;"
   ]
  },
  {
   "cell_type": "markdown",
   "metadata": {},
   "source": [
    "缺：忽略了词和词之间的相互影响，比如“火车”、“站”一起出现的概率就比“火车”、“头”出现的概率要高<br>\n",
    "优：计算词的概率非常简单，句子的生成直接是所有词的先验概率相乘"
   ]
  },
  {
   "cell_type": "markdown",
   "metadata": {},
   "source": [
    "##### 9.  What't the 2-gram models; "
   ]
  },
  {
   "cell_type": "markdown",
   "metadata": {},
   "source": [
    "2-gram模型考虑了相邻词之间的影响，即将句子分词，词语两两组合，计算第二个词在第一个词已经出现的情况下的条件概率，那么整个句子就是由一系列条件概率相乘得到，因为考虑到了相邻词的因素，性能相较于1-gram要好，对超现实的语句有判别能力"
   ]
  },
  {
   "cell_type": "markdown",
   "metadata": {},
   "source": [
    "##### 10. what's the web crawler, and can you implement a simple crawler? "
   ]
  },
  {
   "cell_type": "markdown",
   "metadata": {},
   "source": [
    "网页爬虫是一种爬取技术，可以自动将网页中特定的内容全数摘取下来，对于数据收集和采样非常有帮助。"
   ]
  },
  {
   "cell_type": "markdown",
   "metadata": {},
   "source": [
    "##### 11.  There may be some issues to make our crwaler programming difficult, what are these, and how do we solve them?"
   ]
  },
  {
   "cell_type": "markdown",
   "metadata": {},
   "source": [
    "其中一个难点就是正则表达式的设计，以及目标页面的防爬虫...前者只能练练练，后者就随机应变"
   ]
  },
  {
   "cell_type": "markdown",
   "metadata": {},
   "source": [
    "##### 12. What't the Regular Expression and how to use?"
   ]
  },
  {
   "cell_type": "markdown",
   "metadata": {},
   "source": [
    "一种匹配目标内容的模板，python可通过re包进行compile，然后对指定url下的内容依照模板爬取数据"
   ]
  },
  {
   "cell_type": "markdown",
   "metadata": {},
   "source": [
    "## 3. Using Wikipedia dataset to finish the language model. "
   ]
  },
  {
   "cell_type": "markdown",
   "metadata": {},
   "source": [
    "Step 1: You need to download the corpus from wikipedis:\n",
    "> https://dumps.wikimedia.org/zhwiki/20190401/\n",
    "\n",
    "Step 2: You may need the help of wiki-extractor:\n",
    "\n",
    "> https://github.com/attardi/wikiextractor\n",
    "\n",
    "Step 3: Using the technologies and methods to finish the language model; \n",
    "> \n",
    "\n",
    "Step 4: Try some interested sentence pairs, and check if your model could fit them\n",
    "\n",
    "> \n",
    "\n",
    "Step 5: If we need to solve following problems, how can language model help us? \n",
    "\n",
    "+ Voice Recognization.\n",
    "+ Sogou *pinyin* input.\n",
    "+ Auto correction in search engine. \n",
    "+ Abnormal Detection."
   ]
  },
  {
   "cell_type": "code",
   "execution_count": 33,
   "metadata": {},
   "outputs": [],
   "source": [
    "import os\n",
    "import re\n",
    "import jieba\n",
    "from functools import reduce\n",
    "from tqdm import tqdm"
   ]
  },
  {
   "cell_type": "code",
   "execution_count": 67,
   "metadata": {
    "scrolled": true
   },
   "outputs": [
    {
     "name": "stderr",
     "output_type": "stream",
     "text": [
      "100%|██████████| 100/100 [00:14<00:00,  6.40it/s]\n"
     ]
    }
   ],
   "source": [
    "# 读取wiki数据\n",
    "# 来源： JSON解压后的AB/所有文件\n",
    "directories = ['/Volumes/Transcend/WikiOutput/AB']\n",
    "#files = reduce(lambda f1, f2: f1 + f2, [os.listdir(dic) for dic in directories])\n",
    "files = ['/Volumes/Transcend/WikiOutput/AB/' + file for file in os.listdir(directories[0])]\n",
    "\n",
    "data_text = []\n",
    "for file in tqdm(files):\n",
    "    with open(file,\"r\",encoding='utf-8') as f:\n",
    "        data = f.readlines()\n",
    "        for item in data:\n",
    "            try:\n",
    "                data_text.append(eval(item)['text'])\n",
    "            except ValueError:\n",
    "                continue\n"
   ]
  },
  {
   "cell_type": "code",
   "execution_count": 75,
   "metadata": {},
   "outputs": [],
   "source": [
    "def token(string):\n",
    "    return ' '.join(re.findall('[\\w|\\d]+', string))\n",
    "def cut(string):\n",
    "    return list(jieba.cut(string))\n",
    "\n",
    "def get_prob(word):\n",
    "    if word in word_counter:\n",
    "        return word_counter[word]/frequents_sum\n",
    "    else:\n",
    "        return eps\n",
    "def product(numbers):\n",
    "    return reduce(lambda n1,n2: n1*n2, numbers)"
   ]
  },
  {
   "cell_type": "code",
   "execution_count": 71,
   "metadata": {},
   "outputs": [
    {
     "name": "stderr",
     "output_type": "stream",
     "text": [
      "100%|██████████| 30192/30192 [00:03<00:00, 9133.50it/s] \n",
      "100%|██████████| 30192/30192 [00:00<00:00, 95541.57it/s]"
     ]
    },
    {
     "name": "stdout",
     "output_type": "stream",
     "text": [
      "length of text: 35610212\n"
     ]
    },
    {
     "name": "stderr",
     "output_type": "stream",
     "text": [
      "\n"
     ]
    }
   ],
   "source": [
    "all_tokens = [token(str(text)) for text in tqdm(data_text)]\n",
    "text = ''\n",
    "for a in tqdm(all_tokens):\n",
    "    text += a\n",
    "print('length of text: {}'.format(len(text)))"
   ]
  },
  {
   "cell_type": "code",
   "execution_count": 73,
   "metadata": {},
   "outputs": [
    {
     "data": {
      "text/plain": [
       "35610212"
      ]
     },
     "execution_count": 73,
     "metadata": {},
     "output_type": "execute_result"
    }
   ],
   "source": [
    "len(text)"
   ]
  },
  {
   "cell_type": "code",
   "execution_count": 77,
   "metadata": {},
   "outputs": [
    {
     "data": {
      "text/plain": [
       "'萬民福音部 萬民福音部 是羅馬教廷的之一 為天主教會的最高宣教機構 隸屬於教廷國務院 原名傳信部 意為 傳佈信仰聖部 另譯傳道議會 傳道總會 由教宗額我略十五世於1622年成立 負責與天主教會有關的宣'"
      ]
     },
     "execution_count": 77,
     "metadata": {},
     "output_type": "execute_result"
    }
   ],
   "source": [
    "text[:100]"
   ]
  },
  {
   "cell_type": "code",
   "execution_count": 82,
   "metadata": {},
   "outputs": [],
   "source": [
    "all_tokens = cut(text)\n",
    "valid_tokens = [t for t in all_tokens if t.strip() and t != 'n']"
   ]
  },
  {
   "cell_type": "code",
   "execution_count": 84,
   "metadata": {},
   "outputs": [],
   "source": [
    "from collections import Counter\n",
    "word_counter = Counter(valid_tokens)\n",
    "frequents = [f for w, f in word_counter.most_common()]\n",
    "frequents_sum = sum(frequents)\n",
    "eps = 1 / frequents_sum"
   ]
  },
  {
   "cell_type": "code",
   "execution_count": 85,
   "metadata": {},
   "outputs": [],
   "source": [
    "all_2_grams_words = [''.join(valid_tokens[i:i+2]) for i in range(len(valid_tokens[:-2]))]\n",
    "_2_gram_sum = len(all_2_grams_words)\n",
    "_2_gram_counter = Counter(all_2_grams_words)\n",
    "\n",
    "def get_combination_prob(w1,w2):\n",
    "    if w1+w2 in _2_gram_counter: return _2_gram_counter[w1+w2] / _2_gram_sum\n",
    "    else:\n",
    "        return 1/_2_gram_sum\n",
    "\n",
    "def get_two_gram_prob(w1,w2):\n",
    "    return get_combination_prob(w1,w2) / get_prob(w1)\n",
    "\n",
    "def language_two_gram(sentence):\n",
    "    sentence_probability = 1\n",
    "    words = cut(sentence)\n",
    "    for i,word in enumerate(words):\n",
    "        if i==0:\n",
    "            prob = get_prob(word)\n",
    "        else:\n",
    "            previous = words[i-1]\n",
    "            prob = get_two_gram_prob(previous, word)\n",
    "        sentence_probability *= prob\n",
    "    return sentence_probability"
   ]
  },
  {
   "cell_type": "code",
   "execution_count": 105,
   "metadata": {},
   "outputs": [
    {
     "data": {
      "text/plain": [
       "1.1662358436719838e-17"
      ]
     },
     "execution_count": 105,
     "metadata": {},
     "output_type": "execute_result"
    }
   ],
   "source": [
    "language_two_gram(\"晚上突然想听维也纳爱乐\")"
   ]
  },
  {
   "cell_type": "code",
   "execution_count": 107,
   "metadata": {},
   "outputs": [
    {
     "data": {
      "text/plain": [
       "8.621157299928209e-22"
      ]
     },
     "execution_count": 107,
     "metadata": {},
     "output_type": "execute_result"
    }
   ],
   "source": [
    "language_two_gram(\"晚上突然想听郭德纲的相声\")"
   ]
  },
  {
   "cell_type": "markdown",
   "metadata": {},
   "source": [
    "### Compared to the previous learned parsing and pattern match problems. What's the advantage and disavantage of Probability Based Methods? "
   ]
  },
  {
   "cell_type": "markdown",
   "metadata": {},
   "source": [
    "基于概率的模型可以适用于更多更普遍的句子模式，根据语料本身的信息（条件概率）计算每个词在相应位置出现的概率，还能为给定的句子判断真假；\n",
    "缺点是会生成语句不通顺、同时如果相邻词关系考虑多的话会增加非常多的计算量"
   ]
  },
  {
   "cell_type": "markdown",
   "metadata": {},
   "source": [
    "## (Optional)  How to solve *OOV* problem?\n",
    "\n",
    "If some words are not in our dictionary or corpus. When we using language model, we need to overcome this `out-of-vocabulary`(OOV) problems. There are so many intelligent man to solve this probelm. \n",
    "\n",
    "-- \n",
    "\n",
    "The first question is: \n",
    "\n",
    "**Q1: How did you solve this problem in your programming task?**"
   ]
  },
  {
   "cell_type": "markdown",
   "metadata": {},
   "source": [
    "最常规的处理是用一个固定值(fixed)代替，或者使用wordnet等等找到相似词，并查找是否相似词存在于词表中"
   ]
  },
  {
   "cell_type": "markdown",
   "metadata": {},
   "source": [
    "Then, the sencond question is: "
   ]
  },
  {
   "cell_type": "markdown",
   "metadata": {},
   "source": [
    "**Q2: Read about the 'Turing-Good Estimator', can explain the main points about this method, and may implement this method in your programming task**\n",
    "\n",
    "Reference: \n",
    "+ https://www.wikiwand.com/en/Good%E2%80%93Turing_frequency_estimation\n",
    "+ https://github.com/Computing-Intelligence/References/blob/master/NLP/Natural-Language-Processing.pdf, Page-37"
   ]
  },
  {
   "cell_type": "markdown",
   "metadata": {},
   "source": [
    "> coding in here"
   ]
  }
 ],
 "metadata": {
  "kernelspec": {
   "display_name": "Python 3",
   "language": "python",
   "name": "python3"
  },
  "language_info": {
   "codemirror_mode": {
    "name": "ipython",
    "version": 3
   },
   "file_extension": ".py",
   "mimetype": "text/x-python",
   "name": "python",
   "nbconvert_exporter": "python",
   "pygments_lexer": "ipython3",
   "version": "3.6.8"
  }
 },
 "nbformat": 4,
 "nbformat_minor": 2
}
