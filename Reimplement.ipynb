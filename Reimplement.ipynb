{
 "cells": [
  {
   "cell_type": "markdown",
   "metadata": {},
   "source": [
    "# search map"
   ]
  },
  {
   "cell_type": "code",
   "execution_count": 1,
   "metadata": {},
   "outputs": [
    {
     "data": {
      "image/png": "[encoded data removed]",
      "text/plain": [
       "<Figure size 432x288 with 1 Axes>"
      ]
     },
     "metadata": {},
     "output_type": "display_data"
    }
   ],
   "source": [
    "import networkx as nx\n",
    "%matplotlib inline\n",
    "\n",
    "# 输入所有的路径\n",
    "BEIJING, CHANGCHUN, MULUMUQI, WUHAN, GUNAGHZOU, SHENZHEN, BANGKOK, SHANGHAI, NEWYORK = \"\"\"\n",
    "BEIJING CHANGCHUN MULUMUQI WUHAN GUANGZHOU SHENZHEN BANGKOK SHANGHAI NEWYORK\n",
    "\"\"\".split()\n",
    "\n",
    "# 存储字典\n",
    "connection = {\n",
    "    CHANGCHUN: [BEIJING],\n",
    "    MULUMUQI: [BEIJING], \n",
    "    BEIJING: [MULUMUQI, CHANGCHUN, WUHAN, SHENZHEN, NEWYORK],\n",
    "    NEWYORK: [BEIJING, SHANGHAI],\n",
    "    SHANGHAI: [NEWYORK, WUHAN],\n",
    "    WUHAN: [SHANGHAI, BEIJING, GUNAGHZOU],\n",
    "    GUNAGHZOU: [WUHAN, BANGKOK],\n",
    "    SHENZHEN: [WUHAN, BANGKOK],\n",
    "    BANGKOK: [SHENZHEN, GUNAGHZOU]\n",
    "}\n",
    "\n",
    "# 画出图像\n",
    "graph = connection\n",
    "g = nx.Graph(graph)\n",
    "nx.draw(g)"
   ]
  },
  {
   "cell_type": "code",
   "execution_count": 45,
   "metadata": {},
   "outputs": [],
   "source": [
    "# 广度方式找到路径\n",
    "def findPath_bfs(start, end, graph_connection):\n",
    "    paths = [[start],]\n",
    "    seen = set()\n",
    "    # 使用了栈作为检索\n",
    "    while(len(paths)!=0):\n",
    "        path = paths.pop(0)\n",
    "        cur_pos = path[-1]\n",
    "        if cur_pos in seen: continue\n",
    "        neighbors = graph_connection[cur_pos]\n",
    "        #print(\"now: {}, next: {}\".format(path, neighbors))\n",
    "        for candidate in neighbors:\n",
    "            if candidate == end:\n",
    "                path.append(candidate)\n",
    "                return path\n",
    "            else:\n",
    "                paths.append(path + [candidate])\n",
    "        paths = sorted(paths, key=len)\n",
    "        #print(paths)\n",
    "        seen.add(cur_pos)\n",
    "        "
   ]
  },
  {
   "cell_type": "code",
   "execution_count": 58,
   "metadata": {},
   "outputs": [],
   "source": [
    "# 深度优先找到路径\n",
    "def findPath_dfs(start, end, graph_connection):\n",
    "    paths = [[start],]\n",
    "    seen = set()\n",
    "    while(len(paths)!=0):\n",
    "        path = paths.pop()\n",
    "        cur_pos = path[-1]\n",
    "        #print(cur_pos)\n",
    "        if cur_pos in seen: continue\n",
    "        neighbors = graph_connection[cur_pos]\n",
    "        #print(\"now: {}, next: {}\".format(path, neighbors))\n",
    "        for candidate in neighbors:\n",
    "            if candidate == end:\n",
    "                path.append(candidate)\n",
    "                return path\n",
    "            else:\n",
    "                paths.append(path + [candidate])\n",
    "        paths = sorted(paths, key=len, reverse=True)\n",
    "        #print(paths)\n",
    "        seen.add(cur_pos)"
   ]
  },
  {
   "cell_type": "code",
   "execution_count": 59,
   "metadata": {},
   "outputs": [
    {
     "name": "stdout",
     "output_type": "stream",
     "text": [
      "MULUMUQI✈️->BEIJING✈️->SHENZHEN✈️->BANGKOK\n"
     ]
    }
   ],
   "source": [
    "# 可视化路径\n",
    "def draw_route(router):\n",
    "    print(\"✈️->\".join(router))\n",
    "draw_route(findPath_bfs(MULUMUQI, BANGKOK, graph))"
   ]
  },
  {
   "cell_type": "code",
   "execution_count": 60,
   "metadata": {},
   "outputs": [
    {
     "name": "stdout",
     "output_type": "stream",
     "text": [
      "MULUMUQI✈️->BEIJING✈️->SHENZHEN✈️->BANGKOK\n"
     ]
    }
   ],
   "source": [
    "draw_route(findPath_dfs(MULUMUQI, BANGKOK, graph))"
   ]
  },
  {
   "cell_type": "markdown",
   "metadata": {},
   "source": [
    "# generate sentence"
   ]
  },
  {
   "cell_type": "code",
   "execution_count": 61,
   "metadata": {},
   "outputs": [],
   "source": [
    "# 定义规则\n",
    "import random\n",
    "\n",
    "decimal_grammar = \"\"\"\n",
    "expression = operator op operator\n",
    "operator = num op num\n",
    "num = 0 | 1 | 2 | 3 | 4 | 5 | 6 | 7 | 8 | 9 | num num\n",
    "op = + | - | * | /\n",
    "\"\"\"\n",
    "\n",
    "grammar1 = \"\"\"\n",
    "stmt = if block else block\n",
    "block = cmp; assigment\n",
    "assgiment = XXX\n",
    "XXX\n",
    "\"\"\"\n",
    "\n",
    "grammar2 = \"\"\"\n",
    "sentence => noun_phrase verb_phrase \n",
    "noun_phrase => Article Adj* noun\n",
    "Adj* => null | Adj Adj*\n",
    "verb_phrase => verb noun_phrase\n",
    "Article =>  一个 | 这个\n",
    "noun =>   女人 |  篮球 | 桌子 | 小猫\n",
    "verb => 看着   |  坐在 |  听着 | 看见\n",
    "Adj =>   蓝色的 |  好看的 | 小小的\n",
    "\"\"\""
   ]
  },
  {
   "cell_type": "code",
   "execution_count": 67,
   "metadata": {},
   "outputs": [],
   "source": [
    "# 解析语法结构，存储成字典形式\n",
    "def parse_grammar(grammar_str, sep='=>'):\n",
    "    grammar = {}\n",
    "    for line in grammar_str.split('\\n'): \n",
    "        line = line.strip()\n",
    "        if not line: continue\n",
    "        \n",
    "        target, rules = line.split(sep)\n",
    "        \n",
    "        grammar[target.strip()] = [r.split() for r in rules.split('|')]\n",
    "    \n",
    "    return grammar"
   ]
  },
  {
   "cell_type": "code",
   "execution_count": 68,
   "metadata": {},
   "outputs": [],
   "source": [
    "g = parse_grammar(grammar2)"
   ]
  },
  {
   "cell_type": "code",
   "execution_count": 71,
   "metadata": {},
   "outputs": [
    {
     "data": {
      "text/plain": [
       "{'Adj': [['蓝色的'], ['好看的'], ['小小的']],\n",
       " 'Adj*': [['null'], ['Adj', 'Adj*']],\n",
       " 'Article': [['一个'], ['这个']],\n",
       " 'noun': [['女人'], ['篮球'], ['桌子'], ['小猫']],\n",
       " 'noun_phrase': [['Article', 'Adj*', 'noun']],\n",
       " 'sentence': [['noun_phrase', 'verb_phrase']],\n",
       " 'verb': [['看着'], ['坐在'], ['听着'], ['看见']],\n",
       " 'verb_phrase': [['verb', 'noun_phrase']]}"
      ]
     },
     "execution_count": 71,
     "metadata": {},
     "output_type": "execute_result"
    }
   ],
   "source": [
    "g"
   ]
  },
  {
   "cell_type": "code",
   "execution_count": 69,
   "metadata": {},
   "outputs": [],
   "source": [
    "# 递归实现自动化生成文本\n",
    "def gene(grammar_parsed, target='sentence'):\n",
    "    # 如果出现的target并不在语法结构中（字典的keys），那么就是纯文本，直接输出即可\n",
    "    if target not in grammar_parsed: return target\n",
    "    \n",
    "    rule = random.choice(grammar_parsed[target])\n",
    "    return ''.join(gene(grammar_parsed, target=r) for r in rule if r!='null')"
   ]
  },
  {
   "cell_type": "code",
   "execution_count": 70,
   "metadata": {},
   "outputs": [
    {
     "data": {
      "text/plain": [
       "'一个好看的篮球坐在一个桌子'"
      ]
     },
     "execution_count": 70,
     "metadata": {},
     "output_type": "execute_result"
    }
   ],
   "source": [
    "gene(g)"
   ]
  },
  {
   "cell_type": "code",
   "execution_count": 66,
   "metadata": {},
   "outputs": [
    {
     "name": "stdout",
     "output_type": "stream",
     "text": [
      "9*4/9/1\n",
      "4-4+8-0\n",
      "4/1/2+5\n",
      "727/2-9+1\n",
      "1+0+05+9\n",
      "5*0-0/6\n",
      "1-7+9-5\n",
      "8*7-5*7\n",
      "8-6*1-4\n",
      "2*5+8-8\n",
      "3-5+6+3\n",
      "6/4/7*2\n",
      "3/4-6/9\n",
      "8+1/3/5\n",
      "4/9+22-8\n",
      "4+9+3/5\n",
      "7+2/5+5\n",
      "7/5+2/8\n",
      "9-97*9+4\n",
      "5*4*3/5\n"
     ]
    }
   ],
   "source": [
    "# 数学\n",
    "for i in range(20):\n",
    "    print(gene(parse_grammar(decimal_grammar, sep='='), target='expression'))"
   ]
  },
  {
   "cell_type": "code",
   "execution_count": null,
   "metadata": {},
   "outputs": [],
   "source": []
  }
 ],
 "metadata": {
  "kernelspec": {
   "display_name": "Python 3",
   "language": "python",
   "name": "python3"
  },
  "language_info": {
   "codemirror_mode": {
    "name": "ipython",
    "version": 3
   },
   "file_extension": ".py",
   "mimetype": "text/x-python",
   "name": "python",
   "nbconvert_exporter": "python",
   "pygments_lexer": "ipython3",
   "version": "3.6.8"
  }
 },
 "nbformat": 4,
 "nbformat_minor": 2
}
